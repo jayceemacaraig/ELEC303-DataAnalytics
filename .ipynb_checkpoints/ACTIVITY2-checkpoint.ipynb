{
 "cells": [
  {
   "cell_type": "markdown",
   "id": "6d1bf682-dd5b-4ea3-901e-cc590d5f3236",
   "metadata": {},
   "source": [
    "<h1 style='text-align: center;'>UK ROAD ACCIDENT DATA ANALYSIS</h1>\n",
    "<br>\n",
    "<h2 style='text-align: center;'>JAY CEE I. MACARAIG</h2>\n",
    "<h3 style='text-align: center;'>BSIT - 3B</h3>\n",
    "<hr>"
   ]
  },
  {
   "cell_type": "markdown",
   "id": "e52cc781-a4b5-4e38-8a15-8347d3a13444",
   "metadata": {},
   "source": [
    "<h2>IMPORTING IMPORTANT LIBRARIES</h2>"
   ]
  },
  {
   "cell_type": "code",
   "execution_count": 1,
   "id": "57414005-7c0f-4312-a1ba-7d0a8d0683e4",
   "metadata": {},
   "outputs": [],
   "source": [
    "from scipy.stats import f_oneway\n",
    "import numpy as np\n",
    "import pandas as pd\n",
    "import matplotlib.pyplot as plt\n",
    "import warnings\n",
    "\n",
    "warnings.filterwarnings('ignore')"
   ]
  },
  {
   "cell_type": "code",
   "execution_count": 2,
   "id": "250eddfd-f821-452b-a7a1-c22cd9d5ed96",
   "metadata": {},
   "outputs": [],
   "source": [
    "data = pd.read_csv('datasets\\\\uk_road_accident.csv')"
   ]
  },
  {
   "cell_type": "code",
   "execution_count": 3,
   "id": "5c466aa4-9ad1-42ac-bdf6-201de350987c",
   "metadata": {},
   "outputs": [
    {
     "data": {
      "text/html": [
       "<div>\n",
       "<style scoped>\n",
       "    .dataframe tbody tr th:only-of-type {\n",
       "        vertical-align: middle;\n",
       "    }\n",
       "\n",
       "    .dataframe tbody tr th {\n",
       "        vertical-align: top;\n",
       "    }\n",
       "\n",
       "    .dataframe thead th {\n",
       "        text-align: right;\n",
       "    }\n",
       "</style>\n",
       "<table border=\"1\" class=\"dataframe\">\n",
       "  <thead>\n",
       "    <tr style=\"text-align: right;\">\n",
       "      <th></th>\n",
       "      <th>Index</th>\n",
       "      <th>Accident_Severity</th>\n",
       "      <th>Accident Date</th>\n",
       "      <th>Latitude</th>\n",
       "      <th>Light_Conditions</th>\n",
       "      <th>District Area</th>\n",
       "      <th>Longitude</th>\n",
       "      <th>Number_of_Casualties</th>\n",
       "      <th>Number_of_Vehicles</th>\n",
       "      <th>Road_Surface_Conditions</th>\n",
       "      <th>Road_Type</th>\n",
       "      <th>Urban_or_Rural_Area</th>\n",
       "      <th>Weather_Conditions</th>\n",
       "      <th>Vehicle_Type</th>\n",
       "    </tr>\n",
       "  </thead>\n",
       "  <tbody>\n",
       "    <tr>\n",
       "      <th>0</th>\n",
       "      <td>200701BS64157</td>\n",
       "      <td>Serious</td>\n",
       "      <td>5/6/2019</td>\n",
       "      <td>51.506187</td>\n",
       "      <td>Darkness - lights lit</td>\n",
       "      <td>Kensington and Chelsea</td>\n",
       "      <td>-0.209082</td>\n",
       "      <td>1</td>\n",
       "      <td>2</td>\n",
       "      <td>Dry</td>\n",
       "      <td>Single carriageway</td>\n",
       "      <td>Urban</td>\n",
       "      <td>Fine no high winds</td>\n",
       "      <td>Car</td>\n",
       "    </tr>\n",
       "    <tr>\n",
       "      <th>1</th>\n",
       "      <td>200701BS65737</td>\n",
       "      <td>Serious</td>\n",
       "      <td>2/7/2019</td>\n",
       "      <td>51.495029</td>\n",
       "      <td>Daylight</td>\n",
       "      <td>Kensington and Chelsea</td>\n",
       "      <td>-0.173647</td>\n",
       "      <td>1</td>\n",
       "      <td>2</td>\n",
       "      <td>Wet or damp</td>\n",
       "      <td>Single carriageway</td>\n",
       "      <td>Urban</td>\n",
       "      <td>Raining no high winds</td>\n",
       "      <td>Car</td>\n",
       "    </tr>\n",
       "    <tr>\n",
       "      <th>2</th>\n",
       "      <td>200701BS66127</td>\n",
       "      <td>Serious</td>\n",
       "      <td>26-08-2019</td>\n",
       "      <td>51.517715</td>\n",
       "      <td>Darkness - lighting unknown</td>\n",
       "      <td>Kensington and Chelsea</td>\n",
       "      <td>-0.210215</td>\n",
       "      <td>1</td>\n",
       "      <td>3</td>\n",
       "      <td>Dry</td>\n",
       "      <td>NaN</td>\n",
       "      <td>Urban</td>\n",
       "      <td>NaN</td>\n",
       "      <td>Taxi/Private hire car</td>\n",
       "    </tr>\n",
       "    <tr>\n",
       "      <th>3</th>\n",
       "      <td>200701BS66128</td>\n",
       "      <td>Serious</td>\n",
       "      <td>16-08-2019</td>\n",
       "      <td>51.495478</td>\n",
       "      <td>Daylight</td>\n",
       "      <td>Kensington and Chelsea</td>\n",
       "      <td>-0.202731</td>\n",
       "      <td>1</td>\n",
       "      <td>4</td>\n",
       "      <td>Dry</td>\n",
       "      <td>Single carriageway</td>\n",
       "      <td>Urban</td>\n",
       "      <td>Fine no high winds</td>\n",
       "      <td>Bus or coach (17 or more pass seats)</td>\n",
       "    </tr>\n",
       "    <tr>\n",
       "      <th>4</th>\n",
       "      <td>200701BS66837</td>\n",
       "      <td>Slight</td>\n",
       "      <td>3/9/2019</td>\n",
       "      <td>51.488576</td>\n",
       "      <td>Darkness - lights lit</td>\n",
       "      <td>Kensington and Chelsea</td>\n",
       "      <td>-0.192487</td>\n",
       "      <td>1</td>\n",
       "      <td>2</td>\n",
       "      <td>Dry</td>\n",
       "      <td>NaN</td>\n",
       "      <td>Urban</td>\n",
       "      <td>NaN</td>\n",
       "      <td>Other vehicle</td>\n",
       "    </tr>\n",
       "    <tr>\n",
       "      <th>...</th>\n",
       "      <td>...</td>\n",
       "      <td>...</td>\n",
       "      <td>...</td>\n",
       "      <td>...</td>\n",
       "      <td>...</td>\n",
       "      <td>...</td>\n",
       "      <td>...</td>\n",
       "      <td>...</td>\n",
       "      <td>...</td>\n",
       "      <td>...</td>\n",
       "      <td>...</td>\n",
       "      <td>...</td>\n",
       "      <td>...</td>\n",
       "      <td>...</td>\n",
       "    </tr>\n",
       "    <tr>\n",
       "      <th>660674</th>\n",
       "      <td>201091NM01760</td>\n",
       "      <td>Slight</td>\n",
       "      <td>18-02-2022</td>\n",
       "      <td>57.374005</td>\n",
       "      <td>Daylight</td>\n",
       "      <td>Highland</td>\n",
       "      <td>-3.467828</td>\n",
       "      <td>2</td>\n",
       "      <td>1</td>\n",
       "      <td>Dry</td>\n",
       "      <td>Single carriageway</td>\n",
       "      <td>Rural</td>\n",
       "      <td>Fine no high winds</td>\n",
       "      <td>Car</td>\n",
       "    </tr>\n",
       "    <tr>\n",
       "      <th>660675</th>\n",
       "      <td>201091NM01881</td>\n",
       "      <td>Slight</td>\n",
       "      <td>21-02-2022</td>\n",
       "      <td>57.232273</td>\n",
       "      <td>Darkness - no lighting</td>\n",
       "      <td>Highland</td>\n",
       "      <td>-3.809281</td>\n",
       "      <td>1</td>\n",
       "      <td>1</td>\n",
       "      <td>Frost or ice</td>\n",
       "      <td>Single carriageway</td>\n",
       "      <td>Rural</td>\n",
       "      <td>Fine no high winds</td>\n",
       "      <td>Car</td>\n",
       "    </tr>\n",
       "    <tr>\n",
       "      <th>660676</th>\n",
       "      <td>201091NM01935</td>\n",
       "      <td>Slight</td>\n",
       "      <td>23-02-2022</td>\n",
       "      <td>57.585044</td>\n",
       "      <td>Daylight</td>\n",
       "      <td>Highland</td>\n",
       "      <td>-3.862727</td>\n",
       "      <td>1</td>\n",
       "      <td>3</td>\n",
       "      <td>Frost or ice</td>\n",
       "      <td>Single carriageway</td>\n",
       "      <td>Rural</td>\n",
       "      <td>Fine no high winds</td>\n",
       "      <td>Car</td>\n",
       "    </tr>\n",
       "    <tr>\n",
       "      <th>660677</th>\n",
       "      <td>201091NM01964</td>\n",
       "      <td>Serious</td>\n",
       "      <td>23-02-2022</td>\n",
       "      <td>57.214898</td>\n",
       "      <td>Darkness - no lighting</td>\n",
       "      <td>Highland</td>\n",
       "      <td>-3.823997</td>\n",
       "      <td>1</td>\n",
       "      <td>2</td>\n",
       "      <td>Wet or damp</td>\n",
       "      <td>Single carriageway</td>\n",
       "      <td>Rural</td>\n",
       "      <td>Fine no high winds</td>\n",
       "      <td>Motorcycle over 500cc</td>\n",
       "    </tr>\n",
       "    <tr>\n",
       "      <th>660678</th>\n",
       "      <td>201091NM02142</td>\n",
       "      <td>Serious</td>\n",
       "      <td>28-02-2022</td>\n",
       "      <td>57.575210</td>\n",
       "      <td>Daylight</td>\n",
       "      <td>Highland</td>\n",
       "      <td>-3.895673</td>\n",
       "      <td>1</td>\n",
       "      <td>1</td>\n",
       "      <td>Wet or damp</td>\n",
       "      <td>Dual carriageway</td>\n",
       "      <td>Rural</td>\n",
       "      <td>Snowing no high winds</td>\n",
       "      <td>Car</td>\n",
       "    </tr>\n",
       "  </tbody>\n",
       "</table>\n",
       "<p>660679 rows × 14 columns</p>\n",
       "</div>"
      ],
      "text/plain": [
       "                Index Accident_Severity Accident Date   Latitude  \\\n",
       "0       200701BS64157           Serious      5/6/2019  51.506187   \n",
       "1       200701BS65737           Serious      2/7/2019  51.495029   \n",
       "2       200701BS66127           Serious    26-08-2019  51.517715   \n",
       "3       200701BS66128           Serious    16-08-2019  51.495478   \n",
       "4       200701BS66837            Slight      3/9/2019  51.488576   \n",
       "...               ...               ...           ...        ...   \n",
       "660674  201091NM01760            Slight    18-02-2022  57.374005   \n",
       "660675  201091NM01881            Slight    21-02-2022  57.232273   \n",
       "660676  201091NM01935            Slight    23-02-2022  57.585044   \n",
       "660677  201091NM01964           Serious    23-02-2022  57.214898   \n",
       "660678  201091NM02142           Serious    28-02-2022  57.575210   \n",
       "\n",
       "                   Light_Conditions           District Area  Longitude  \\\n",
       "0             Darkness - lights lit  Kensington and Chelsea  -0.209082   \n",
       "1                          Daylight  Kensington and Chelsea  -0.173647   \n",
       "2       Darkness - lighting unknown  Kensington and Chelsea  -0.210215   \n",
       "3                          Daylight  Kensington and Chelsea  -0.202731   \n",
       "4             Darkness - lights lit  Kensington and Chelsea  -0.192487   \n",
       "...                             ...                     ...        ...   \n",
       "660674                     Daylight                Highland  -3.467828   \n",
       "660675       Darkness - no lighting                Highland  -3.809281   \n",
       "660676                     Daylight                Highland  -3.862727   \n",
       "660677       Darkness - no lighting                Highland  -3.823997   \n",
       "660678                     Daylight                Highland  -3.895673   \n",
       "\n",
       "        Number_of_Casualties  Number_of_Vehicles Road_Surface_Conditions  \\\n",
       "0                          1                   2                     Dry   \n",
       "1                          1                   2             Wet or damp   \n",
       "2                          1                   3                     Dry   \n",
       "3                          1                   4                     Dry   \n",
       "4                          1                   2                     Dry   \n",
       "...                      ...                 ...                     ...   \n",
       "660674                     2                   1                     Dry   \n",
       "660675                     1                   1            Frost or ice   \n",
       "660676                     1                   3            Frost or ice   \n",
       "660677                     1                   2             Wet or damp   \n",
       "660678                     1                   1             Wet or damp   \n",
       "\n",
       "                 Road_Type Urban_or_Rural_Area     Weather_Conditions  \\\n",
       "0       Single carriageway               Urban     Fine no high winds   \n",
       "1       Single carriageway               Urban  Raining no high winds   \n",
       "2                      NaN               Urban                    NaN   \n",
       "3       Single carriageway               Urban     Fine no high winds   \n",
       "4                      NaN               Urban                    NaN   \n",
       "...                    ...                 ...                    ...   \n",
       "660674  Single carriageway               Rural     Fine no high winds   \n",
       "660675  Single carriageway               Rural     Fine no high winds   \n",
       "660676  Single carriageway               Rural     Fine no high winds   \n",
       "660677  Single carriageway               Rural     Fine no high winds   \n",
       "660678    Dual carriageway               Rural  Snowing no high winds   \n",
       "\n",
       "                                Vehicle_Type  \n",
       "0                                        Car  \n",
       "1                                        Car  \n",
       "2                      Taxi/Private hire car  \n",
       "3       Bus or coach (17 or more pass seats)  \n",
       "4                              Other vehicle  \n",
       "...                                      ...  \n",
       "660674                                   Car  \n",
       "660675                                   Car  \n",
       "660676                                   Car  \n",
       "660677                 Motorcycle over 500cc  \n",
       "660678                                   Car  \n",
       "\n",
       "[660679 rows x 14 columns]"
      ]
     },
     "execution_count": 3,
     "metadata": {},
     "output_type": "execute_result"
    }
   ],
   "source": [
    "data"
   ]
  },
  {
   "cell_type": "markdown",
   "id": "f861af79-a0ac-42b9-b4d9-cf0fb6a5cf67",
   "metadata": {},
   "source": [
    "<hr><br>\n",
    "<h2>CLEANING DATA TYPES AND FILLING UP NULL VALUES</h2>"
   ]
  },
  {
   "cell_type": "code",
   "execution_count": 4,
   "id": "a63a5934-8a29-4ed1-afbb-c06a288c2414",
   "metadata": {},
   "outputs": [
    {
     "data": {
      "text/plain": [
       "Index(['Index', 'Accident_Severity', 'Accident Date', 'Latitude',\n",
       "       'Light_Conditions', 'District Area', 'Longitude',\n",
       "       'Number_of_Casualties', 'Number_of_Vehicles', 'Road_Surface_Conditions',\n",
       "       'Road_Type', 'Urban_or_Rural_Area', 'Weather_Conditions',\n",
       "       'Vehicle_Type'],\n",
       "      dtype='object')"
      ]
     },
     "execution_count": 4,
     "metadata": {},
     "output_type": "execute_result"
    }
   ],
   "source": [
    "data.columns"
   ]
  },
  {
   "cell_type": "code",
   "execution_count": 5,
   "id": "7344b4e0-675a-4457-b79f-aaf8d8cd738d",
   "metadata": {},
   "outputs": [],
   "source": [
    "data['Index'] = data['Index'].astype('category')\n",
    "data['Accident_Severity'] = data['Accident_Severity'].astype('category')\n",
    "data['Accident Date'] = data['Accident Date'].astype('category')\n",
    "data['Light_Conditions'] = data['Light_Conditions'].astype('category')\n",
    "data['District Area'] = data['District Area'].astype('category')\n",
    "data['Road_Surface_Conditions'] = data['Road_Surface_Conditions'].astype('category')\n",
    "data['Road_Type'] = data['Road_Type'].astype('category')\n",
    "data['Urban_or_Rural_Area'] = data['Urban_or_Rural_Area'].astype('category')\n",
    "data['Weather_Conditions'] = data['Weather_Conditions'].astype('category')\n",
    "data['Vehicle_Type'] = data['Vehicle_Type'].astype('category')"
   ]
  },
  {
   "cell_type": "code",
   "execution_count": 6,
   "id": "6f7cad72-c0ce-428b-a0d3-c3f4746ae68f",
   "metadata": {},
   "outputs": [
    {
     "data": {
      "text/plain": [
       "Index                      category\n",
       "Accident_Severity          category\n",
       "Accident Date              category\n",
       "Latitude                    float64\n",
       "Light_Conditions           category\n",
       "District Area              category\n",
       "Longitude                   float64\n",
       "Number_of_Casualties          int64\n",
       "Number_of_Vehicles            int64\n",
       "Road_Surface_Conditions    category\n",
       "Road_Type                  category\n",
       "Urban_or_Rural_Area        category\n",
       "Weather_Conditions         category\n",
       "Vehicle_Type               category\n",
       "dtype: object"
      ]
     },
     "execution_count": 6,
     "metadata": {},
     "output_type": "execute_result"
    }
   ],
   "source": [
    "data.dtypes"
   ]
  },
  {
   "cell_type": "code",
   "execution_count": 7,
   "id": "784d9589-0cfa-4f9a-aaaf-dd2bb070d265",
   "metadata": {},
   "outputs": [
    {
     "data": {
      "text/html": [
       "<div>\n",
       "<style scoped>\n",
       "    .dataframe tbody tr th:only-of-type {\n",
       "        vertical-align: middle;\n",
       "    }\n",
       "\n",
       "    .dataframe tbody tr th {\n",
       "        vertical-align: top;\n",
       "    }\n",
       "\n",
       "    .dataframe thead th {\n",
       "        text-align: right;\n",
       "    }\n",
       "</style>\n",
       "<table border=\"1\" class=\"dataframe\">\n",
       "  <thead>\n",
       "    <tr style=\"text-align: right;\">\n",
       "      <th></th>\n",
       "      <th>Index</th>\n",
       "      <th>Accident_Severity</th>\n",
       "      <th>Accident Date</th>\n",
       "      <th>Latitude</th>\n",
       "      <th>Light_Conditions</th>\n",
       "      <th>District Area</th>\n",
       "      <th>Longitude</th>\n",
       "      <th>Number_of_Casualties</th>\n",
       "      <th>Number_of_Vehicles</th>\n",
       "      <th>Road_Surface_Conditions</th>\n",
       "      <th>Road_Type</th>\n",
       "      <th>Urban_or_Rural_Area</th>\n",
       "      <th>Weather_Conditions</th>\n",
       "      <th>Vehicle_Type</th>\n",
       "    </tr>\n",
       "  </thead>\n",
       "  <tbody>\n",
       "    <tr>\n",
       "      <th>0</th>\n",
       "      <td>200701BS64157</td>\n",
       "      <td>Serious</td>\n",
       "      <td>5/6/2019</td>\n",
       "      <td>51.506187</td>\n",
       "      <td>Darkness - lights lit</td>\n",
       "      <td>Kensington and Chelsea</td>\n",
       "      <td>-0.209082</td>\n",
       "      <td>1</td>\n",
       "      <td>2</td>\n",
       "      <td>Dry</td>\n",
       "      <td>Single carriageway</td>\n",
       "      <td>Urban</td>\n",
       "      <td>Fine no high winds</td>\n",
       "      <td>Car</td>\n",
       "    </tr>\n",
       "    <tr>\n",
       "      <th>1</th>\n",
       "      <td>200701BS65737</td>\n",
       "      <td>Serious</td>\n",
       "      <td>2/7/2019</td>\n",
       "      <td>51.495029</td>\n",
       "      <td>Daylight</td>\n",
       "      <td>Kensington and Chelsea</td>\n",
       "      <td>-0.173647</td>\n",
       "      <td>1</td>\n",
       "      <td>2</td>\n",
       "      <td>Wet or damp</td>\n",
       "      <td>Single carriageway</td>\n",
       "      <td>Urban</td>\n",
       "      <td>Raining no high winds</td>\n",
       "      <td>Car</td>\n",
       "    </tr>\n",
       "    <tr>\n",
       "      <th>2</th>\n",
       "      <td>200701BS66127</td>\n",
       "      <td>Serious</td>\n",
       "      <td>26-08-2019</td>\n",
       "      <td>51.517715</td>\n",
       "      <td>Darkness - lighting unknown</td>\n",
       "      <td>Kensington and Chelsea</td>\n",
       "      <td>-0.210215</td>\n",
       "      <td>1</td>\n",
       "      <td>3</td>\n",
       "      <td>Dry</td>\n",
       "      <td>NaN</td>\n",
       "      <td>Urban</td>\n",
       "      <td>NaN</td>\n",
       "      <td>Taxi/Private hire car</td>\n",
       "    </tr>\n",
       "    <tr>\n",
       "      <th>3</th>\n",
       "      <td>200701BS66128</td>\n",
       "      <td>Serious</td>\n",
       "      <td>16-08-2019</td>\n",
       "      <td>51.495478</td>\n",
       "      <td>Daylight</td>\n",
       "      <td>Kensington and Chelsea</td>\n",
       "      <td>-0.202731</td>\n",
       "      <td>1</td>\n",
       "      <td>4</td>\n",
       "      <td>Dry</td>\n",
       "      <td>Single carriageway</td>\n",
       "      <td>Urban</td>\n",
       "      <td>Fine no high winds</td>\n",
       "      <td>Bus or coach (17 or more pass seats)</td>\n",
       "    </tr>\n",
       "    <tr>\n",
       "      <th>4</th>\n",
       "      <td>200701BS66837</td>\n",
       "      <td>Slight</td>\n",
       "      <td>3/9/2019</td>\n",
       "      <td>51.488576</td>\n",
       "      <td>Darkness - lights lit</td>\n",
       "      <td>Kensington and Chelsea</td>\n",
       "      <td>-0.192487</td>\n",
       "      <td>1</td>\n",
       "      <td>2</td>\n",
       "      <td>Dry</td>\n",
       "      <td>NaN</td>\n",
       "      <td>Urban</td>\n",
       "      <td>NaN</td>\n",
       "      <td>Other vehicle</td>\n",
       "    </tr>\n",
       "    <tr>\n",
       "      <th>...</th>\n",
       "      <td>...</td>\n",
       "      <td>...</td>\n",
       "      <td>...</td>\n",
       "      <td>...</td>\n",
       "      <td>...</td>\n",
       "      <td>...</td>\n",
       "      <td>...</td>\n",
       "      <td>...</td>\n",
       "      <td>...</td>\n",
       "      <td>...</td>\n",
       "      <td>...</td>\n",
       "      <td>...</td>\n",
       "      <td>...</td>\n",
       "      <td>...</td>\n",
       "    </tr>\n",
       "    <tr>\n",
       "      <th>660674</th>\n",
       "      <td>201091NM01760</td>\n",
       "      <td>Slight</td>\n",
       "      <td>18-02-2022</td>\n",
       "      <td>57.374005</td>\n",
       "      <td>Daylight</td>\n",
       "      <td>Highland</td>\n",
       "      <td>-3.467828</td>\n",
       "      <td>2</td>\n",
       "      <td>1</td>\n",
       "      <td>Dry</td>\n",
       "      <td>Single carriageway</td>\n",
       "      <td>Rural</td>\n",
       "      <td>Fine no high winds</td>\n",
       "      <td>Car</td>\n",
       "    </tr>\n",
       "    <tr>\n",
       "      <th>660675</th>\n",
       "      <td>201091NM01881</td>\n",
       "      <td>Slight</td>\n",
       "      <td>21-02-2022</td>\n",
       "      <td>57.232273</td>\n",
       "      <td>Darkness - no lighting</td>\n",
       "      <td>Highland</td>\n",
       "      <td>-3.809281</td>\n",
       "      <td>1</td>\n",
       "      <td>1</td>\n",
       "      <td>Frost or ice</td>\n",
       "      <td>Single carriageway</td>\n",
       "      <td>Rural</td>\n",
       "      <td>Fine no high winds</td>\n",
       "      <td>Car</td>\n",
       "    </tr>\n",
       "    <tr>\n",
       "      <th>660676</th>\n",
       "      <td>201091NM01935</td>\n",
       "      <td>Slight</td>\n",
       "      <td>23-02-2022</td>\n",
       "      <td>57.585044</td>\n",
       "      <td>Daylight</td>\n",
       "      <td>Highland</td>\n",
       "      <td>-3.862727</td>\n",
       "      <td>1</td>\n",
       "      <td>3</td>\n",
       "      <td>Frost or ice</td>\n",
       "      <td>Single carriageway</td>\n",
       "      <td>Rural</td>\n",
       "      <td>Fine no high winds</td>\n",
       "      <td>Car</td>\n",
       "    </tr>\n",
       "    <tr>\n",
       "      <th>660677</th>\n",
       "      <td>201091NM01964</td>\n",
       "      <td>Serious</td>\n",
       "      <td>23-02-2022</td>\n",
       "      <td>57.214898</td>\n",
       "      <td>Darkness - no lighting</td>\n",
       "      <td>Highland</td>\n",
       "      <td>-3.823997</td>\n",
       "      <td>1</td>\n",
       "      <td>2</td>\n",
       "      <td>Wet or damp</td>\n",
       "      <td>Single carriageway</td>\n",
       "      <td>Rural</td>\n",
       "      <td>Fine no high winds</td>\n",
       "      <td>Motorcycle over 500cc</td>\n",
       "    </tr>\n",
       "    <tr>\n",
       "      <th>660678</th>\n",
       "      <td>201091NM02142</td>\n",
       "      <td>Serious</td>\n",
       "      <td>28-02-2022</td>\n",
       "      <td>57.575210</td>\n",
       "      <td>Daylight</td>\n",
       "      <td>Highland</td>\n",
       "      <td>-3.895673</td>\n",
       "      <td>1</td>\n",
       "      <td>1</td>\n",
       "      <td>Wet or damp</td>\n",
       "      <td>Dual carriageway</td>\n",
       "      <td>Rural</td>\n",
       "      <td>Snowing no high winds</td>\n",
       "      <td>Car</td>\n",
       "    </tr>\n",
       "  </tbody>\n",
       "</table>\n",
       "<p>660679 rows × 14 columns</p>\n",
       "</div>"
      ],
      "text/plain": [
       "                Index Accident_Severity Accident Date   Latitude  \\\n",
       "0       200701BS64157           Serious      5/6/2019  51.506187   \n",
       "1       200701BS65737           Serious      2/7/2019  51.495029   \n",
       "2       200701BS66127           Serious    26-08-2019  51.517715   \n",
       "3       200701BS66128           Serious    16-08-2019  51.495478   \n",
       "4       200701BS66837            Slight      3/9/2019  51.488576   \n",
       "...               ...               ...           ...        ...   \n",
       "660674  201091NM01760            Slight    18-02-2022  57.374005   \n",
       "660675  201091NM01881            Slight    21-02-2022  57.232273   \n",
       "660676  201091NM01935            Slight    23-02-2022  57.585044   \n",
       "660677  201091NM01964           Serious    23-02-2022  57.214898   \n",
       "660678  201091NM02142           Serious    28-02-2022  57.575210   \n",
       "\n",
       "                   Light_Conditions           District Area  Longitude  \\\n",
       "0             Darkness - lights lit  Kensington and Chelsea  -0.209082   \n",
       "1                          Daylight  Kensington and Chelsea  -0.173647   \n",
       "2       Darkness - lighting unknown  Kensington and Chelsea  -0.210215   \n",
       "3                          Daylight  Kensington and Chelsea  -0.202731   \n",
       "4             Darkness - lights lit  Kensington and Chelsea  -0.192487   \n",
       "...                             ...                     ...        ...   \n",
       "660674                     Daylight                Highland  -3.467828   \n",
       "660675       Darkness - no lighting                Highland  -3.809281   \n",
       "660676                     Daylight                Highland  -3.862727   \n",
       "660677       Darkness - no lighting                Highland  -3.823997   \n",
       "660678                     Daylight                Highland  -3.895673   \n",
       "\n",
       "        Number_of_Casualties  Number_of_Vehicles Road_Surface_Conditions  \\\n",
       "0                          1                   2                     Dry   \n",
       "1                          1                   2             Wet or damp   \n",
       "2                          1                   3                     Dry   \n",
       "3                          1                   4                     Dry   \n",
       "4                          1                   2                     Dry   \n",
       "...                      ...                 ...                     ...   \n",
       "660674                     2                   1                     Dry   \n",
       "660675                     1                   1            Frost or ice   \n",
       "660676                     1                   3            Frost or ice   \n",
       "660677                     1                   2             Wet or damp   \n",
       "660678                     1                   1             Wet or damp   \n",
       "\n",
       "                 Road_Type Urban_or_Rural_Area     Weather_Conditions  \\\n",
       "0       Single carriageway               Urban     Fine no high winds   \n",
       "1       Single carriageway               Urban  Raining no high winds   \n",
       "2                      NaN               Urban                    NaN   \n",
       "3       Single carriageway               Urban     Fine no high winds   \n",
       "4                      NaN               Urban                    NaN   \n",
       "...                    ...                 ...                    ...   \n",
       "660674  Single carriageway               Rural     Fine no high winds   \n",
       "660675  Single carriageway               Rural     Fine no high winds   \n",
       "660676  Single carriageway               Rural     Fine no high winds   \n",
       "660677  Single carriageway               Rural     Fine no high winds   \n",
       "660678    Dual carriageway               Rural  Snowing no high winds   \n",
       "\n",
       "                                Vehicle_Type  \n",
       "0                                        Car  \n",
       "1                                        Car  \n",
       "2                      Taxi/Private hire car  \n",
       "3       Bus or coach (17 or more pass seats)  \n",
       "4                              Other vehicle  \n",
       "...                                      ...  \n",
       "660674                                   Car  \n",
       "660675                                   Car  \n",
       "660676                                   Car  \n",
       "660677                 Motorcycle over 500cc  \n",
       "660678                                   Car  \n",
       "\n",
       "[660679 rows x 14 columns]"
      ]
     },
     "execution_count": 7,
     "metadata": {},
     "output_type": "execute_result"
    }
   ],
   "source": [
    "data"
   ]
  },
  {
   "cell_type": "code",
   "execution_count": 8,
   "id": "52cdae5f-c7b5-41a3-a753-1782d3ee6324",
   "metadata": {},
   "outputs": [
    {
     "data": {
      "text/plain": [
       "Index                          0\n",
       "Accident_Severity              0\n",
       "Accident Date                  0\n",
       "Latitude                      25\n",
       "Light_Conditions               0\n",
       "District Area                  0\n",
       "Longitude                     26\n",
       "Number_of_Casualties           0\n",
       "Number_of_Vehicles             0\n",
       "Road_Surface_Conditions      726\n",
       "Road_Type                   4520\n",
       "Urban_or_Rural_Area           15\n",
       "Weather_Conditions         14128\n",
       "Vehicle_Type                   0\n",
       "dtype: int64"
      ]
     },
     "execution_count": 8,
     "metadata": {},
     "output_type": "execute_result"
    }
   ],
   "source": [
    "data.isnull().sum()"
   ]
  },
  {
   "cell_type": "code",
   "execution_count": 9,
   "id": "f1a8dafd-bb0b-48b0-b8f9-a12ac7fe785c",
   "metadata": {},
   "outputs": [],
   "source": [
    "data['Latitude'] = data['Latitude'].fillna(data['Latitude'].mean())\n",
    "data['Longitude'] = data['Longitude'].fillna(data['Longitude'].mean())\n",
    "data['Road_Surface_Conditions'] = data['Road_Surface_Conditions'].fillna(data['Road_Surface_Conditions'].mode()[0])\n",
    "data['Road_Type'] = data['Road_Type'].fillna(data['Road_Type'].mode()[0])\n",
    "data['Urban_or_Rural_Area'] = data['Urban_or_Rural_Area'].fillna(data['Urban_or_Rural_Area'].mode()[0])\n",
    "data['Weather_Conditions'] = data['Weather_Conditions'].fillna(data['Weather_Conditions'].mode()[0])"
   ]
  },
  {
   "cell_type": "code",
   "execution_count": 10,
   "id": "aeb28b35-7d95-4d02-a8b6-26e6037fdd6c",
   "metadata": {},
   "outputs": [
    {
     "data": {
      "text/plain": [
       "Index                      0\n",
       "Accident_Severity          0\n",
       "Accident Date              0\n",
       "Latitude                   0\n",
       "Light_Conditions           0\n",
       "District Area              0\n",
       "Longitude                  0\n",
       "Number_of_Casualties       0\n",
       "Number_of_Vehicles         0\n",
       "Road_Surface_Conditions    0\n",
       "Road_Type                  0\n",
       "Urban_or_Rural_Area        0\n",
       "Weather_Conditions         0\n",
       "Vehicle_Type               0\n",
       "dtype: int64"
      ]
     },
     "execution_count": 10,
     "metadata": {},
     "output_type": "execute_result"
    }
   ],
   "source": [
    "data.isnull().sum()"
   ]
  },
  {
   "cell_type": "markdown",
   "id": "2a9ef35b-b8e7-4ff1-b689-c719606615f8",
   "metadata": {},
   "source": [
    "<br>\n",
    "<br>\n",
    "<h2 style='text-align: center;'>DATA EXPLORATORY ANALYSIS</h2>\n",
    "<hr>"
   ]
  },
  {
   "cell_type": "markdown",
   "id": "dc807f3e-a7cc-4cfc-9411-1181cd6b4949",
   "metadata": {},
   "source": [
    "<br>\n",
    "<br>\n",
    "<h2>QUESTION 1: WHICH DISTRICT AREA HOLDS THE MOST FATAL ACCIDENTS?</h2>\n",
    "<hr>"
   ]
  },
  {
   "cell_type": "code",
   "execution_count": 93,
   "id": "94178e55-62ae-484c-8142-96ed90e8a6e4",
   "metadata": {},
   "outputs": [
    {
     "data": {
      "text/plain": [
       "District Area\n",
       "Birmingham                  105\n",
       "Leeds                        93\n",
       "Highland                     88\n",
       "East Riding of Yorkshire     85\n",
       "Bradford                     71\n",
       "                           ... \n",
       "Orkney Islands                2\n",
       "Havant                        2\n",
       "Stevenage                     1\n",
       "Clackmannanshire              1\n",
       "Harlow                        1\n",
       "Name: count, Length: 422, dtype: int64"
      ]
     },
     "execution_count": 93,
     "metadata": {},
     "output_type": "execute_result"
    }
   ],
   "source": [
    "fatal_accidents = data[data['Accident_Severity'] == 'Fatal']\n",
    "\n",
    "fatal_accidents['District Area'].value_counts().sort_values(ascending=False)"
   ]
  },
  {
   "cell_type": "markdown",
   "id": "7fcf89fe-86d2-448b-9948-39c9edd4f3bd",
   "metadata": {},
   "source": [
    "<br>\n",
    "<h4>The data analysis shown above says that <strong>BIRMINGHAM</strong> holds the most fatal accidents in UK.</h4>\n",
    "<p><i>INSIGHT:</i> Birmingham has 105 number of fatal accidents, making it.</p>\n",
    "<hr>\n",
    "<br>"
   ]
  },
  {
   "cell_type": "markdown",
   "id": "b525d10b-81d2-4bb3-8085-f76926686c40",
   "metadata": {},
   "source": [
    "<br>\n",
    "<br>\n",
    "<h2>QUESTION 2: WHERE DO MORE SEVERE ACCIDENTS HAPPEN? IS IT IN URBAN OR RURAL AREAS?</h2>\n",
    "<hr>"
   ]
  },
  {
   "cell_type": "code",
   "execution_count": 12,
   "id": "718273fe-f3e0-44f5-a856-c1e21d5cb2f7",
   "metadata": {
    "scrolled": true
   },
   "outputs": [
    {
     "data": {
      "text/plain": [
       "Urban_or_Rural_Area\n",
       "Urban          50904\n",
       "Rural          37312\n",
       "Unallocated        1\n",
       "Name: count, dtype: int64"
      ]
     },
     "execution_count": 12,
     "metadata": {},
     "output_type": "execute_result"
    }
   ],
   "source": [
    "severe_accidents = data[data['Accident_Severity'] == 'Serious']\n",
    "\n",
    "severe_accidents['Urban_or_Rural_Area'].value_counts()"
   ]
  },
  {
   "cell_type": "markdown",
   "id": "68a765d7-4417-4391-95a7-eec352d24552",
   "metadata": {},
   "source": [
    "<br>\n",
    "<h4>The data analysis shown above says that <strong>URBAN AREA</strong> has more severe accidents in the UK.</h4>\n",
    "<p><i>INSIGHT:</i> Urban areas has 20k more accidents than Rural areas.</p>\n",
    "<hr>\n",
    "<br>"
   ]
  },
  {
   "cell_type": "markdown",
   "id": "992fa417-928e-4aa8-ae80-159ae8ed7404",
   "metadata": {},
   "source": [
    "<br>\n",
    "<br>\n",
    "<h2>QUESTION 3: WHICH VEHICLE TYPE HAS THE HIGHEST NUMBER OF CASUALTIES?</h2>\n",
    "<hr>"
   ]
  },
  {
   "cell_type": "code",
   "execution_count": 13,
   "id": "a1cad94e-ace4-453d-9c20-14dd1a04f818",
   "metadata": {
    "scrolled": true
   },
   "outputs": [
    {
     "data": {
      "text/plain": [
       "Vehicle_Type\n",
       "Car                                      676692\n",
       "Van / Goods 3.5 tonnes mgw or under       46271\n",
       "Bus or coach (17 or more pass seats)      34915\n",
       "Motorcycle over 500cc                     34879\n",
       "Goods 7.5 tonnes mgw and over             23397\n",
       "Motorcycle 125cc and under                20348\n",
       "Taxi/Private hire car                     18195\n",
       "Motorcycle over 125cc and up to 500cc     10286\n",
       "Motorcycle 50cc and under                 10167\n",
       "Goods over 3.5t. and under 7.5t            8308\n",
       "Other vehicle                              7554\n",
       "Minibus (8 - 16 passenger seats)           2659\n",
       "Agricultural vehicle                       2613\n",
       "Pedal cycle                                 270\n",
       "Data missing or out of range                  9\n",
       "Ridden horse                                  5\n",
       "Name: Number_of_Casualties, dtype: int64"
      ]
     },
     "execution_count": 13,
     "metadata": {},
     "output_type": "execute_result"
    }
   ],
   "source": [
    "data.groupby('Vehicle_Type')['Number_of_Casualties'].sum().sort_values(ascending=False)"
   ]
  },
  {
   "cell_type": "markdown",
   "id": "8d9f2bba-bded-4995-9624-8c857aa8ea2d",
   "metadata": {},
   "source": [
    "<br>\n",
    "<h4>The data analysis showsn above says that <strong>CAR TYPE VEHICLE</strong> has the highest number of casualties when it comes to road accidents in the UK.</h4>\n",
    "<p><i>INSIGHT:</i> Car being the vehicle type with the highest casualties is maybe due to its being the most common owned vehicle in the nation.</p>\n",
    "<hr>\n",
    "<br>"
   ]
  },
  {
   "cell_type": "markdown",
   "id": "847413c9-576a-4937-be75-da5976b54a81",
   "metadata": {},
   "source": [
    "<br>\n",
    "<br>\n",
    "<h2>QUESTION 4: WHAT WEATHER CONDITIONS HOST THE MOST ACCIDENTS IN A SINGLE CARRIAGEWAY TYPE OF ROAD?</h2>\n",
    "<hr>"
   ]
  },
  {
   "cell_type": "code",
   "execution_count": 14,
   "id": "b70bd860-6d10-491a-afca-334ca34526bd",
   "metadata": {
    "scrolled": true
   },
   "outputs": [
    {
     "data": {
      "text/plain": [
       "Weather_Conditions\n",
       "Fine no high winds       403388\n",
       "Raining no high winds     59011\n",
       "Other                     13288\n",
       "Raining + high winds       6759\n",
       "Fine + high winds          6228\n",
       "Snowing no high winds      4781\n",
       "Fog or mist                2562\n",
       "Snowing + high winds        646\n",
       "Name: count, dtype: int64"
      ]
     },
     "execution_count": 14,
     "metadata": {},
     "output_type": "execute_result"
    }
   ],
   "source": [
    "single_carriageway = data[data['Road_Type'] == 'Single carriageway']\n",
    "\n",
    "single_carriageway['Weather_Conditions'].value_counts()"
   ]
  },
  {
   "cell_type": "markdown",
   "id": "63beee16-e176-458c-b322-c9ffaf9d187a",
   "metadata": {},
   "source": [
    "<br>\n",
    "<h4>The data analysis shown above says that the weather condition with the highest accidents occuring in a single carriageway type of road is usually <strong>Fine no high winds</strong></h4>\n",
    "<p><i>INSIGHT:</i> The data above shows that accidents occur usually in a normal day in the UK.</p>\n",
    "<hr>\n",
    "<br>"
   ]
  },
  {
   "cell_type": "markdown",
   "id": "d5c80250-ab33-42bd-9fa8-c877d322e4e5",
   "metadata": {},
   "source": [
    "<br>\n",
    "<br>\n",
    "<h2>QUESTION 5: IN WHAT TIME OF THE DAY OR LIGHT CONDITIONS MOST ACCIDENTS HAPPEN?</h2>\n",
    "<hr>"
   ]
  },
  {
   "cell_type": "code",
   "execution_count": 91,
   "id": "ba5b66e5-6d52-4c21-a16f-bbc206cd1b2a",
   "metadata": {},
   "outputs": [
    {
     "data": {
      "text/plain": [
       "Light_Conditions\n",
       "Daylight                       484880\n",
       "Darkness - lights lit          129335\n",
       "Darkness - no lighting          37437\n",
       "Darkness - lighting unknown      6484\n",
       "Darkness - lights unlit          2543\n",
       "Name: count, dtype: int64"
      ]
     },
     "execution_count": 91,
     "metadata": {},
     "output_type": "execute_result"
    }
   ],
   "source": [
    "data['Light_Conditions'].value_counts()"
   ]
  },
  {
   "cell_type": "markdown",
   "id": "3b4d159e-f20f-438c-9d71-baf3069f22c9",
   "metadata": {
    "jp-MarkdownHeadingCollapsed": true
   },
   "source": [
    "<br>\n",
    "<h4>The data analysis shown above says that its usually in <strong>Daylight</strong> that most accidents in the UK happends.</h4>\n",
    "<p><i>INSIGHT:</i> The data above shows that accidents occur usually in a morning in the UK, with the value of 484,880 accidents in a Daylight setting.</p>\n",
    "<hr>\n",
    "<br>"
   ]
  },
  {
   "cell_type": "markdown",
   "id": "ffc9f8bc-a87b-41b1-971c-41b7d21e574a",
   "metadata": {},
   "source": [
    "<br>\n",
    "<br>\n",
    "<h2>QUESTION 6: IN WHAT TYPE OF ROAD DOES MOST ACCIDENTS HAPPEN?</h2>\n",
    "<hr>"
   ]
  },
  {
   "cell_type": "code",
   "execution_count": 16,
   "id": "1da967d9-eda8-4124-ae21-0af4720ce781",
   "metadata": {},
   "outputs": [
    {
     "data": {
      "text/plain": [
       "Road_Type\n",
       "Single carriageway    496663\n",
       "Dual carriageway       99424\n",
       "Roundabout             43992\n",
       "One way street         13559\n",
       "Slip road               7041\n",
       "Name: count, dtype: int64"
      ]
     },
     "execution_count": 16,
     "metadata": {},
     "output_type": "execute_result"
    }
   ],
   "source": [
    "data['Road_Type'].value_counts()"
   ]
  },
  {
   "cell_type": "markdown",
   "id": "e70bb845-794d-4375-9b4b-120ec73e8b36",
   "metadata": {},
   "source": [
    "<br>\n",
    "<h4>The data analysis shown above says that its usually in <strong>Single carriageway</strong> that most accidents in the UK happends.</h4>\n",
    "<p><i>INSIGHT:</i> The data above shows that accidents occur usually in single carriageway in the UK, with the value of 496,663 accidents.</p>\n",
    "<hr>\n",
    "<br>"
   ]
  },
  {
   "cell_type": "markdown",
   "id": "f6b70362-5e25-4db3-8475-0afd851f5845",
   "metadata": {},
   "source": [
    "<br>\n",
    "<br>\n",
    "<h2>QUESTION 7: IN WHAT DISTRICT AREA HAD THE ACCIDENT WITH THE MOST CASUALTIES THAT IS EVER RECORDED?</h2>\n",
    "<hr>"
   ]
  },
  {
   "cell_type": "code",
   "execution_count": 92,
   "id": "2ea35d26-a58f-4d81-aee6-82bd3246921d",
   "metadata": {
    "scrolled": true
   },
   "outputs": [
    {
     "name": "stdout",
     "output_type": "stream",
     "text": [
      "THE HIGHEST CASUALTIES IN ONE ACCIDENT EVER RECORDED IS 68\n"
     ]
    },
    {
     "data": {
      "text/html": [
       "<div>\n",
       "<style scoped>\n",
       "    .dataframe tbody tr th:only-of-type {\n",
       "        vertical-align: middle;\n",
       "    }\n",
       "\n",
       "    .dataframe tbody tr th {\n",
       "        vertical-align: top;\n",
       "    }\n",
       "\n",
       "    .dataframe thead th {\n",
       "        text-align: right;\n",
       "    }\n",
       "</style>\n",
       "<table border=\"1\" class=\"dataframe\">\n",
       "  <thead>\n",
       "    <tr style=\"text-align: right;\">\n",
       "      <th></th>\n",
       "      <th>Index</th>\n",
       "      <th>Accident_Severity</th>\n",
       "      <th>Accident Date</th>\n",
       "      <th>Latitude</th>\n",
       "      <th>Light_Conditions</th>\n",
       "      <th>District Area</th>\n",
       "      <th>Longitude</th>\n",
       "      <th>Number_of_Casualties</th>\n",
       "      <th>Number_of_Vehicles</th>\n",
       "      <th>Road_Surface_Conditions</th>\n",
       "      <th>Road_Type</th>\n",
       "      <th>Urban_or_Rural_Area</th>\n",
       "      <th>Weather_Conditions</th>\n",
       "      <th>Vehicle_Type</th>\n",
       "    </tr>\n",
       "  </thead>\n",
       "  <tbody>\n",
       "    <tr>\n",
       "      <th>117980</th>\n",
       "      <td>200743N002017</td>\n",
       "      <td>Fatal</td>\n",
       "      <td>3/1/2019</td>\n",
       "      <td>51.497547</td>\n",
       "      <td>Darkness - lights lit</td>\n",
       "      <td>South Bucks</td>\n",
       "      <td>-0.496697</td>\n",
       "      <td>68</td>\n",
       "      <td>1</td>\n",
       "      <td>Wet or damp</td>\n",
       "      <td>Slip road</td>\n",
       "      <td>Rural</td>\n",
       "      <td>Raining no high winds</td>\n",
       "      <td>Car</td>\n",
       "    </tr>\n",
       "  </tbody>\n",
       "</table>\n",
       "</div>"
      ],
      "text/plain": [
       "                Index Accident_Severity Accident Date   Latitude  \\\n",
       "117980  200743N002017             Fatal      3/1/2019  51.497547   \n",
       "\n",
       "             Light_Conditions District Area  Longitude  Number_of_Casualties  \\\n",
       "117980  Darkness - lights lit   South Bucks  -0.496697                    68   \n",
       "\n",
       "        Number_of_Vehicles Road_Surface_Conditions  Road_Type  \\\n",
       "117980                   1             Wet or damp  Slip road   \n",
       "\n",
       "       Urban_or_Rural_Area     Weather_Conditions Vehicle_Type  \n",
       "117980               Rural  Raining no high winds          Car  "
      ]
     },
     "execution_count": 92,
     "metadata": {},
     "output_type": "execute_result"
    }
   ],
   "source": [
    "highest_casualties = data['Number_of_Casualties'].max()\n",
    "\n",
    "print(f'THE HIGHEST CASUALTIES IN ONE ACCIDENT EVER RECORDED IS {highest_casualties}')\n",
    "\n",
    "data[data['Number_of_Casualties'] == highest_casualties]"
   ]
  },
  {
   "cell_type": "markdown",
   "id": "b96000a3-db58-4820-846b-1f259d46561b",
   "metadata": {},
   "source": [
    "<br>\n",
    "<h4>The data analysis shown above says that the accident with the most casualties ever recorded in the dataset is in <strong>South Bucks</strong> district.</h4>\n",
    "<p><i>INSIGHT:</i> The data above shows that number of casualties is 68 and it happened on January 3rd, 2019</p>\n",
    "<hr>\n",
    "<br>"
   ]
  },
  {
   "cell_type": "markdown",
   "id": "d4436d31-a643-4cc5-a82f-57af24f5886a",
   "metadata": {},
   "source": [
    "<br>\n",
    "<br>\n",
    "<h2>QUESTION 8: WHAT'S THE AVERAGE NUMBER OF CASUALTIES BY THE SEVERITY OF ACCIDENTS?</h2>\n",
    "<hr>"
   ]
  },
  {
   "cell_type": "code",
   "execution_count": 18,
   "id": "ce87ad81-1b35-4d8a-aef5-24905a9cc344",
   "metadata": {
    "scrolled": true
   },
   "outputs": [
    {
     "data": {
      "text/plain": [
       "Accident_Severity\n",
       "Fatal      1.90\n",
       "Serious    1.47\n",
       "Slight     1.33\n",
       "Name: Number_of_Casualties, dtype: float64"
      ]
     },
     "execution_count": 18,
     "metadata": {},
     "output_type": "execute_result"
    }
   ],
   "source": [
    "np.round(data.groupby('Accident_Severity')['Number_of_Casualties'].mean(),2)"
   ]
  },
  {
   "cell_type": "markdown",
   "id": "1a9e961c-ebd4-4a39-b4a4-353b10bca066",
   "metadata": {},
   "source": [
    "<br>\n",
    "<h4>When it comes to Fatal Accidents, the average number of casualties is <strong>1.90</strong>.</h4>\n",
    "<h4>While, when it comes to Serious Accidents, it is <strong>1.47</strong>.</h4>\n",
    "<h4>Lastly, when it comes to Slight Accidents, it is <strong>1.33</strong>.</h4>\n",
    "<p><i>INSIGHT:</i> The data above shows that the average number of casualties, be it in every severity of accidents does not exceeds to more than 2. </p>\n",
    "<hr>\n",
    "<br>"
   ]
  },
  {
   "cell_type": "markdown",
   "id": "8eb2c760-948b-4b65-8100-866d66a18e64",
   "metadata": {},
   "source": [
    "<br>\n",
    "<br>\n",
    "<h2>QUESTION 9: WHAT IS THE MOST FREQUENT ROAD SURFACE CONDITION THAT IS FOUND IN URBAN AREA WHEN AN ACCIDENT HAPPENS?</h2>\n",
    "<hr>"
   ]
  },
  {
   "cell_type": "code",
   "execution_count": 24,
   "id": "f741baca-2457-42f0-ab11-d1abfcd2e7f4",
   "metadata": {
    "scrolled": true
   },
   "outputs": [
    {
     "data": {
      "text/plain": [
       "Road_Surface_Conditions\n",
       "Dry                     303397\n",
       "Wet or damp             107698\n",
       "Frost or ice              7564\n",
       "Snow                      2788\n",
       "Flood over 3cm. deep       231\n",
       "Name: count, dtype: int64"
      ]
     },
     "execution_count": 24,
     "metadata": {},
     "output_type": "execute_result"
    }
   ],
   "source": [
    "urban_area = data[data['Urban_or_Rural_Area'] == 'Urban']\n",
    "\n",
    "urban_area['Road_Surface_Conditions'].value_counts()"
   ]
  },
  {
   "cell_type": "markdown",
   "id": "a04b5376-8c13-48e5-a8d7-7a4b26ecb872",
   "metadata": {},
   "source": [
    "<br>\n",
    "<h4>The data shown above says that the surface of the road is usually <strong>Dry</strong> when an accident happens.</h4>\n",
    "<p><i>INSIGHT:</i> Dry and wet/damp are the common road surface condition when an accident happens in the UK. </p>\n",
    "<hr>\n",
    "<br>"
   ]
  },
  {
   "cell_type": "markdown",
   "id": "28aa40de-deb7-4f74-a63f-e14367e8928b",
   "metadata": {},
   "source": [
    "<br>\n",
    "<br>\n",
    "<h2>QUESTION 10: WHAT DATE HAS THE HIGHEST ROAD ACCIDENTS EVER RECORDED? HOW MANY CASUALTIES WERE AFFECTED THAT DATE? </h2>\n",
    "<hr>"
   ]
  },
  {
   "cell_type": "code",
   "execution_count": 112,
   "id": "af5ffd03-4328-4d1b-a9fe-8f36e75ed32e",
   "metadata": {
    "scrolled": true
   },
   "outputs": [
    {
     "name": "stdout",
     "output_type": "stream",
     "text": [
      "THE DATE WITH THE HIGHEST ROAD ACCIDENT IS 30-11-2019\n",
      "WHILE THE TOTAL CASUALTIES DURING THAT DAY IS 938\n"
     ]
    },
    {
     "data": {
      "text/html": [
       "<div>\n",
       "<style scoped>\n",
       "    .dataframe tbody tr th:only-of-type {\n",
       "        vertical-align: middle;\n",
       "    }\n",
       "\n",
       "    .dataframe tbody tr th {\n",
       "        vertical-align: top;\n",
       "    }\n",
       "\n",
       "    .dataframe thead th {\n",
       "        text-align: right;\n",
       "    }\n",
       "</style>\n",
       "<table border=\"1\" class=\"dataframe\">\n",
       "  <thead>\n",
       "    <tr style=\"text-align: right;\">\n",
       "      <th></th>\n",
       "      <th>Index</th>\n",
       "      <th>Accident_Severity</th>\n",
       "      <th>Accident Date</th>\n",
       "      <th>Latitude</th>\n",
       "      <th>Light_Conditions</th>\n",
       "      <th>District Area</th>\n",
       "      <th>Longitude</th>\n",
       "      <th>Number_of_Casualties</th>\n",
       "      <th>Number_of_Vehicles</th>\n",
       "      <th>Road_Surface_Conditions</th>\n",
       "      <th>Road_Type</th>\n",
       "      <th>Urban_or_Rural_Area</th>\n",
       "      <th>Weather_Conditions</th>\n",
       "      <th>Vehicle_Type</th>\n",
       "    </tr>\n",
       "  </thead>\n",
       "  <tbody>\n",
       "    <tr>\n",
       "      <th>627</th>\n",
       "      <td>200701BS70671</td>\n",
       "      <td>Slight</td>\n",
       "      <td>30-11-2019</td>\n",
       "      <td>51.495858</td>\n",
       "      <td>Darkness - lights lit</td>\n",
       "      <td>Kensington and Chelsea</td>\n",
       "      <td>-0.192343</td>\n",
       "      <td>1</td>\n",
       "      <td>2</td>\n",
       "      <td>Wet or damp</td>\n",
       "      <td>Single carriageway</td>\n",
       "      <td>Urban</td>\n",
       "      <td>Raining no high winds</td>\n",
       "      <td>Car</td>\n",
       "    </tr>\n",
       "    <tr>\n",
       "      <th>629</th>\n",
       "      <td>200701BS70673</td>\n",
       "      <td>Slight</td>\n",
       "      <td>30-11-2019</td>\n",
       "      <td>51.523668</td>\n",
       "      <td>Darkness - lights lit</td>\n",
       "      <td>Kensington and Chelsea</td>\n",
       "      <td>-0.217334</td>\n",
       "      <td>3</td>\n",
       "      <td>3</td>\n",
       "      <td>Wet or damp</td>\n",
       "      <td>Single carriageway</td>\n",
       "      <td>Urban</td>\n",
       "      <td>Raining no high winds</td>\n",
       "      <td>Goods 7.5 tonnes mgw and over</td>\n",
       "    </tr>\n",
       "    <tr>\n",
       "      <th>639</th>\n",
       "      <td>200701BS70685</td>\n",
       "      <td>Slight</td>\n",
       "      <td>30-11-2019</td>\n",
       "      <td>51.490534</td>\n",
       "      <td>Daylight</td>\n",
       "      <td>Kensington and Chelsea</td>\n",
       "      <td>-0.191113</td>\n",
       "      <td>1</td>\n",
       "      <td>1</td>\n",
       "      <td>Dry</td>\n",
       "      <td>Single carriageway</td>\n",
       "      <td>Urban</td>\n",
       "      <td>Fine no high winds</td>\n",
       "      <td>Van / Goods 3.5 tonnes mgw or under</td>\n",
       "    </tr>\n",
       "    <tr>\n",
       "      <th>647</th>\n",
       "      <td>200701BS70694</td>\n",
       "      <td>Slight</td>\n",
       "      <td>30-11-2019</td>\n",
       "      <td>51.505260</td>\n",
       "      <td>Darkness - lights lit</td>\n",
       "      <td>Kensington and Chelsea</td>\n",
       "      <td>-0.213153</td>\n",
       "      <td>1</td>\n",
       "      <td>1</td>\n",
       "      <td>Wet or damp</td>\n",
       "      <td>Dual carriageway</td>\n",
       "      <td>Urban</td>\n",
       "      <td>Raining no high winds</td>\n",
       "      <td>Motorcycle over 500cc</td>\n",
       "    </tr>\n",
       "    <tr>\n",
       "      <th>674</th>\n",
       "      <td>200701BS70725</td>\n",
       "      <td>Serious</td>\n",
       "      <td>30-11-2019</td>\n",
       "      <td>51.484887</td>\n",
       "      <td>Darkness - lights lit</td>\n",
       "      <td>Kensington and Chelsea</td>\n",
       "      <td>-0.174917</td>\n",
       "      <td>1</td>\n",
       "      <td>2</td>\n",
       "      <td>Wet or damp</td>\n",
       "      <td>Single carriageway</td>\n",
       "      <td>Urban</td>\n",
       "      <td>Fine no high winds</td>\n",
       "      <td>Motorcycle 125cc and under</td>\n",
       "    </tr>\n",
       "    <tr>\n",
       "      <th>...</th>\n",
       "      <td>...</td>\n",
       "      <td>...</td>\n",
       "      <td>...</td>\n",
       "      <td>...</td>\n",
       "      <td>...</td>\n",
       "      <td>...</td>\n",
       "      <td>...</td>\n",
       "      <td>...</td>\n",
       "      <td>...</td>\n",
       "      <td>...</td>\n",
       "      <td>...</td>\n",
       "      <td>...</td>\n",
       "      <td>...</td>\n",
       "      <td>...</td>\n",
       "    </tr>\n",
       "    <tr>\n",
       "      <th>181141</th>\n",
       "      <td>200797UA70811</td>\n",
       "      <td>Serious</td>\n",
       "      <td>30-11-2019</td>\n",
       "      <td>55.642006</td>\n",
       "      <td>Daylight</td>\n",
       "      <td>North Ayrshire</td>\n",
       "      <td>-4.683832</td>\n",
       "      <td>1</td>\n",
       "      <td>1</td>\n",
       "      <td>Wet or damp</td>\n",
       "      <td>Single carriageway</td>\n",
       "      <td>Rural</td>\n",
       "      <td>Fine no high winds</td>\n",
       "      <td>Car</td>\n",
       "    </tr>\n",
       "    <tr>\n",
       "      <th>181945</th>\n",
       "      <td>2.01E+12</td>\n",
       "      <td>Serious</td>\n",
       "      <td>30-11-2019</td>\n",
       "      <td>55.050682</td>\n",
       "      <td>Daylight</td>\n",
       "      <td>Dumfries and Galloway</td>\n",
       "      <td>-3.776910</td>\n",
       "      <td>1</td>\n",
       "      <td>1</td>\n",
       "      <td>Wet or damp</td>\n",
       "      <td>Single carriageway</td>\n",
       "      <td>Rural</td>\n",
       "      <td>Fine no high winds</td>\n",
       "      <td>Car</td>\n",
       "    </tr>\n",
       "    <tr>\n",
       "      <th>181946</th>\n",
       "      <td>2.01E+12</td>\n",
       "      <td>Slight</td>\n",
       "      <td>30-11-2019</td>\n",
       "      <td>55.031332</td>\n",
       "      <td>Darkness - no lighting</td>\n",
       "      <td>Dumfries and Galloway</td>\n",
       "      <td>-3.617705</td>\n",
       "      <td>1</td>\n",
       "      <td>1</td>\n",
       "      <td>Wet or damp</td>\n",
       "      <td>Single carriageway</td>\n",
       "      <td>Rural</td>\n",
       "      <td>Raining no high winds</td>\n",
       "      <td>Car</td>\n",
       "    </tr>\n",
       "    <tr>\n",
       "      <th>181949</th>\n",
       "      <td>2.01E+12</td>\n",
       "      <td>Serious</td>\n",
       "      <td>30-11-2019</td>\n",
       "      <td>55.068908</td>\n",
       "      <td>Daylight</td>\n",
       "      <td>Dumfries and Galloway</td>\n",
       "      <td>-3.610294</td>\n",
       "      <td>1</td>\n",
       "      <td>1</td>\n",
       "      <td>Wet or damp</td>\n",
       "      <td>One way street</td>\n",
       "      <td>Urban</td>\n",
       "      <td>Raining no high winds</td>\n",
       "      <td>Car</td>\n",
       "    </tr>\n",
       "    <tr>\n",
       "      <th>182100</th>\n",
       "      <td>2.01E+12</td>\n",
       "      <td>Slight</td>\n",
       "      <td>30-11-2019</td>\n",
       "      <td>55.113411</td>\n",
       "      <td>Daylight</td>\n",
       "      <td>Dumfries and Galloway</td>\n",
       "      <td>-3.405752</td>\n",
       "      <td>1</td>\n",
       "      <td>2</td>\n",
       "      <td>Wet or damp</td>\n",
       "      <td>Single carriageway</td>\n",
       "      <td>Rural</td>\n",
       "      <td>Fine no high winds</td>\n",
       "      <td>Car</td>\n",
       "    </tr>\n",
       "  </tbody>\n",
       "</table>\n",
       "<p>704 rows × 14 columns</p>\n",
       "</div>"
      ],
      "text/plain": [
       "                Index Accident_Severity Accident Date   Latitude  \\\n",
       "627     200701BS70671            Slight    30-11-2019  51.495858   \n",
       "629     200701BS70673            Slight    30-11-2019  51.523668   \n",
       "639     200701BS70685            Slight    30-11-2019  51.490534   \n",
       "647     200701BS70694            Slight    30-11-2019  51.505260   \n",
       "674     200701BS70725           Serious    30-11-2019  51.484887   \n",
       "...               ...               ...           ...        ...   \n",
       "181141  200797UA70811           Serious    30-11-2019  55.642006   \n",
       "181945       2.01E+12           Serious    30-11-2019  55.050682   \n",
       "181946       2.01E+12            Slight    30-11-2019  55.031332   \n",
       "181949       2.01E+12           Serious    30-11-2019  55.068908   \n",
       "182100       2.01E+12            Slight    30-11-2019  55.113411   \n",
       "\n",
       "              Light_Conditions           District Area  Longitude  \\\n",
       "627      Darkness - lights lit  Kensington and Chelsea  -0.192343   \n",
       "629      Darkness - lights lit  Kensington and Chelsea  -0.217334   \n",
       "639                   Daylight  Kensington and Chelsea  -0.191113   \n",
       "647      Darkness - lights lit  Kensington and Chelsea  -0.213153   \n",
       "674      Darkness - lights lit  Kensington and Chelsea  -0.174917   \n",
       "...                        ...                     ...        ...   \n",
       "181141                Daylight          North Ayrshire  -4.683832   \n",
       "181945                Daylight   Dumfries and Galloway  -3.776910   \n",
       "181946  Darkness - no lighting   Dumfries and Galloway  -3.617705   \n",
       "181949                Daylight   Dumfries and Galloway  -3.610294   \n",
       "182100                Daylight   Dumfries and Galloway  -3.405752   \n",
       "\n",
       "        Number_of_Casualties  Number_of_Vehicles Road_Surface_Conditions  \\\n",
       "627                        1                   2             Wet or damp   \n",
       "629                        3                   3             Wet or damp   \n",
       "639                        1                   1                     Dry   \n",
       "647                        1                   1             Wet or damp   \n",
       "674                        1                   2             Wet or damp   \n",
       "...                      ...                 ...                     ...   \n",
       "181141                     1                   1             Wet or damp   \n",
       "181945                     1                   1             Wet or damp   \n",
       "181946                     1                   1             Wet or damp   \n",
       "181949                     1                   1             Wet or damp   \n",
       "182100                     1                   2             Wet or damp   \n",
       "\n",
       "                 Road_Type Urban_or_Rural_Area     Weather_Conditions  \\\n",
       "627     Single carriageway               Urban  Raining no high winds   \n",
       "629     Single carriageway               Urban  Raining no high winds   \n",
       "639     Single carriageway               Urban     Fine no high winds   \n",
       "647       Dual carriageway               Urban  Raining no high winds   \n",
       "674     Single carriageway               Urban     Fine no high winds   \n",
       "...                    ...                 ...                    ...   \n",
       "181141  Single carriageway               Rural     Fine no high winds   \n",
       "181945  Single carriageway               Rural     Fine no high winds   \n",
       "181946  Single carriageway               Rural  Raining no high winds   \n",
       "181949      One way street               Urban  Raining no high winds   \n",
       "182100  Single carriageway               Rural     Fine no high winds   \n",
       "\n",
       "                               Vehicle_Type  \n",
       "627                                     Car  \n",
       "629           Goods 7.5 tonnes mgw and over  \n",
       "639     Van / Goods 3.5 tonnes mgw or under  \n",
       "647                   Motorcycle over 500cc  \n",
       "674              Motorcycle 125cc and under  \n",
       "...                                     ...  \n",
       "181141                                  Car  \n",
       "181945                                  Car  \n",
       "181946                                  Car  \n",
       "181949                                  Car  \n",
       "182100                                  Car  \n",
       "\n",
       "[704 rows x 14 columns]"
      ]
     },
     "execution_count": 112,
     "metadata": {},
     "output_type": "execute_result"
    }
   ],
   "source": [
    "most_frequent_date = data['Accident Date'].mode()[0]\n",
    "total_casualties = data[data['Accident Date'] == most_frequent_date]['Number_of_Casualties'].sum()\n",
    "\n",
    "print(f'THE DATE WITH THE HIGHEST ROAD ACCIDENT IS {most_frequent_date}')\n",
    "print(f'WHILE THE TOTAL CASUALTIES DURING THAT DAY IS {total_casualties}')\n",
    "\n",
    "data[data['Accident Date'] == most_frequent_date]"
   ]
  },
  {
   "cell_type": "markdown",
   "id": "17906e11-a5e2-41da-905e-b6ca0cc07146",
   "metadata": {},
   "source": [
    "<br>\n",
    "<h4>The data above shows that the date with the highest accidents is on <strong>November 30th, 2019</strong>.</h4>\n",
    "<h4>While, the total casualties falls into <strong>938</strong> during that day.</h4>\n",
    "<p><i>INSIGHT:</i> A total of 704 accidents during that day was recorded, all happening across the nation of UK.</p>\n",
    "<hr>\n",
    "<br>"
   ]
  },
  {
   "cell_type": "markdown",
   "id": "9b07dc4f-9a4b-49a6-91f3-2cf0ba3da6ab",
   "metadata": {},
   "source": [
    "<br>\n",
    "<br>\n",
    "<h2>QUESTION 11: DOES THE GEOGRAPHICAL AREA (URBAN & RURAL) HAS A SIGNIFICANT EFFECT TO THE NUMBER OF CASUALTIES PER ACCIDENT? </h2>\n",
    "<hr>"
   ]
  },
  {
   "cell_type": "code",
   "execution_count": 122,
   "id": "d885cf94-1b3b-4c34-bbc1-f09340fcdc35",
   "metadata": {
    "scrolled": true
   },
   "outputs": [
    {
     "name": "stdout",
     "output_type": "stream",
     "text": [
      "The probability value is 0.0\n",
      "Hence, it does not have a correlation.\n"
     ]
    }
   ],
   "source": [
    "urban_casualties = data[data['Urban_or_Rural_Area'] == 'Urban']['Number_of_Casualties']\n",
    "rural_casualties = data[data['Urban_or_Rural_Area'] == 'Rural']['Number_of_Casualties']\n",
    "\n",
    "\n",
    "stats, p_value = f_oneway(urban_casualties, rural_casualties)\n",
    "\n",
    "print(f'The probability value is {p_value}')\n",
    "if p_value >= 0.5:\n",
    "    print(f'Hence, it does have a correlation.')\n",
    "else:\n",
    "    print(f'Hence, it does not have a correlation.')\n",
    "\n",
    "# if probability value >= 0.5 = with correlation\n",
    "# else if probability value < 0.5 = no correlation"
   ]
  },
  {
   "cell_type": "markdown",
   "id": "90a39152-3a07-4343-9db4-8796ea90346b",
   "metadata": {
    "jp-MarkdownHeadingCollapsed": true
   },
   "source": [
    "<br>\n",
    "<h4>The analysis above shows that the Geograhpical area <strong>do not have a correlation</strong> to the number of casualties per accident.</h4>\n",
    "<p><i>INSIGHT:</i> The probability that the two variable has a correlation is only 0.0</p>\n",
    "<hr>\n",
    "<br>"
   ]
  },
  {
   "cell_type": "markdown",
   "id": "80080e6a-cc9a-412b-b8a6-2d35fea0ddc8",
   "metadata": {},
   "source": [
    "<br>\n",
    "<br>\n",
    "<h2>QUESTION 12: DOES THE NUMBER OF VEHICLES PER ACCIDENT HAVE A CORRELATION TO THE NUMBER OF CASUALTIES? </h2>\n",
    "<hr>"
   ]
  },
  {
   "cell_type": "code",
   "execution_count": 126,
   "id": "b2bcd21c-aa2e-4ffe-90a7-8bbfa1af47da",
   "metadata": {
    "scrolled": true
   },
   "outputs": [
    {
     "name": "stdout",
     "output_type": "stream",
     "text": [
      "The probability value is 0.22888886126927557\n",
      "Hence, it does not have a correlation.\n"
     ]
    }
   ],
   "source": [
    "no_of_vehicles = data['Number_of_Vehicles']\n",
    "no_of_casualties = data['Number_of_Casualties']\n",
    "\n",
    "p_value = no_of_vehicles.corr(no_of_casualties)\n",
    "\n",
    "print(f'The probability value is {p_value}')\n",
    "if p_value >= 0.5:\n",
    "    print(f'Hence, it does have a correlation.')\n",
    "else:\n",
    "    print(f'Hence, it does not have a correlation.')\n",
    "\n",
    "# if probability value >= 0.5 = with correlation\n",
    "# else if probability value < 0.5 = no correlation"
   ]
  },
  {
   "cell_type": "markdown",
   "id": "d73a2e4c-8379-4c39-9f40-1d67e1481b9e",
   "metadata": {},
   "source": [
    "<br>\n",
    "<h4>The analysis above shows that the NUmver <strong>do not have a correlation</strong> to the number of casualties per accident.</h4>\n",
    "<p><i>INSIGHT:</i> The probability that the two variable has a correlation is only 0.0</p>\n",
    "<hr>\n",
    "<br>"
   ]
  },
  {
   "cell_type": "code",
   "execution_count": 124,
   "id": "d314eb05-a64b-4b26-9bc3-b0a333c6bfca",
   "metadata": {},
   "outputs": [
    {
     "data": {
      "text/plain": [
       "Index                      category\n",
       "Accident_Severity          category\n",
       "Accident Date              category\n",
       "Latitude                    float64\n",
       "Light_Conditions           category\n",
       "District Area              category\n",
       "Longitude                   float64\n",
       "Number_of_Casualties          int64\n",
       "Number_of_Vehicles            int64\n",
       "Road_Surface_Conditions    category\n",
       "Road_Type                  category\n",
       "Urban_or_Rural_Area        category\n",
       "Weather_Conditions         category\n",
       "Vehicle_Type               category\n",
       "dtype: object"
      ]
     },
     "execution_count": 124,
     "metadata": {},
     "output_type": "execute_result"
    }
   ],
   "source": [
    "data.dtypes"
   ]
  },
  {
   "cell_type": "code",
   "execution_count": null,
   "id": "63ad56e1-dddd-4f7f-89b4-aa98e5df23a7",
   "metadata": {},
   "outputs": [],
   "source": []
  }
 ],
 "metadata": {
  "kernelspec": {
   "display_name": "Python 3 (ipykernel)",
   "language": "python",
   "name": "python3"
  },
  "language_info": {
   "codemirror_mode": {
    "name": "ipython",
    "version": 3
   },
   "file_extension": ".py",
   "mimetype": "text/x-python",
   "name": "python",
   "nbconvert_exporter": "python",
   "pygments_lexer": "ipython3",
   "version": "3.11.9"
  }
 },
 "nbformat": 4,
 "nbformat_minor": 5
}
