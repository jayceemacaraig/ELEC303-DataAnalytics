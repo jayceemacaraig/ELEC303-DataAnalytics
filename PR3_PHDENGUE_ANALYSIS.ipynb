{
 "cells": [
  {
   "cell_type": "markdown",
   "id": "6d1bf682-dd5b-4ea3-901e-cc590d5f3236",
   "metadata": {},
   "source": [
    "<h1 style='text-align: center;'>DENGUE DATA ANALYSIS IN THE PHILIPPINES 2016-2020</h1>\n",
    "<br>\n",
    "<h2 style='text-align: center;'>JAY CEE I. MACARAIG</h2>\n",
    "<h3 style='text-align: center;'>BSIT - 3B</h3>\n",
    "<hr>"
   ]
  },
  {
   "cell_type": "markdown",
   "id": "e52cc781-a4b5-4e38-8a15-8347d3a13444",
   "metadata": {},
   "source": [
    "<h2>IMPORTING IMPORTANT LIBRARIES</h2>"
   ]
  },
  {
   "cell_type": "code",
   "execution_count": 1,
   "id": "57414005-7c0f-4312-a1ba-7d0a8d0683e4",
   "metadata": {},
   "outputs": [],
   "source": [
    "import numpy as np\n",
    "import pandas as pd\n",
    "import matplotlib.pyplot as plt\n",
    "import seaborn as sns\n",
    "import warnings\n",
    "\n",
    "warnings.filterwarnings('ignore')"
   ]
  },
  {
   "cell_type": "code",
   "execution_count": 2,
   "id": "250eddfd-f821-452b-a7a1-c22cd9d5ed96",
   "metadata": {},
   "outputs": [],
   "source": [
    "data = pd.read_csv('datasets\\\\dengue.csv')"
   ]
  },
  {
   "cell_type": "code",
   "execution_count": 3,
   "id": "5c466aa4-9ad1-42ac-bdf6-201de350987c",
   "metadata": {},
   "outputs": [
    {
     "data": {
      "text/html": [
       "<div>\n",
       "<style scoped>\n",
       "    .dataframe tbody tr th:only-of-type {\n",
       "        vertical-align: middle;\n",
       "    }\n",
       "\n",
       "    .dataframe tbody tr th {\n",
       "        vertical-align: top;\n",
       "    }\n",
       "\n",
       "    .dataframe thead th {\n",
       "        text-align: right;\n",
       "    }\n",
       "</style>\n",
       "<table border=\"1\" class=\"dataframe\">\n",
       "  <thead>\n",
       "    <tr style=\"text-align: right;\">\n",
       "      <th></th>\n",
       "      <th>Month</th>\n",
       "      <th>Year</th>\n",
       "      <th>Region</th>\n",
       "      <th>Dengue_Cases</th>\n",
       "      <th>Dengue_Deaths</th>\n",
       "    </tr>\n",
       "  </thead>\n",
       "  <tbody>\n",
       "    <tr>\n",
       "      <th>0</th>\n",
       "      <td>January</td>\n",
       "      <td>2016</td>\n",
       "      <td>Region I</td>\n",
       "      <td>705</td>\n",
       "      <td>1</td>\n",
       "    </tr>\n",
       "    <tr>\n",
       "      <th>1</th>\n",
       "      <td>February</td>\n",
       "      <td>2016</td>\n",
       "      <td>Region I</td>\n",
       "      <td>374</td>\n",
       "      <td>0</td>\n",
       "    </tr>\n",
       "    <tr>\n",
       "      <th>2</th>\n",
       "      <td>March</td>\n",
       "      <td>2016</td>\n",
       "      <td>Region I</td>\n",
       "      <td>276</td>\n",
       "      <td>0</td>\n",
       "    </tr>\n",
       "    <tr>\n",
       "      <th>3</th>\n",
       "      <td>April</td>\n",
       "      <td>2016</td>\n",
       "      <td>Region I</td>\n",
       "      <td>240</td>\n",
       "      <td>2</td>\n",
       "    </tr>\n",
       "    <tr>\n",
       "      <th>4</th>\n",
       "      <td>May</td>\n",
       "      <td>2016</td>\n",
       "      <td>Region I</td>\n",
       "      <td>243</td>\n",
       "      <td>1</td>\n",
       "    </tr>\n",
       "    <tr>\n",
       "      <th>...</th>\n",
       "      <td>...</td>\n",
       "      <td>...</td>\n",
       "      <td>...</td>\n",
       "      <td>...</td>\n",
       "      <td>...</td>\n",
       "    </tr>\n",
       "    <tr>\n",
       "      <th>1015</th>\n",
       "      <td>August</td>\n",
       "      <td>2020</td>\n",
       "      <td>BARMM</td>\n",
       "      <td>91</td>\n",
       "      <td>0</td>\n",
       "    </tr>\n",
       "    <tr>\n",
       "      <th>1016</th>\n",
       "      <td>September</td>\n",
       "      <td>2020</td>\n",
       "      <td>BARMM</td>\n",
       "      <td>16</td>\n",
       "      <td>8</td>\n",
       "    </tr>\n",
       "    <tr>\n",
       "      <th>1017</th>\n",
       "      <td>October</td>\n",
       "      <td>2020</td>\n",
       "      <td>BARMM</td>\n",
       "      <td>13</td>\n",
       "      <td>9</td>\n",
       "    </tr>\n",
       "    <tr>\n",
       "      <th>1018</th>\n",
       "      <td>November</td>\n",
       "      <td>2020</td>\n",
       "      <td>BARMM</td>\n",
       "      <td>15</td>\n",
       "      <td>1</td>\n",
       "    </tr>\n",
       "    <tr>\n",
       "      <th>1019</th>\n",
       "      <td>December</td>\n",
       "      <td>2020</td>\n",
       "      <td>BARMM</td>\n",
       "      <td>23</td>\n",
       "      <td>0</td>\n",
       "    </tr>\n",
       "  </tbody>\n",
       "</table>\n",
       "<p>1020 rows × 5 columns</p>\n",
       "</div>"
      ],
      "text/plain": [
       "          Month  Year    Region  Dengue_Cases  Dengue_Deaths\n",
       "0       January  2016  Region I           705              1\n",
       "1      February  2016  Region I           374              0\n",
       "2         March  2016  Region I           276              0\n",
       "3         April  2016  Region I           240              2\n",
       "4           May  2016  Region I           243              1\n",
       "...         ...   ...       ...           ...            ...\n",
       "1015     August  2020     BARMM            91              0\n",
       "1016  September  2020     BARMM            16              8\n",
       "1017    October  2020     BARMM            13              9\n",
       "1018   November  2020     BARMM            15              1\n",
       "1019   December  2020     BARMM            23              0\n",
       "\n",
       "[1020 rows x 5 columns]"
      ]
     },
     "execution_count": 3,
     "metadata": {},
     "output_type": "execute_result"
    }
   ],
   "source": [
    "data"
   ]
  },
  {
   "cell_type": "markdown",
   "id": "f861af79-a0ac-42b9-b4d9-cf0fb6a5cf67",
   "metadata": {},
   "source": [
    "<hr><br>\n",
    "<h2>CLEANING DATA TYPES AND FILLING UP NULL VALUES</h2>"
   ]
  },
  {
   "cell_type": "code",
   "execution_count": 4,
   "id": "a63a5934-8a29-4ed1-afbb-c06a288c2414",
   "metadata": {},
   "outputs": [
    {
     "data": {
      "text/plain": [
       "Index(['Month', 'Year', 'Region', 'Dengue_Cases', 'Dengue_Deaths'], dtype='object')"
      ]
     },
     "execution_count": 4,
     "metadata": {},
     "output_type": "execute_result"
    }
   ],
   "source": [
    "data.columns"
   ]
  },
  {
   "cell_type": "code",
   "execution_count": 5,
   "id": "52cdae5f-c7b5-41a3-a753-1782d3ee6324",
   "metadata": {},
   "outputs": [
    {
     "data": {
      "text/plain": [
       "Month            0\n",
       "Year             0\n",
       "Region           0\n",
       "Dengue_Cases     0\n",
       "Dengue_Deaths    0\n",
       "dtype: int64"
      ]
     },
     "execution_count": 5,
     "metadata": {},
     "output_type": "execute_result"
    }
   ],
   "source": [
    "data.isnull().sum()"
   ]
  },
  {
   "cell_type": "code",
   "execution_count": 6,
   "id": "6f7cad72-c0ce-428b-a0d3-c3f4746ae68f",
   "metadata": {},
   "outputs": [
    {
     "data": {
      "text/plain": [
       "Month            object\n",
       "Year              int64\n",
       "Region           object\n",
       "Dengue_Cases      int64\n",
       "Dengue_Deaths     int64\n",
       "dtype: object"
      ]
     },
     "execution_count": 6,
     "metadata": {},
     "output_type": "execute_result"
    }
   ],
   "source": [
    "data.dtypes"
   ]
  },
  {
   "cell_type": "code",
   "execution_count": 7,
   "id": "979c5a80-f260-49e8-afaa-64ac1b52a3fb",
   "metadata": {},
   "outputs": [
    {
     "data": {
      "text/plain": [
       "Month            category\n",
       "Year             category\n",
       "Region           category\n",
       "Dengue_Cases        int64\n",
       "Dengue_Deaths       int64\n",
       "dtype: object"
      ]
     },
     "execution_count": 7,
     "metadata": {},
     "output_type": "execute_result"
    }
   ],
   "source": [
    "data['Month'] = data['Month'].astype('category')\n",
    "data['Region'] = data['Region'].astype('category')\n",
    "data['Year'] = data['Year'].astype('category')\n",
    "data.dtypes"
   ]
  },
  {
   "cell_type": "code",
   "execution_count": 8,
   "id": "cf08cc86-1b29-47d9-895a-386f24fb3fb8",
   "metadata": {},
   "outputs": [],
   "source": [
    "regions_to_island = {\n",
    "    # LUZON ISLAND GROUP\n",
    "    'NCR': 'Luzon',\n",
    "    'CAR': 'Luzon',\n",
    "    'Region I': 'Luzon',\n",
    "    'Region II': 'Luzon',\n",
    "    'Region III': 'Luzon',\n",
    "    'Region IV-A': 'Luzon',\n",
    "    'Region IV-B': 'Luzon',\n",
    "    'Region V': 'Luzon',\n",
    "\n",
    "    # VISAYAS ISLAND GROUP\n",
    "    'Region VI': 'Visayas',\n",
    "    'Region VII': 'Visayas',\n",
    "    'Region VIII': 'Visayas',\n",
    "\n",
    "    # MINDANAO ISLAND GROUP\n",
    "    'Region IX': 'Mindanao',\n",
    "    'Region X': 'Mindanao',\n",
    "    'Region XI': 'Mindanao',\n",
    "    'Region XII': 'Mindanao',\n",
    "    'Region XIII': 'Mindanao',\n",
    "    'BARMM': 'Mindanao',\n",
    "}"
   ]
  },
  {
   "cell_type": "code",
   "execution_count": 9,
   "id": "049d32f1-c21d-42b3-b173-857848f36e6c",
   "metadata": {},
   "outputs": [
    {
     "data": {
      "text/html": [
       "<div>\n",
       "<style scoped>\n",
       "    .dataframe tbody tr th:only-of-type {\n",
       "        vertical-align: middle;\n",
       "    }\n",
       "\n",
       "    .dataframe tbody tr th {\n",
       "        vertical-align: top;\n",
       "    }\n",
       "\n",
       "    .dataframe thead th {\n",
       "        text-align: right;\n",
       "    }\n",
       "</style>\n",
       "<table border=\"1\" class=\"dataframe\">\n",
       "  <thead>\n",
       "    <tr style=\"text-align: right;\">\n",
       "      <th></th>\n",
       "      <th>Month</th>\n",
       "      <th>Year</th>\n",
       "      <th>Region</th>\n",
       "      <th>Dengue_Cases</th>\n",
       "      <th>Dengue_Deaths</th>\n",
       "      <th>Island</th>\n",
       "    </tr>\n",
       "  </thead>\n",
       "  <tbody>\n",
       "    <tr>\n",
       "      <th>0</th>\n",
       "      <td>January</td>\n",
       "      <td>2016</td>\n",
       "      <td>Region I</td>\n",
       "      <td>705</td>\n",
       "      <td>1</td>\n",
       "      <td>Luzon</td>\n",
       "    </tr>\n",
       "    <tr>\n",
       "      <th>1</th>\n",
       "      <td>February</td>\n",
       "      <td>2016</td>\n",
       "      <td>Region I</td>\n",
       "      <td>374</td>\n",
       "      <td>0</td>\n",
       "      <td>Luzon</td>\n",
       "    </tr>\n",
       "    <tr>\n",
       "      <th>2</th>\n",
       "      <td>March</td>\n",
       "      <td>2016</td>\n",
       "      <td>Region I</td>\n",
       "      <td>276</td>\n",
       "      <td>0</td>\n",
       "      <td>Luzon</td>\n",
       "    </tr>\n",
       "    <tr>\n",
       "      <th>3</th>\n",
       "      <td>April</td>\n",
       "      <td>2016</td>\n",
       "      <td>Region I</td>\n",
       "      <td>240</td>\n",
       "      <td>2</td>\n",
       "      <td>Luzon</td>\n",
       "    </tr>\n",
       "    <tr>\n",
       "      <th>4</th>\n",
       "      <td>May</td>\n",
       "      <td>2016</td>\n",
       "      <td>Region I</td>\n",
       "      <td>243</td>\n",
       "      <td>1</td>\n",
       "      <td>Luzon</td>\n",
       "    </tr>\n",
       "    <tr>\n",
       "      <th>...</th>\n",
       "      <td>...</td>\n",
       "      <td>...</td>\n",
       "      <td>...</td>\n",
       "      <td>...</td>\n",
       "      <td>...</td>\n",
       "      <td>...</td>\n",
       "    </tr>\n",
       "    <tr>\n",
       "      <th>1015</th>\n",
       "      <td>August</td>\n",
       "      <td>2020</td>\n",
       "      <td>BARMM</td>\n",
       "      <td>91</td>\n",
       "      <td>0</td>\n",
       "      <td>Mindanao</td>\n",
       "    </tr>\n",
       "    <tr>\n",
       "      <th>1016</th>\n",
       "      <td>September</td>\n",
       "      <td>2020</td>\n",
       "      <td>BARMM</td>\n",
       "      <td>16</td>\n",
       "      <td>8</td>\n",
       "      <td>Mindanao</td>\n",
       "    </tr>\n",
       "    <tr>\n",
       "      <th>1017</th>\n",
       "      <td>October</td>\n",
       "      <td>2020</td>\n",
       "      <td>BARMM</td>\n",
       "      <td>13</td>\n",
       "      <td>9</td>\n",
       "      <td>Mindanao</td>\n",
       "    </tr>\n",
       "    <tr>\n",
       "      <th>1018</th>\n",
       "      <td>November</td>\n",
       "      <td>2020</td>\n",
       "      <td>BARMM</td>\n",
       "      <td>15</td>\n",
       "      <td>1</td>\n",
       "      <td>Mindanao</td>\n",
       "    </tr>\n",
       "    <tr>\n",
       "      <th>1019</th>\n",
       "      <td>December</td>\n",
       "      <td>2020</td>\n",
       "      <td>BARMM</td>\n",
       "      <td>23</td>\n",
       "      <td>0</td>\n",
       "      <td>Mindanao</td>\n",
       "    </tr>\n",
       "  </tbody>\n",
       "</table>\n",
       "<p>1020 rows × 6 columns</p>\n",
       "</div>"
      ],
      "text/plain": [
       "          Month  Year    Region  Dengue_Cases  Dengue_Deaths    Island\n",
       "0       January  2016  Region I           705              1     Luzon\n",
       "1      February  2016  Region I           374              0     Luzon\n",
       "2         March  2016  Region I           276              0     Luzon\n",
       "3         April  2016  Region I           240              2     Luzon\n",
       "4           May  2016  Region I           243              1     Luzon\n",
       "...         ...   ...       ...           ...            ...       ...\n",
       "1015     August  2020     BARMM            91              0  Mindanao\n",
       "1016  September  2020     BARMM            16              8  Mindanao\n",
       "1017    October  2020     BARMM            13              9  Mindanao\n",
       "1018   November  2020     BARMM            15              1  Mindanao\n",
       "1019   December  2020     BARMM            23              0  Mindanao\n",
       "\n",
       "[1020 rows x 6 columns]"
      ]
     },
     "execution_count": 9,
     "metadata": {},
     "output_type": "execute_result"
    }
   ],
   "source": [
    "data['Island'] = data['Region'].map(regions_to_island)\n",
    "data"
   ]
  },
  {
   "cell_type": "markdown",
   "id": "50646ac3-57d0-4912-8cf7-2e0ba0d96de1",
   "metadata": {},
   "source": [
    "<br>\n",
    "<h2 style='text-align: center;'>DENGUE<br>DATA EXPLORATORY ANALYSIS</h2>\n",
    "<hr>"
   ]
  },
  {
   "cell_type": "markdown",
   "id": "4e955714-2fb2-4b07-bae6-320c45c321c0",
   "metadata": {},
   "source": [
    "<br>\n",
    "<br>\n",
    "<h2>ANALYSIS 1: DENGUE DEATH TRENDS BY YEAR (2016-2020)</h2>\n",
    "<hr>"
   ]
  },
  {
   "cell_type": "code",
   "execution_count": 20,
   "id": "ef0c8b1b-868d-4802-8fbc-2a729b5283a3",
   "metadata": {},
   "outputs": [
    {
     "data": {
      "text/plain": [
       "Year\n",
       "2016    8127\n",
       "2017    4563\n",
       "2018    1226\n",
       "2019    1733\n",
       "2020    1195\n",
       "Name: Dengue_Deaths, dtype: int64"
      ]
     },
     "execution_count": 20,
     "metadata": {},
     "output_type": "execute_result"
    }
   ],
   "source": [
    "dengue_deaths_per_year = data.groupby('Year')['Dengue_Deaths'].sum()"
   ]
  },
  {
   "cell_type": "code",
   "execution_count": 30,
   "id": "e622c8c1-351d-4e1d-ac38-8625eddfbf19",
   "metadata": {},
   "outputs": [
    {
     "data": {
      "image/png": "[encoded data removed]",
      "text/plain": [
       "<Figure size 1500x500 with 1 Axes>"
      ]
     },
     "metadata": {},
     "output_type": "display_data"
    }
   ],
   "source": [
    "dengue_deaths_per_year = data.groupby('Year')['Dengue_Deaths'].sum()\n",
    "\n",
    "plt.figure(figsize=(15, 5))\n",
    "sns.lineplot(x=dengue_deaths_per_year.index, y=dengue_deaths_per_year.values, marker=\"o\", color=\"blue\")\n",
    "plt.grid(alpha=0.5)\n",
    "plt.title(\"Dengue Death Trends by Year 2016 - 2020\")\n",
    "plt.xticks(range(0,5), ['2016', '2017','2018','2019','2020'])\n",
    "plt.xlabel(\"Years\")\n",
    "plt.ylabel(\"Dengue Deaths\")\n",
    "plt.show()"
   ]
  },
  {
   "cell_type": "markdown",
   "id": "f5d30348-3668-4781-a622-186da7782cf1",
   "metadata": {},
   "source": [
    "<br>\n",
    "<h4><span style='color:blue;font-weight: bold;'>INSIGHT 1 : </span>The data analyzation above shows that the most common day of the week that an accident occurs in the District Area of Kensington and Chealsea is </h4>\n",
    "<hr>\n",
    "<br>"
   ]
  },
  {
   "cell_type": "markdown",
   "id": "6520eedc-ff84-49c7-8c6b-5428dbfbc9a4",
   "metadata": {},
   "source": [
    "   <h3 style=\"text-align: right; margin-right: 80px;\">Analyst : Jay Cee I. Macaraig</h3>\n",
    "   <h3 style=\"text-align: right; margin-right: 80px;\">BSIT-3B</h3>"
   ]
  }
 ],
 "metadata": {
  "kernelspec": {
   "display_name": "Python 3 (ipykernel)",
   "language": "python",
   "name": "python3"
  },
  "language_info": {
   "codemirror_mode": {
    "name": "ipython",
    "version": 3
   },
   "file_extension": ".py",
   "mimetype": "text/x-python",
   "name": "python",
   "nbconvert_exporter": "python",
   "pygments_lexer": "ipython3",
   "version": "3.13.1"
  }
 },
 "nbformat": 4,
 "nbformat_minor": 5
}
