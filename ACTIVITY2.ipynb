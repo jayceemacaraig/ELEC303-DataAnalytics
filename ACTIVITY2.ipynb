{
 "cells": [
  {
   "cell_type": "markdown",
   "id": "6d1bf682-dd5b-4ea3-901e-cc590d5f3236",
   "metadata": {},
   "source": [
    "<h1 style='text-align: center;'>UK ROAD ACCIDENT DATA ANALYSIS</h1>\n",
    "<br>\n",
    "<h2 style='text-align: center;'>JAY CEE I. MACARAIG</h2>\n",
    "<h3 style='text-align: center;'>BSIT - 3B</h3>\n",
    "<hr>"
   ]
  },
  {
   "cell_type": "markdown",
   "id": "e52cc781-a4b5-4e38-8a15-8347d3a13444",
   "metadata": {},
   "source": [
    "<h2>IMPORTING IMPORTANT LIBRARIES</h2>"
   ]
  },
  {
   "cell_type": "code",
   "execution_count": 1,
   "id": "57414005-7c0f-4312-a1ba-7d0a8d0683e4",
   "metadata": {},
   "outputs": [],
   "source": [
    "import numpy as np\n",
    "import pandas as pd\n",
    "import matplotlib.pyplot as plt\n",
    "import warnings\n",
    "\n",
    "warnings.filterwarnings('ignore')"
   ]
  },
  {
   "cell_type": "code",
   "execution_count": 2,
   "id": "250eddfd-f821-452b-a7a1-c22cd9d5ed96",
   "metadata": {},
   "outputs": [],
   "source": [
    "data = pd.read_csv('datasets\\\\uk_road_accident.csv')"
   ]
  },
  {
   "cell_type": "code",
   "execution_count": 3,
   "id": "5c466aa4-9ad1-42ac-bdf6-201de350987c",
   "metadata": {},
   "outputs": [
    {
     "data": {
      "text/html": [
       "<div>\n",
       "<style scoped>\n",
       "    .dataframe tbody tr th:only-of-type {\n",
       "        vertical-align: middle;\n",
       "    }\n",
       "\n",
       "    .dataframe tbody tr th {\n",
       "        vertical-align: top;\n",
       "    }\n",
       "\n",
       "    .dataframe thead th {\n",
       "        text-align: right;\n",
       "    }\n",
       "</style>\n",
       "<table border=\"1\" class=\"dataframe\">\n",
       "  <thead>\n",
       "    <tr style=\"text-align: right;\">\n",
       "      <th></th>\n",
       "      <th>Index</th>\n",
       "      <th>Accident_Severity</th>\n",
       "      <th>Accident Date</th>\n",
       "      <th>Latitude</th>\n",
       "      <th>Light_Conditions</th>\n",
       "      <th>District Area</th>\n",
       "      <th>Longitude</th>\n",
       "      <th>Number_of_Casualties</th>\n",
       "      <th>Number_of_Vehicles</th>\n",
       "      <th>Road_Surface_Conditions</th>\n",
       "      <th>Road_Type</th>\n",
       "      <th>Urban_or_Rural_Area</th>\n",
       "      <th>Weather_Conditions</th>\n",
       "      <th>Vehicle_Type</th>\n",
       "    </tr>\n",
       "  </thead>\n",
       "  <tbody>\n",
       "    <tr>\n",
       "      <th>0</th>\n",
       "      <td>200701BS64157</td>\n",
       "      <td>Serious</td>\n",
       "      <td>5/6/2019</td>\n",
       "      <td>51.506187</td>\n",
       "      <td>Darkness - lights lit</td>\n",
       "      <td>Kensington and Chelsea</td>\n",
       "      <td>-0.209082</td>\n",
       "      <td>1</td>\n",
       "      <td>2</td>\n",
       "      <td>Dry</td>\n",
       "      <td>Single carriageway</td>\n",
       "      <td>Urban</td>\n",
       "      <td>Fine no high winds</td>\n",
       "      <td>Car</td>\n",
       "    </tr>\n",
       "    <tr>\n",
       "      <th>1</th>\n",
       "      <td>200701BS65737</td>\n",
       "      <td>Serious</td>\n",
       "      <td>2/7/2019</td>\n",
       "      <td>51.495029</td>\n",
       "      <td>Daylight</td>\n",
       "      <td>Kensington and Chelsea</td>\n",
       "      <td>-0.173647</td>\n",
       "      <td>1</td>\n",
       "      <td>2</td>\n",
       "      <td>Wet or damp</td>\n",
       "      <td>Single carriageway</td>\n",
       "      <td>Urban</td>\n",
       "      <td>Raining no high winds</td>\n",
       "      <td>Car</td>\n",
       "    </tr>\n",
       "    <tr>\n",
       "      <th>2</th>\n",
       "      <td>200701BS66127</td>\n",
       "      <td>Serious</td>\n",
       "      <td>26-08-2019</td>\n",
       "      <td>51.517715</td>\n",
       "      <td>Darkness - lighting unknown</td>\n",
       "      <td>Kensington and Chelsea</td>\n",
       "      <td>-0.210215</td>\n",
       "      <td>1</td>\n",
       "      <td>3</td>\n",
       "      <td>Dry</td>\n",
       "      <td>NaN</td>\n",
       "      <td>Urban</td>\n",
       "      <td>NaN</td>\n",
       "      <td>Taxi/Private hire car</td>\n",
       "    </tr>\n",
       "    <tr>\n",
       "      <th>3</th>\n",
       "      <td>200701BS66128</td>\n",
       "      <td>Serious</td>\n",
       "      <td>16-08-2019</td>\n",
       "      <td>51.495478</td>\n",
       "      <td>Daylight</td>\n",
       "      <td>Kensington and Chelsea</td>\n",
       "      <td>-0.202731</td>\n",
       "      <td>1</td>\n",
       "      <td>4</td>\n",
       "      <td>Dry</td>\n",
       "      <td>Single carriageway</td>\n",
       "      <td>Urban</td>\n",
       "      <td>Fine no high winds</td>\n",
       "      <td>Bus or coach (17 or more pass seats)</td>\n",
       "    </tr>\n",
       "    <tr>\n",
       "      <th>4</th>\n",
       "      <td>200701BS66837</td>\n",
       "      <td>Slight</td>\n",
       "      <td>3/9/2019</td>\n",
       "      <td>51.488576</td>\n",
       "      <td>Darkness - lights lit</td>\n",
       "      <td>Kensington and Chelsea</td>\n",
       "      <td>-0.192487</td>\n",
       "      <td>1</td>\n",
       "      <td>2</td>\n",
       "      <td>Dry</td>\n",
       "      <td>NaN</td>\n",
       "      <td>Urban</td>\n",
       "      <td>NaN</td>\n",
       "      <td>Other vehicle</td>\n",
       "    </tr>\n",
       "    <tr>\n",
       "      <th>...</th>\n",
       "      <td>...</td>\n",
       "      <td>...</td>\n",
       "      <td>...</td>\n",
       "      <td>...</td>\n",
       "      <td>...</td>\n",
       "      <td>...</td>\n",
       "      <td>...</td>\n",
       "      <td>...</td>\n",
       "      <td>...</td>\n",
       "      <td>...</td>\n",
       "      <td>...</td>\n",
       "      <td>...</td>\n",
       "      <td>...</td>\n",
       "      <td>...</td>\n",
       "    </tr>\n",
       "    <tr>\n",
       "      <th>660674</th>\n",
       "      <td>201091NM01760</td>\n",
       "      <td>Slight</td>\n",
       "      <td>18-02-2022</td>\n",
       "      <td>57.374005</td>\n",
       "      <td>Daylight</td>\n",
       "      <td>Highland</td>\n",
       "      <td>-3.467828</td>\n",
       "      <td>2</td>\n",
       "      <td>1</td>\n",
       "      <td>Dry</td>\n",
       "      <td>Single carriageway</td>\n",
       "      <td>Rural</td>\n",
       "      <td>Fine no high winds</td>\n",
       "      <td>Car</td>\n",
       "    </tr>\n",
       "    <tr>\n",
       "      <th>660675</th>\n",
       "      <td>201091NM01881</td>\n",
       "      <td>Slight</td>\n",
       "      <td>21-02-2022</td>\n",
       "      <td>57.232273</td>\n",
       "      <td>Darkness - no lighting</td>\n",
       "      <td>Highland</td>\n",
       "      <td>-3.809281</td>\n",
       "      <td>1</td>\n",
       "      <td>1</td>\n",
       "      <td>Frost or ice</td>\n",
       "      <td>Single carriageway</td>\n",
       "      <td>Rural</td>\n",
       "      <td>Fine no high winds</td>\n",
       "      <td>Car</td>\n",
       "    </tr>\n",
       "    <tr>\n",
       "      <th>660676</th>\n",
       "      <td>201091NM01935</td>\n",
       "      <td>Slight</td>\n",
       "      <td>23-02-2022</td>\n",
       "      <td>57.585044</td>\n",
       "      <td>Daylight</td>\n",
       "      <td>Highland</td>\n",
       "      <td>-3.862727</td>\n",
       "      <td>1</td>\n",
       "      <td>3</td>\n",
       "      <td>Frost or ice</td>\n",
       "      <td>Single carriageway</td>\n",
       "      <td>Rural</td>\n",
       "      <td>Fine no high winds</td>\n",
       "      <td>Car</td>\n",
       "    </tr>\n",
       "    <tr>\n",
       "      <th>660677</th>\n",
       "      <td>201091NM01964</td>\n",
       "      <td>Serious</td>\n",
       "      <td>23-02-2022</td>\n",
       "      <td>57.214898</td>\n",
       "      <td>Darkness - no lighting</td>\n",
       "      <td>Highland</td>\n",
       "      <td>-3.823997</td>\n",
       "      <td>1</td>\n",
       "      <td>2</td>\n",
       "      <td>Wet or damp</td>\n",
       "      <td>Single carriageway</td>\n",
       "      <td>Rural</td>\n",
       "      <td>Fine no high winds</td>\n",
       "      <td>Motorcycle over 500cc</td>\n",
       "    </tr>\n",
       "    <tr>\n",
       "      <th>660678</th>\n",
       "      <td>201091NM02142</td>\n",
       "      <td>Serious</td>\n",
       "      <td>28-02-2022</td>\n",
       "      <td>57.575210</td>\n",
       "      <td>Daylight</td>\n",
       "      <td>Highland</td>\n",
       "      <td>-3.895673</td>\n",
       "      <td>1</td>\n",
       "      <td>1</td>\n",
       "      <td>Wet or damp</td>\n",
       "      <td>Dual carriageway</td>\n",
       "      <td>Rural</td>\n",
       "      <td>Snowing no high winds</td>\n",
       "      <td>Car</td>\n",
       "    </tr>\n",
       "  </tbody>\n",
       "</table>\n",
       "<p>660679 rows × 14 columns</p>\n",
       "</div>"
      ],
      "text/plain": [
       "                Index Accident_Severity Accident Date   Latitude  \\\n",
       "0       200701BS64157           Serious      5/6/2019  51.506187   \n",
       "1       200701BS65737           Serious      2/7/2019  51.495029   \n",
       "2       200701BS66127           Serious    26-08-2019  51.517715   \n",
       "3       200701BS66128           Serious    16-08-2019  51.495478   \n",
       "4       200701BS66837            Slight      3/9/2019  51.488576   \n",
       "...               ...               ...           ...        ...   \n",
       "660674  201091NM01760            Slight    18-02-2022  57.374005   \n",
       "660675  201091NM01881            Slight    21-02-2022  57.232273   \n",
       "660676  201091NM01935            Slight    23-02-2022  57.585044   \n",
       "660677  201091NM01964           Serious    23-02-2022  57.214898   \n",
       "660678  201091NM02142           Serious    28-02-2022  57.575210   \n",
       "\n",
       "                   Light_Conditions           District Area  Longitude  \\\n",
       "0             Darkness - lights lit  Kensington and Chelsea  -0.209082   \n",
       "1                          Daylight  Kensington and Chelsea  -0.173647   \n",
       "2       Darkness - lighting unknown  Kensington and Chelsea  -0.210215   \n",
       "3                          Daylight  Kensington and Chelsea  -0.202731   \n",
       "4             Darkness - lights lit  Kensington and Chelsea  -0.192487   \n",
       "...                             ...                     ...        ...   \n",
       "660674                     Daylight                Highland  -3.467828   \n",
       "660675       Darkness - no lighting                Highland  -3.809281   \n",
       "660676                     Daylight                Highland  -3.862727   \n",
       "660677       Darkness - no lighting                Highland  -3.823997   \n",
       "660678                     Daylight                Highland  -3.895673   \n",
       "\n",
       "        Number_of_Casualties  Number_of_Vehicles Road_Surface_Conditions  \\\n",
       "0                          1                   2                     Dry   \n",
       "1                          1                   2             Wet or damp   \n",
       "2                          1                   3                     Dry   \n",
       "3                          1                   4                     Dry   \n",
       "4                          1                   2                     Dry   \n",
       "...                      ...                 ...                     ...   \n",
       "660674                     2                   1                     Dry   \n",
       "660675                     1                   1            Frost or ice   \n",
       "660676                     1                   3            Frost or ice   \n",
       "660677                     1                   2             Wet or damp   \n",
       "660678                     1                   1             Wet or damp   \n",
       "\n",
       "                 Road_Type Urban_or_Rural_Area     Weather_Conditions  \\\n",
       "0       Single carriageway               Urban     Fine no high winds   \n",
       "1       Single carriageway               Urban  Raining no high winds   \n",
       "2                      NaN               Urban                    NaN   \n",
       "3       Single carriageway               Urban     Fine no high winds   \n",
       "4                      NaN               Urban                    NaN   \n",
       "...                    ...                 ...                    ...   \n",
       "660674  Single carriageway               Rural     Fine no high winds   \n",
       "660675  Single carriageway               Rural     Fine no high winds   \n",
       "660676  Single carriageway               Rural     Fine no high winds   \n",
       "660677  Single carriageway               Rural     Fine no high winds   \n",
       "660678    Dual carriageway               Rural  Snowing no high winds   \n",
       "\n",
       "                                Vehicle_Type  \n",
       "0                                        Car  \n",
       "1                                        Car  \n",
       "2                      Taxi/Private hire car  \n",
       "3       Bus or coach (17 or more pass seats)  \n",
       "4                              Other vehicle  \n",
       "...                                      ...  \n",
       "660674                                   Car  \n",
       "660675                                   Car  \n",
       "660676                                   Car  \n",
       "660677                 Motorcycle over 500cc  \n",
       "660678                                   Car  \n",
       "\n",
       "[660679 rows x 14 columns]"
      ]
     },
     "execution_count": 3,
     "metadata": {},
     "output_type": "execute_result"
    }
   ],
   "source": [
    "data"
   ]
  },
  {
   "cell_type": "markdown",
   "id": "f861af79-a0ac-42b9-b4d9-cf0fb6a5cf67",
   "metadata": {},
   "source": [
    "<hr><br>\n",
    "<h2>CLEANING DATA TYPES AND FILLING UP NULL VALUES</h2>"
   ]
  },
  {
   "cell_type": "code",
   "execution_count": 4,
   "id": "a63a5934-8a29-4ed1-afbb-c06a288c2414",
   "metadata": {},
   "outputs": [
    {
     "data": {
      "text/plain": [
       "Index(['Index', 'Accident_Severity', 'Accident Date', 'Latitude',\n",
       "       'Light_Conditions', 'District Area', 'Longitude',\n",
       "       'Number_of_Casualties', 'Number_of_Vehicles', 'Road_Surface_Conditions',\n",
       "       'Road_Type', 'Urban_or_Rural_Area', 'Weather_Conditions',\n",
       "       'Vehicle_Type'],\n",
       "      dtype='object')"
      ]
     },
     "execution_count": 4,
     "metadata": {},
     "output_type": "execute_result"
    }
   ],
   "source": [
    "data.columns"
   ]
  },
  {
   "cell_type": "code",
   "execution_count": 5,
   "id": "52cdae5f-c7b5-41a3-a753-1782d3ee6324",
   "metadata": {},
   "outputs": [
    {
     "data": {
      "text/plain": [
       "Index                          0\n",
       "Accident_Severity              0\n",
       "Accident Date                  0\n",
       "Latitude                      25\n",
       "Light_Conditions               0\n",
       "District Area                  0\n",
       "Longitude                     26\n",
       "Number_of_Casualties           0\n",
       "Number_of_Vehicles             0\n",
       "Road_Surface_Conditions      726\n",
       "Road_Type                   4520\n",
       "Urban_or_Rural_Area           15\n",
       "Weather_Conditions         14128\n",
       "Vehicle_Type                   0\n",
       "dtype: int64"
      ]
     },
     "execution_count": 5,
     "metadata": {},
     "output_type": "execute_result"
    }
   ],
   "source": [
    "data.isnull().sum()"
   ]
  },
  {
   "cell_type": "code",
   "execution_count": 6,
   "id": "f1a8dafd-bb0b-48b0-b8f9-a12ac7fe785c",
   "metadata": {},
   "outputs": [],
   "source": [
    "data['Latitude'] = data['Latitude'].fillna(data['Latitude'].mean())\n",
    "data['Longitude'] = data['Longitude'].fillna(data['Longitude'].mean())\n",
    "data['Road_Surface_Conditions'] = data['Road_Surface_Conditions'].fillna('unaccounted')\n",
    "data['Road_Type'] = data['Road_Type'].fillna('unaccounted')\n",
    "data['Urban_or_Rural_Area'] = data['Urban_or_Rural_Area'].fillna(data['Urban_or_Rural_Area'].mode()[0])\n",
    "data['Weather_Conditions'] = data['Weather_Conditions'].fillna('unaccounted')"
   ]
  },
  {
   "cell_type": "code",
   "execution_count": 7,
   "id": "aeb28b35-7d95-4d02-a8b6-26e6037fdd6c",
   "metadata": {},
   "outputs": [
    {
     "data": {
      "text/plain": [
       "Index                      0\n",
       "Accident_Severity          0\n",
       "Accident Date              0\n",
       "Latitude                   0\n",
       "Light_Conditions           0\n",
       "District Area              0\n",
       "Longitude                  0\n",
       "Number_of_Casualties       0\n",
       "Number_of_Vehicles         0\n",
       "Road_Surface_Conditions    0\n",
       "Road_Type                  0\n",
       "Urban_or_Rural_Area        0\n",
       "Weather_Conditions         0\n",
       "Vehicle_Type               0\n",
       "dtype: int64"
      ]
     },
     "execution_count": 7,
     "metadata": {},
     "output_type": "execute_result"
    }
   ],
   "source": [
    "data.isnull().sum()"
   ]
  },
  {
   "cell_type": "code",
   "execution_count": 8,
   "id": "1b0804e5-901f-4db5-a41f-3463ae98dd29",
   "metadata": {},
   "outputs": [],
   "source": [
    "data['Accident_Severity'] = data['Accident_Severity'].astype('category')\n",
    "data['Light_Conditions'] = data['Light_Conditions'].astype('category')\n",
    "data['District Area'] = data['District Area'].astype('category')\n",
    "data['Road_Surface_Conditions'] = data['Road_Surface_Conditions'].astype('category')\n",
    "data['Road_Type'] = data['Road_Type'].astype('category')\n",
    "data['Urban_or_Rural_Area'] = data['Urban_or_Rural_Area'].astype('category')\n",
    "data['Weather_Conditions'] = data['Weather_Conditions'].astype('category')\n",
    "data['Vehicle_Type'] = data['Vehicle_Type'].astype('category')"
   ]
  },
  {
   "cell_type": "code",
   "execution_count": 9,
   "id": "6f7cad72-c0ce-428b-a0d3-c3f4746ae68f",
   "metadata": {},
   "outputs": [
    {
     "data": {
      "text/plain": [
       "Index                        object\n",
       "Accident_Severity          category\n",
       "Accident Date                object\n",
       "Latitude                    float64\n",
       "Light_Conditions           category\n",
       "District Area              category\n",
       "Longitude                   float64\n",
       "Number_of_Casualties          int64\n",
       "Number_of_Vehicles            int64\n",
       "Road_Surface_Conditions    category\n",
       "Road_Type                  category\n",
       "Urban_or_Rural_Area        category\n",
       "Weather_Conditions         category\n",
       "Vehicle_Type               category\n",
       "dtype: object"
      ]
     },
     "execution_count": 9,
     "metadata": {},
     "output_type": "execute_result"
    }
   ],
   "source": [
    "data.dtypes"
   ]
  },
  {
   "cell_type": "code",
   "execution_count": 10,
   "id": "b83e6d4d-dbf5-40fb-b3dd-b8d76d1291d2",
   "metadata": {},
   "outputs": [],
   "source": [
    "data['Accident Date'] = data['Accident Date'].str.strip()\n",
    "\n",
    "data['Accident Date'] = data['Accident Date'].astype('str')\n",
    "\n",
    "data['Accident Date'] = data['Accident Date'].str.replace('/', '-')\n",
    "\n",
    "data['Accident Date'] = pd.to_datetime(data['Accident Date'], dayfirst = True, errors = 'coerce')"
   ]
  },
  {
   "cell_type": "code",
   "execution_count": 11,
   "id": "48d33d5d-eefc-4d27-8273-f5e29c243c8a",
   "metadata": {},
   "outputs": [
    {
     "data": {
      "text/plain": [
       "Index                              object\n",
       "Accident_Severity                category\n",
       "Accident Date              datetime64[ns]\n",
       "Latitude                          float64\n",
       "Light_Conditions                 category\n",
       "District Area                    category\n",
       "Longitude                         float64\n",
       "Number_of_Casualties                int64\n",
       "Number_of_Vehicles                  int64\n",
       "Road_Surface_Conditions          category\n",
       "Road_Type                        category\n",
       "Urban_or_Rural_Area              category\n",
       "Weather_Conditions               category\n",
       "Vehicle_Type                     category\n",
       "dtype: object"
      ]
     },
     "execution_count": 11,
     "metadata": {},
     "output_type": "execute_result"
    }
   ],
   "source": [
    "data.dtypes"
   ]
  },
  {
   "cell_type": "code",
   "execution_count": 12,
   "id": "2c41a6ea-1698-49a0-9f2a-a72c24549370",
   "metadata": {},
   "outputs": [],
   "source": [
    "data['Day'] = data['Accident Date'].dt.day\n",
    "data['Month'] = data['Accident Date'].dt.month\n",
    "data['Year'] = data['Accident Date'].dt.year\n",
    "data['DayofWeek'] = data['Accident Date'].dt.dayofweek"
   ]
  },
  {
   "cell_type": "markdown",
   "id": "50646ac3-57d0-4912-8cf7-2e0ba0d96de1",
   "metadata": {},
   "source": [
    "<br>\n",
    "<br>\n",
    "<h2 style='text-align: center;'>DATA EXPLORATORY ANALYSIS</h2>\n",
    "<hr>"
   ]
  },
  {
   "cell_type": "markdown",
   "id": "dc807f3e-a7cc-4cfc-9411-1181cd6b4949",
   "metadata": {},
   "source": [
    "<br>\n",
    "<br>\n",
    "<h2>QUESTION 1: WHICH DISTRICT AREA HOLDS THE MOST FATAL ACCIDENTS?</h2>\n",
    "<hr>"
   ]
  },
  {
   "cell_type": "code",
   "execution_count": 13,
   "id": "94178e55-62ae-484c-8142-96ed90e8a6e4",
   "metadata": {},
   "outputs": [
    {
     "data": {
      "text/plain": [
       "District Area\n",
       "Birmingham                  105\n",
       "Leeds                        93\n",
       "Highland                     88\n",
       "East Riding of Yorkshire     85\n",
       "Bradford                     71\n",
       "                           ... \n",
       "Orkney Islands                2\n",
       "Havant                        2\n",
       "Stevenage                     1\n",
       "Clackmannanshire              1\n",
       "Harlow                        1\n",
       "Name: count, Length: 422, dtype: int64"
      ]
     },
     "execution_count": 13,
     "metadata": {},
     "output_type": "execute_result"
    }
   ],
   "source": [
    "fatal_accidents = data[data['Accident_Severity'] == 'Fatal']\n",
    "\n",
    "fatal_accidents['District Area'].value_counts().sort_values(ascending=False)"
   ]
  },
  {
   "cell_type": "markdown",
   "id": "7fcf89fe-86d2-448b-9948-39c9edd4f3bd",
   "metadata": {},
   "source": [
    "<br>\n",
    "<h4>The data analysis shown above says that <strong>BIRMINGHAM</strong> holds the most fatal accidents in UK.  Birmingham has 105 number of fatal accidents.</h4>\n",
    "<p><i>INSIGHT:</i></p>\n",
    "<hr>\n",
    "<br>"
   ]
  },
  {
   "cell_type": "markdown",
   "id": "b525d10b-81d2-4bb3-8085-f76926686c40",
   "metadata": {},
   "source": [
    "<br>\n",
    "<br>\n",
    "<h2>QUESTION 2: WHERE DO MORE SEVERE ACCIDENTS HAPPEN? IS IT IN URBAN OR RURAL AREAS?</h2>\n",
    "<hr>"
   ]
  },
  {
   "cell_type": "code",
   "execution_count": 14,
   "id": "718273fe-f3e0-44f5-a856-c1e21d5cb2f7",
   "metadata": {
    "scrolled": true
   },
   "outputs": [
    {
     "data": {
      "text/plain": [
       "Urban_or_Rural_Area\n",
       "Urban          50904\n",
       "Rural          37312\n",
       "Unallocated        1\n",
       "Name: count, dtype: int64"
      ]
     },
     "execution_count": 14,
     "metadata": {},
     "output_type": "execute_result"
    }
   ],
   "source": [
    "severe_accidents = data[data['Accident_Severity'] == 'Serious']\n",
    "\n",
    "severe_accidents['Urban_or_Rural_Area'].value_counts()"
   ]
  },
  {
   "cell_type": "markdown",
   "id": "68a765d7-4417-4391-95a7-eec352d24552",
   "metadata": {},
   "source": [
    "<br>\n",
    "<h4>The data analysis shown above says that <strong>URBAN AREA</strong> has more severe accidents in the UK. Urban areas has 20k more accidents than Rural areas.</h4>\n",
    "<hr>\n",
    "<br>"
   ]
  },
  {
   "cell_type": "markdown",
   "id": "992fa417-928e-4aa8-ae80-159ae8ed7404",
   "metadata": {},
   "source": [
    "<br>\n",
    "<br>\n",
    "<h2>QUESTION 3: WHICH VEHICLE TYPE HAS THE HIGHEST NUMBER OF CASUALTIES?</h2>\n",
    "<hr>"
   ]
  },
  {
   "cell_type": "code",
   "execution_count": 15,
   "id": "a1cad94e-ace4-453d-9c20-14dd1a04f818",
   "metadata": {
    "scrolled": true
   },
   "outputs": [
    {
     "data": {
      "text/plain": [
       "Vehicle_Type\n",
       "Car                                      676692\n",
       "Van / Goods 3.5 tonnes mgw or under       46271\n",
       "Bus or coach (17 or more pass seats)      34915\n",
       "Motorcycle over 500cc                     34879\n",
       "Goods 7.5 tonnes mgw and over             23397\n",
       "Motorcycle 125cc and under                20348\n",
       "Taxi/Private hire car                     18195\n",
       "Motorcycle over 125cc and up to 500cc     10286\n",
       "Motorcycle 50cc and under                 10167\n",
       "Goods over 3.5t. and under 7.5t            8308\n",
       "Other vehicle                              7554\n",
       "Minibus (8 - 16 passenger seats)           2659\n",
       "Agricultural vehicle                       2613\n",
       "Pedal cycle                                 270\n",
       "Data missing or out of range                  9\n",
       "Ridden horse                                  5\n",
       "Name: Number_of_Casualties, dtype: int64"
      ]
     },
     "execution_count": 15,
     "metadata": {},
     "output_type": "execute_result"
    }
   ],
   "source": [
    "data.groupby('Vehicle_Type')['Number_of_Casualties'].sum().sort_values(ascending=False)"
   ]
  },
  {
   "cell_type": "markdown",
   "id": "8d9f2bba-bded-4995-9624-8c857aa8ea2d",
   "metadata": {},
   "source": [
    "<br>\n",
    "<h4>The data analysis showsn above says that <strong>CAR TYPE VEHICLE</strong> has the highest number of casualties when it comes to road accidents in the UK. Car being the vehicle type with the highest casualties is maybe due to its being the most common owned vehicle in the nation.</h4>\n",
    "<hr>\n",
    "<br>"
   ]
  },
  {
   "cell_type": "markdown",
   "id": "847413c9-576a-4937-be75-da5976b54a81",
   "metadata": {},
   "source": [
    "<br>\n",
    "<br>\n",
    "<h2>QUESTION 4: WHAT WEATHER CONDITIONS HOST THE MOST ACCIDENTS IN A SINGLE CARRIAGEWAY TYPE OF ROAD?</h2>\n",
    "<hr>"
   ]
  },
  {
   "cell_type": "code",
   "execution_count": 16,
   "id": "b70bd860-6d10-491a-afca-334ca34526bd",
   "metadata": {
    "scrolled": true
   },
   "outputs": [
    {
     "data": {
      "text/plain": [
       "Weather_Conditions\n",
       "Fine no high winds       389830\n",
       "Raining no high winds     58581\n",
       "Other                     13156\n",
       "unaccounted                9761\n",
       "Raining + high winds       6703\n",
       "Fine + high winds          6178\n",
       "Snowing no high winds      4751\n",
       "Fog or mist                2541\n",
       "Snowing + high winds        642\n",
       "Name: count, dtype: int64"
      ]
     },
     "execution_count": 16,
     "metadata": {},
     "output_type": "execute_result"
    }
   ],
   "source": [
    "single_carriageway = data[data['Road_Type'] == 'Single carriageway']\n",
    "\n",
    "single_carriageway['Weather_Conditions'].value_counts()"
   ]
  },
  {
   "cell_type": "markdown",
   "id": "63beee16-e176-458c-b322-c9ffaf9d187a",
   "metadata": {},
   "source": [
    "<br>\n",
    "<h4>The data analysis shown above says that the weather condition with the highest accidents occuring in a single carriageway type of road is usually <strong>Fine no high winds</strong>. The data above shows that accidents occur usually in a normal day in the UK.</h4>\n",
    "<hr>\n",
    "<br>"
   ]
  },
  {
   "cell_type": "markdown",
   "id": "d5c80250-ab33-42bd-9fa8-c877d322e4e5",
   "metadata": {},
   "source": [
    "<br>\n",
    "<br>\n",
    "<h2>QUESTION 5: IN WHAT TIME OF THE DAY OR LIGHT CONDITIONS MOST ACCIDENTS HAPPEN?</h2>\n",
    "<hr>"
   ]
  },
  {
   "cell_type": "code",
   "execution_count": 17,
   "id": "ba5b66e5-6d52-4c21-a16f-bbc206cd1b2a",
   "metadata": {},
   "outputs": [
    {
     "data": {
      "text/plain": [
       "Light_Conditions\n",
       "Daylight                       484880\n",
       "Darkness - lights lit          129335\n",
       "Darkness - no lighting          37437\n",
       "Darkness - lighting unknown      6484\n",
       "Darkness - lights unlit          2543\n",
       "Name: count, dtype: int64"
      ]
     },
     "execution_count": 17,
     "metadata": {},
     "output_type": "execute_result"
    }
   ],
   "source": [
    "data['Light_Conditions'].value_counts()"
   ]
  },
  {
   "cell_type": "markdown",
   "id": "3b4d159e-f20f-438c-9d71-baf3069f22c9",
   "metadata": {
    "jp-MarkdownHeadingCollapsed": true
   },
   "source": [
    "<br>\n",
    "<h4>The data analysis shown above says that its usually in <strong>Daylight</strong> that most accidents in the UK happends. The data above shows that accidents occur usually in a morning in the UK, with the value of 484,880 accidents in a Daylight setting.</h4>\n",
    "<hr>\n",
    "<br>"
   ]
  },
  {
   "cell_type": "markdown",
   "id": "ffc9f8bc-a87b-41b1-971c-41b7d21e574a",
   "metadata": {},
   "source": [
    "<br>\n",
    "<br>\n",
    "<h2>QUESTION 6: IN WHAT TYPE OF ROAD DOES MOST ACCIDENTS HAPPEN?</h2>\n",
    "<hr>"
   ]
  },
  {
   "cell_type": "code",
   "execution_count": 18,
   "id": "1da967d9-eda8-4124-ae21-0af4720ce781",
   "metadata": {},
   "outputs": [
    {
     "data": {
      "text/plain": [
       "Road_Type\n",
       "Single carriageway    492143\n",
       "Dual carriageway       99424\n",
       "Roundabout             43992\n",
       "One way street         13559\n",
       "Slip road               7041\n",
       "unaccounted             4520\n",
       "Name: count, dtype: int64"
      ]
     },
     "execution_count": 18,
     "metadata": {},
     "output_type": "execute_result"
    }
   ],
   "source": [
    "data['Road_Type'].value_counts()"
   ]
  },
  {
   "cell_type": "markdown",
   "id": "e70bb845-794d-4375-9b4b-120ec73e8b36",
   "metadata": {},
   "source": [
    "<br>\n",
    "<h4>The data analysis shown above says that its usually in <strong>Single carriageway</strong> that most accidents in the UK happends. The data above shows that accidents occur usually in single carriageway in the UK, with the value of 496,663 accidents.</h4>\n",
    "<hr>\n",
    "<br>"
   ]
  },
  {
   "cell_type": "markdown",
   "id": "f6b70362-5e25-4db3-8475-0afd851f5845",
   "metadata": {},
   "source": [
    "<br>\n",
    "<br>\n",
    "<h2>QUESTION 7: IN WHAT DISTRICT AREA HAD THE ACCIDENT WITH THE MOST CASUALTIES THAT IS EVER RECORDED?</h2>\n",
    "<hr>"
   ]
  },
  {
   "cell_type": "code",
   "execution_count": 19,
   "id": "2ea35d26-a58f-4d81-aee6-82bd3246921d",
   "metadata": {
    "scrolled": true
   },
   "outputs": [
    {
     "name": "stdout",
     "output_type": "stream",
     "text": [
      "THE HIGHEST CASUALTIES IN ONE ACCIDENT EVER RECORDED IS 68\n"
     ]
    },
    {
     "data": {
      "text/html": [
       "<div>\n",
       "<style scoped>\n",
       "    .dataframe tbody tr th:only-of-type {\n",
       "        vertical-align: middle;\n",
       "    }\n",
       "\n",
       "    .dataframe tbody tr th {\n",
       "        vertical-align: top;\n",
       "    }\n",
       "\n",
       "    .dataframe thead th {\n",
       "        text-align: right;\n",
       "    }\n",
       "</style>\n",
       "<table border=\"1\" class=\"dataframe\">\n",
       "  <thead>\n",
       "    <tr style=\"text-align: right;\">\n",
       "      <th></th>\n",
       "      <th>Index</th>\n",
       "      <th>Accident_Severity</th>\n",
       "      <th>Accident Date</th>\n",
       "      <th>Latitude</th>\n",
       "      <th>Light_Conditions</th>\n",
       "      <th>District Area</th>\n",
       "      <th>Longitude</th>\n",
       "      <th>Number_of_Casualties</th>\n",
       "      <th>Number_of_Vehicles</th>\n",
       "      <th>Road_Surface_Conditions</th>\n",
       "      <th>Road_Type</th>\n",
       "      <th>Urban_or_Rural_Area</th>\n",
       "      <th>Weather_Conditions</th>\n",
       "      <th>Vehicle_Type</th>\n",
       "      <th>Day</th>\n",
       "      <th>Month</th>\n",
       "      <th>Year</th>\n",
       "      <th>DayofWeek</th>\n",
       "    </tr>\n",
       "  </thead>\n",
       "  <tbody>\n",
       "    <tr>\n",
       "      <th>117980</th>\n",
       "      <td>200743N002017</td>\n",
       "      <td>Fatal</td>\n",
       "      <td>2019-01-03</td>\n",
       "      <td>51.497547</td>\n",
       "      <td>Darkness - lights lit</td>\n",
       "      <td>South Bucks</td>\n",
       "      <td>-0.496697</td>\n",
       "      <td>68</td>\n",
       "      <td>1</td>\n",
       "      <td>Wet or damp</td>\n",
       "      <td>Slip road</td>\n",
       "      <td>Rural</td>\n",
       "      <td>Raining no high winds</td>\n",
       "      <td>Car</td>\n",
       "      <td>3</td>\n",
       "      <td>1</td>\n",
       "      <td>2019</td>\n",
       "      <td>3</td>\n",
       "    </tr>\n",
       "  </tbody>\n",
       "</table>\n",
       "</div>"
      ],
      "text/plain": [
       "                Index Accident_Severity Accident Date   Latitude  \\\n",
       "117980  200743N002017             Fatal    2019-01-03  51.497547   \n",
       "\n",
       "             Light_Conditions District Area  Longitude  Number_of_Casualties  \\\n",
       "117980  Darkness - lights lit   South Bucks  -0.496697                    68   \n",
       "\n",
       "        Number_of_Vehicles Road_Surface_Conditions  Road_Type  \\\n",
       "117980                   1             Wet or damp  Slip road   \n",
       "\n",
       "       Urban_or_Rural_Area     Weather_Conditions Vehicle_Type  Day  Month  \\\n",
       "117980               Rural  Raining no high winds          Car    3      1   \n",
       "\n",
       "        Year  DayofWeek  \n",
       "117980  2019          3  "
      ]
     },
     "execution_count": 19,
     "metadata": {},
     "output_type": "execute_result"
    }
   ],
   "source": [
    "highest_casualties = data['Number_of_Casualties'].max()\n",
    "\n",
    "print(f'THE HIGHEST CASUALTIES IN ONE ACCIDENT EVER RECORDED IS {highest_casualties}')\n",
    "\n",
    "data[data['Number_of_Casualties'] == highest_casualties]"
   ]
  },
  {
   "cell_type": "markdown",
   "id": "b96000a3-db58-4820-846b-1f259d46561b",
   "metadata": {},
   "source": [
    "<br>\n",
    "<h4>The data analysis shown above says that the accident with the most casualties ever recorded in the dataset is in <strong>South Bucks</strong> district. The data above shows that number of casualties is 68 and it happened on January 3rd, 2019</h4>\n",
    "<hr>\n",
    "<br>"
   ]
  },
  {
   "cell_type": "markdown",
   "id": "d4436d31-a643-4cc5-a82f-57af24f5886a",
   "metadata": {},
   "source": [
    "<br>\n",
    "<br>\n",
    "<h2>QUESTION 8: WHAT'S THE AVERAGE NUMBER OF CASUALTIES BY THE SEVERITY OF ACCIDENTS?</h2>\n",
    "<hr>"
   ]
  },
  {
   "cell_type": "code",
   "execution_count": 20,
   "id": "ce87ad81-1b35-4d8a-aef5-24905a9cc344",
   "metadata": {
    "scrolled": true
   },
   "outputs": [
    {
     "data": {
      "text/plain": [
       "Accident_Severity\n",
       "Fatal      1.90\n",
       "Serious    1.47\n",
       "Slight     1.33\n",
       "Name: Number_of_Casualties, dtype: float64"
      ]
     },
     "execution_count": 20,
     "metadata": {},
     "output_type": "execute_result"
    }
   ],
   "source": [
    "np.round(data.groupby('Accident_Severity')['Number_of_Casualties'].mean(),2)"
   ]
  },
  {
   "cell_type": "markdown",
   "id": "1a9e961c-ebd4-4a39-b4a4-353b10bca066",
   "metadata": {},
   "source": [
    "<br>\n",
    "<h4>When it comes to Fatal Accidents, the average number of casualties is <strong>1.90</strong>. While, when it comes to Serious Accidents, it is <strong>1.47</strong>. Lastly, when it comes to Slight Accidents, it is <strong>1.33</strong>. The data above shows that the average number of casualties, be it in every severity of accidents does not exceeds to more than 2</h4>\n",
    "<hr>\n",
    "<br>"
   ]
  },
  {
   "cell_type": "markdown",
   "id": "8eb2c760-948b-4b65-8100-866d66a18e64",
   "metadata": {},
   "source": [
    "<br>\n",
    "<br>\n",
    "<h2>QUESTION 9: WHAT IS THE MOST FREQUENT ROAD SURFACE CONDITION THAT IS FOUND IN URBAN AREA WHEN AN ACCIDENT HAPPENS?</h2>\n",
    "<hr>"
   ]
  },
  {
   "cell_type": "code",
   "execution_count": 21,
   "id": "f741baca-2457-42f0-ab11-d1abfcd2e7f4",
   "metadata": {
    "scrolled": true
   },
   "outputs": [
    {
     "data": {
      "text/plain": [
       "Road_Surface_Conditions\n",
       "Dry                     302955\n",
       "Wet or damp             107698\n",
       "Frost or ice              7564\n",
       "Snow                      2788\n",
       "unaccounted                442\n",
       "Flood over 3cm. deep       231\n",
       "Name: count, dtype: int64"
      ]
     },
     "execution_count": 21,
     "metadata": {},
     "output_type": "execute_result"
    }
   ],
   "source": [
    "urban_area = data[data['Urban_or_Rural_Area'] == 'Urban']\n",
    "\n",
    "urban_area['Road_Surface_Conditions'].value_counts()"
   ]
  },
  {
   "cell_type": "markdown",
   "id": "a04b5376-8c13-48e5-a8d7-7a4b26ecb872",
   "metadata": {},
   "source": [
    "<br>\n",
    "<h4>The data shown above says that the surface of the road is usually <strong>Dry</strong> when an accident happens. Dry and wet/damp are the common road surface condition when an accident happens in the UK.</h4>\n",
    "<hr>\n",
    "<br>"
   ]
  },
  {
   "cell_type": "markdown",
   "id": "28aa40de-deb7-4f74-a63f-e14367e8928b",
   "metadata": {},
   "source": [
    "<br>\n",
    "<br>\n",
    "<h2>QUESTION 10: WHAT DATE HAS THE HIGHEST ROAD ACCIDENTS EVER RECORDED? HOW MANY CASUALTIES WERE AFFECTED THAT DATE? </h2>\n",
    "<hr>"
   ]
  },
  {
   "cell_type": "code",
   "execution_count": 22,
   "id": "af5ffd03-4328-4d1b-a9fe-8f36e75ed32e",
   "metadata": {
    "scrolled": true
   },
   "outputs": [
    {
     "name": "stdout",
     "output_type": "stream",
     "text": [
      "THE DATE WITH THE HIGHEST ROAD ACCIDENT IS 2019-11-30 00:00:00\n",
      "WHILE THE TOTAL CASUALTIES DURING THAT DAY IS 938\n"
     ]
    },
    {
     "data": {
      "text/html": [
       "<div>\n",
       "<style scoped>\n",
       "    .dataframe tbody tr th:only-of-type {\n",
       "        vertical-align: middle;\n",
       "    }\n",
       "\n",
       "    .dataframe tbody tr th {\n",
       "        vertical-align: top;\n",
       "    }\n",
       "\n",
       "    .dataframe thead th {\n",
       "        text-align: right;\n",
       "    }\n",
       "</style>\n",
       "<table border=\"1\" class=\"dataframe\">\n",
       "  <thead>\n",
       "    <tr style=\"text-align: right;\">\n",
       "      <th></th>\n",
       "      <th>Index</th>\n",
       "      <th>Accident_Severity</th>\n",
       "      <th>Accident Date</th>\n",
       "      <th>Latitude</th>\n",
       "      <th>Light_Conditions</th>\n",
       "      <th>District Area</th>\n",
       "      <th>Longitude</th>\n",
       "      <th>Number_of_Casualties</th>\n",
       "      <th>Number_of_Vehicles</th>\n",
       "      <th>Road_Surface_Conditions</th>\n",
       "      <th>Road_Type</th>\n",
       "      <th>Urban_or_Rural_Area</th>\n",
       "      <th>Weather_Conditions</th>\n",
       "      <th>Vehicle_Type</th>\n",
       "      <th>Day</th>\n",
       "      <th>Month</th>\n",
       "      <th>Year</th>\n",
       "      <th>DayofWeek</th>\n",
       "    </tr>\n",
       "  </thead>\n",
       "  <tbody>\n",
       "    <tr>\n",
       "      <th>627</th>\n",
       "      <td>200701BS70671</td>\n",
       "      <td>Slight</td>\n",
       "      <td>2019-11-30</td>\n",
       "      <td>51.495858</td>\n",
       "      <td>Darkness - lights lit</td>\n",
       "      <td>Kensington and Chelsea</td>\n",
       "      <td>-0.192343</td>\n",
       "      <td>1</td>\n",
       "      <td>2</td>\n",
       "      <td>Wet or damp</td>\n",
       "      <td>Single carriageway</td>\n",
       "      <td>Urban</td>\n",
       "      <td>Raining no high winds</td>\n",
       "      <td>Car</td>\n",
       "      <td>30</td>\n",
       "      <td>11</td>\n",
       "      <td>2019</td>\n",
       "      <td>5</td>\n",
       "    </tr>\n",
       "    <tr>\n",
       "      <th>629</th>\n",
       "      <td>200701BS70673</td>\n",
       "      <td>Slight</td>\n",
       "      <td>2019-11-30</td>\n",
       "      <td>51.523668</td>\n",
       "      <td>Darkness - lights lit</td>\n",
       "      <td>Kensington and Chelsea</td>\n",
       "      <td>-0.217334</td>\n",
       "      <td>3</td>\n",
       "      <td>3</td>\n",
       "      <td>Wet or damp</td>\n",
       "      <td>Single carriageway</td>\n",
       "      <td>Urban</td>\n",
       "      <td>Raining no high winds</td>\n",
       "      <td>Goods 7.5 tonnes mgw and over</td>\n",
       "      <td>30</td>\n",
       "      <td>11</td>\n",
       "      <td>2019</td>\n",
       "      <td>5</td>\n",
       "    </tr>\n",
       "    <tr>\n",
       "      <th>639</th>\n",
       "      <td>200701BS70685</td>\n",
       "      <td>Slight</td>\n",
       "      <td>2019-11-30</td>\n",
       "      <td>51.490534</td>\n",
       "      <td>Daylight</td>\n",
       "      <td>Kensington and Chelsea</td>\n",
       "      <td>-0.191113</td>\n",
       "      <td>1</td>\n",
       "      <td>1</td>\n",
       "      <td>Dry</td>\n",
       "      <td>Single carriageway</td>\n",
       "      <td>Urban</td>\n",
       "      <td>Fine no high winds</td>\n",
       "      <td>Van / Goods 3.5 tonnes mgw or under</td>\n",
       "      <td>30</td>\n",
       "      <td>11</td>\n",
       "      <td>2019</td>\n",
       "      <td>5</td>\n",
       "    </tr>\n",
       "    <tr>\n",
       "      <th>647</th>\n",
       "      <td>200701BS70694</td>\n",
       "      <td>Slight</td>\n",
       "      <td>2019-11-30</td>\n",
       "      <td>51.505260</td>\n",
       "      <td>Darkness - lights lit</td>\n",
       "      <td>Kensington and Chelsea</td>\n",
       "      <td>-0.213153</td>\n",
       "      <td>1</td>\n",
       "      <td>1</td>\n",
       "      <td>Wet or damp</td>\n",
       "      <td>Dual carriageway</td>\n",
       "      <td>Urban</td>\n",
       "      <td>Raining no high winds</td>\n",
       "      <td>Motorcycle over 500cc</td>\n",
       "      <td>30</td>\n",
       "      <td>11</td>\n",
       "      <td>2019</td>\n",
       "      <td>5</td>\n",
       "    </tr>\n",
       "    <tr>\n",
       "      <th>674</th>\n",
       "      <td>200701BS70725</td>\n",
       "      <td>Serious</td>\n",
       "      <td>2019-11-30</td>\n",
       "      <td>51.484887</td>\n",
       "      <td>Darkness - lights lit</td>\n",
       "      <td>Kensington and Chelsea</td>\n",
       "      <td>-0.174917</td>\n",
       "      <td>1</td>\n",
       "      <td>2</td>\n",
       "      <td>Wet or damp</td>\n",
       "      <td>Single carriageway</td>\n",
       "      <td>Urban</td>\n",
       "      <td>Fine no high winds</td>\n",
       "      <td>Motorcycle 125cc and under</td>\n",
       "      <td>30</td>\n",
       "      <td>11</td>\n",
       "      <td>2019</td>\n",
       "      <td>5</td>\n",
       "    </tr>\n",
       "    <tr>\n",
       "      <th>...</th>\n",
       "      <td>...</td>\n",
       "      <td>...</td>\n",
       "      <td>...</td>\n",
       "      <td>...</td>\n",
       "      <td>...</td>\n",
       "      <td>...</td>\n",
       "      <td>...</td>\n",
       "      <td>...</td>\n",
       "      <td>...</td>\n",
       "      <td>...</td>\n",
       "      <td>...</td>\n",
       "      <td>...</td>\n",
       "      <td>...</td>\n",
       "      <td>...</td>\n",
       "      <td>...</td>\n",
       "      <td>...</td>\n",
       "      <td>...</td>\n",
       "      <td>...</td>\n",
       "    </tr>\n",
       "    <tr>\n",
       "      <th>181141</th>\n",
       "      <td>200797UA70811</td>\n",
       "      <td>Serious</td>\n",
       "      <td>2019-11-30</td>\n",
       "      <td>55.642006</td>\n",
       "      <td>Daylight</td>\n",
       "      <td>North Ayrshire</td>\n",
       "      <td>-4.683832</td>\n",
       "      <td>1</td>\n",
       "      <td>1</td>\n",
       "      <td>Wet or damp</td>\n",
       "      <td>Single carriageway</td>\n",
       "      <td>Rural</td>\n",
       "      <td>Fine no high winds</td>\n",
       "      <td>Car</td>\n",
       "      <td>30</td>\n",
       "      <td>11</td>\n",
       "      <td>2019</td>\n",
       "      <td>5</td>\n",
       "    </tr>\n",
       "    <tr>\n",
       "      <th>181945</th>\n",
       "      <td>2.01E+12</td>\n",
       "      <td>Serious</td>\n",
       "      <td>2019-11-30</td>\n",
       "      <td>55.050682</td>\n",
       "      <td>Daylight</td>\n",
       "      <td>Dumfries and Galloway</td>\n",
       "      <td>-3.776910</td>\n",
       "      <td>1</td>\n",
       "      <td>1</td>\n",
       "      <td>Wet or damp</td>\n",
       "      <td>Single carriageway</td>\n",
       "      <td>Rural</td>\n",
       "      <td>Fine no high winds</td>\n",
       "      <td>Car</td>\n",
       "      <td>30</td>\n",
       "      <td>11</td>\n",
       "      <td>2019</td>\n",
       "      <td>5</td>\n",
       "    </tr>\n",
       "    <tr>\n",
       "      <th>181946</th>\n",
       "      <td>2.01E+12</td>\n",
       "      <td>Slight</td>\n",
       "      <td>2019-11-30</td>\n",
       "      <td>55.031332</td>\n",
       "      <td>Darkness - no lighting</td>\n",
       "      <td>Dumfries and Galloway</td>\n",
       "      <td>-3.617705</td>\n",
       "      <td>1</td>\n",
       "      <td>1</td>\n",
       "      <td>Wet or damp</td>\n",
       "      <td>Single carriageway</td>\n",
       "      <td>Rural</td>\n",
       "      <td>Raining no high winds</td>\n",
       "      <td>Car</td>\n",
       "      <td>30</td>\n",
       "      <td>11</td>\n",
       "      <td>2019</td>\n",
       "      <td>5</td>\n",
       "    </tr>\n",
       "    <tr>\n",
       "      <th>181949</th>\n",
       "      <td>2.01E+12</td>\n",
       "      <td>Serious</td>\n",
       "      <td>2019-11-30</td>\n",
       "      <td>55.068908</td>\n",
       "      <td>Daylight</td>\n",
       "      <td>Dumfries and Galloway</td>\n",
       "      <td>-3.610294</td>\n",
       "      <td>1</td>\n",
       "      <td>1</td>\n",
       "      <td>Wet or damp</td>\n",
       "      <td>One way street</td>\n",
       "      <td>Urban</td>\n",
       "      <td>Raining no high winds</td>\n",
       "      <td>Car</td>\n",
       "      <td>30</td>\n",
       "      <td>11</td>\n",
       "      <td>2019</td>\n",
       "      <td>5</td>\n",
       "    </tr>\n",
       "    <tr>\n",
       "      <th>182100</th>\n",
       "      <td>2.01E+12</td>\n",
       "      <td>Slight</td>\n",
       "      <td>2019-11-30</td>\n",
       "      <td>55.113411</td>\n",
       "      <td>Daylight</td>\n",
       "      <td>Dumfries and Galloway</td>\n",
       "      <td>-3.405752</td>\n",
       "      <td>1</td>\n",
       "      <td>2</td>\n",
       "      <td>Wet or damp</td>\n",
       "      <td>Single carriageway</td>\n",
       "      <td>Rural</td>\n",
       "      <td>Fine no high winds</td>\n",
       "      <td>Car</td>\n",
       "      <td>30</td>\n",
       "      <td>11</td>\n",
       "      <td>2019</td>\n",
       "      <td>5</td>\n",
       "    </tr>\n",
       "  </tbody>\n",
       "</table>\n",
       "<p>704 rows × 18 columns</p>\n",
       "</div>"
      ],
      "text/plain": [
       "                Index Accident_Severity Accident Date   Latitude  \\\n",
       "627     200701BS70671            Slight    2019-11-30  51.495858   \n",
       "629     200701BS70673            Slight    2019-11-30  51.523668   \n",
       "639     200701BS70685            Slight    2019-11-30  51.490534   \n",
       "647     200701BS70694            Slight    2019-11-30  51.505260   \n",
       "674     200701BS70725           Serious    2019-11-30  51.484887   \n",
       "...               ...               ...           ...        ...   \n",
       "181141  200797UA70811           Serious    2019-11-30  55.642006   \n",
       "181945       2.01E+12           Serious    2019-11-30  55.050682   \n",
       "181946       2.01E+12            Slight    2019-11-30  55.031332   \n",
       "181949       2.01E+12           Serious    2019-11-30  55.068908   \n",
       "182100       2.01E+12            Slight    2019-11-30  55.113411   \n",
       "\n",
       "              Light_Conditions           District Area  Longitude  \\\n",
       "627      Darkness - lights lit  Kensington and Chelsea  -0.192343   \n",
       "629      Darkness - lights lit  Kensington and Chelsea  -0.217334   \n",
       "639                   Daylight  Kensington and Chelsea  -0.191113   \n",
       "647      Darkness - lights lit  Kensington and Chelsea  -0.213153   \n",
       "674      Darkness - lights lit  Kensington and Chelsea  -0.174917   \n",
       "...                        ...                     ...        ...   \n",
       "181141                Daylight          North Ayrshire  -4.683832   \n",
       "181945                Daylight   Dumfries and Galloway  -3.776910   \n",
       "181946  Darkness - no lighting   Dumfries and Galloway  -3.617705   \n",
       "181949                Daylight   Dumfries and Galloway  -3.610294   \n",
       "182100                Daylight   Dumfries and Galloway  -3.405752   \n",
       "\n",
       "        Number_of_Casualties  Number_of_Vehicles Road_Surface_Conditions  \\\n",
       "627                        1                   2             Wet or damp   \n",
       "629                        3                   3             Wet or damp   \n",
       "639                        1                   1                     Dry   \n",
       "647                        1                   1             Wet or damp   \n",
       "674                        1                   2             Wet or damp   \n",
       "...                      ...                 ...                     ...   \n",
       "181141                     1                   1             Wet or damp   \n",
       "181945                     1                   1             Wet or damp   \n",
       "181946                     1                   1             Wet or damp   \n",
       "181949                     1                   1             Wet or damp   \n",
       "182100                     1                   2             Wet or damp   \n",
       "\n",
       "                 Road_Type Urban_or_Rural_Area     Weather_Conditions  \\\n",
       "627     Single carriageway               Urban  Raining no high winds   \n",
       "629     Single carriageway               Urban  Raining no high winds   \n",
       "639     Single carriageway               Urban     Fine no high winds   \n",
       "647       Dual carriageway               Urban  Raining no high winds   \n",
       "674     Single carriageway               Urban     Fine no high winds   \n",
       "...                    ...                 ...                    ...   \n",
       "181141  Single carriageway               Rural     Fine no high winds   \n",
       "181945  Single carriageway               Rural     Fine no high winds   \n",
       "181946  Single carriageway               Rural  Raining no high winds   \n",
       "181949      One way street               Urban  Raining no high winds   \n",
       "182100  Single carriageway               Rural     Fine no high winds   \n",
       "\n",
       "                               Vehicle_Type  Day  Month  Year  DayofWeek  \n",
       "627                                     Car   30     11  2019          5  \n",
       "629           Goods 7.5 tonnes mgw and over   30     11  2019          5  \n",
       "639     Van / Goods 3.5 tonnes mgw or under   30     11  2019          5  \n",
       "647                   Motorcycle over 500cc   30     11  2019          5  \n",
       "674              Motorcycle 125cc and under   30     11  2019          5  \n",
       "...                                     ...  ...    ...   ...        ...  \n",
       "181141                                  Car   30     11  2019          5  \n",
       "181945                                  Car   30     11  2019          5  \n",
       "181946                                  Car   30     11  2019          5  \n",
       "181949                                  Car   30     11  2019          5  \n",
       "182100                                  Car   30     11  2019          5  \n",
       "\n",
       "[704 rows x 18 columns]"
      ]
     },
     "execution_count": 22,
     "metadata": {},
     "output_type": "execute_result"
    }
   ],
   "source": [
    "most_frequent_date = data['Accident Date'].mode()[0]\n",
    "total_casualties = data[data['Accident Date'] == most_frequent_date]['Number_of_Casualties'].sum()\n",
    "\n",
    "print(f'THE DATE WITH THE HIGHEST ROAD ACCIDENT IS {most_frequent_date}')\n",
    "print(f'WHILE THE TOTAL CASUALTIES DURING THAT DAY IS {total_casualties}')\n",
    "\n",
    "data[data['Accident Date'] == most_frequent_date]"
   ]
  },
  {
   "cell_type": "markdown",
   "id": "17906e11-a5e2-41da-905e-b6ca0cc07146",
   "metadata": {},
   "source": [
    "<br>\n",
    "<h4>The data above shows that the date with the highest accidents is on <strong>November 30th, 2019</strong>. While, the total casualties falls into <strong>938</strong> during that day.  A total of 704 accidents during that day was recorded, all happening across the nation of UK.</h4>\n",
    "<hr>\n",
    "<br>"
   ]
  },
  {
   "cell_type": "markdown",
   "id": "9b07dc4f-9a4b-49a6-91f3-2cf0ba3da6ab",
   "metadata": {},
   "source": [
    "<br>\n",
    "<br>\n",
    "<h2>QUESTION 11: DOES THE GEOGRAPHICAL AREA (URBAN & RURAL) HAS A SIGNIFICANT EFFECT TO THE NUMBER OF CASUALTIES PER ACCIDENT? </h2>\n",
    "<hr>"
   ]
  },
  {
   "cell_type": "code",
   "execution_count": 23,
   "id": "d885cf94-1b3b-4c34-bbc1-f09340fcdc35",
   "metadata": {
    "scrolled": true
   },
   "outputs": [
    {
     "name": "stdout",
     "output_type": "stream",
     "text": [
      "The probability value is 0.0\n",
      "Hence, it does not have a correlation.\n"
     ]
    }
   ],
   "source": [
    "from scipy.stats import f_oneway\n",
    "\n",
    "urban_casualties = data[data['Urban_or_Rural_Area'] == 'Urban']['Number_of_Casualties']\n",
    "rural_casualties = data[data['Urban_or_Rural_Area'] == 'Rural']['Number_of_Casualties']\n",
    "\n",
    "\n",
    "stats, p_value = f_oneway(urban_casualties, rural_casualties)\n",
    "\n",
    "print(f'The probability value is {p_value}')\n",
    "if p_value >= 0.5:\n",
    "    print(f'Hence, it does have a correlation.')\n",
    "else:\n",
    "    print(f'Hence, it does not have a correlation.')\n",
    "\n",
    "# if probability value >= 0.5 = with correlation\n",
    "# else if probability value < 0.5 = no correlation"
   ]
  },
  {
   "cell_type": "markdown",
   "id": "90a39152-3a07-4343-9db4-8796ea90346b",
   "metadata": {
    "jp-MarkdownHeadingCollapsed": true
   },
   "source": [
    "<br>\n",
    "<h4>The analysis above shows that the Geograhpical area <strong>do not have a correlation</strong> to the number of casualties per accident. The probability that the two variable has a correlation is only 0.0,  which means that the type geographical area does not affect casuality count.</h4>\n",
    "<hr>\n",
    "<br>"
   ]
  },
  {
   "cell_type": "markdown",
   "id": "80080e6a-cc9a-412b-b8a6-2d35fea0ddc8",
   "metadata": {},
   "source": [
    "<br>\n",
    "<br>\n",
    "<h2>QUESTION 12: DOES THE NUMBER OF VEHICLES PER ACCIDENT HAVE A CORRELATION TO THE NUMBER OF CASUALTIES? </h2>\n",
    "<hr>"
   ]
  },
  {
   "cell_type": "code",
   "execution_count": 24,
   "id": "b2bcd21c-aa2e-4ffe-90a7-8bbfa1af47da",
   "metadata": {
    "scrolled": true
   },
   "outputs": [
    {
     "name": "stdout",
     "output_type": "stream",
     "text": [
      "The probability value is 0.22888886126927557\n",
      "Hence, it does not have a correlation.\n"
     ]
    }
   ],
   "source": [
    "no_of_vehicles = data['Number_of_Vehicles']\n",
    "no_of_casualties = data['Number_of_Casualties']\n",
    "\n",
    "p_value = no_of_vehicles.corr(no_of_casualties)\n",
    "\n",
    "print(f'The probability value is {p_value}')\n",
    "if p_value >= 0.5:\n",
    "    print(f'Hence, it does have a correlation.')\n",
    "else:\n",
    "    print(f'Hence, it does not have a correlation.')\n",
    "\n",
    "# if probability value >= 0.5 = with correlation\n",
    "# else if probability value < 0.5 = no correlation"
   ]
  },
  {
   "cell_type": "markdown",
   "id": "d73a2e4c-8379-4c39-9f40-1d67e1481b9e",
   "metadata": {},
   "source": [
    "<br>\n",
    "<h4>The analysis above shows that the number of vehicles <strong>do not have a correlation</strong> to the number of casualties per accident. The probability that the two variable has a correlation is only 0.0.</h4>\n",
    "<hr>\n",
    "<br>"
   ]
  },
  {
   "cell_type": "markdown",
   "id": "af1fab22-48fe-42cb-8364-91b6c35b40e6",
   "metadata": {},
   "source": [
    "<br>\n",
    "<br>\n",
    "<h2>QUESTION 13: DOES THE SEVERITY OF THE ACCIDENT HAS A SIGNIFICANT EFFECT TO NUMBER OF CASUALTIES?</h2>\n",
    "<hr>"
   ]
  },
  {
   "cell_type": "code",
   "execution_count": 25,
   "id": "783ebe22-de91-4d63-a66c-cdc5fc024728",
   "metadata": {},
   "outputs": [
    {
     "data": {
      "text/plain": [
       "Accident_Severity\n",
       "Slight     563801\n",
       "Serious     88217\n",
       "Fatal        8661\n",
       "Name: count, dtype: int64"
      ]
     },
     "execution_count": 25,
     "metadata": {},
     "output_type": "execute_result"
    }
   ],
   "source": [
    "data['Accident_Severity'].value_counts()"
   ]
  },
  {
   "cell_type": "code",
   "execution_count": 26,
   "id": "6cda3487-29ca-4692-ae4f-25deb591d69d",
   "metadata": {
    "scrolled": true
   },
   "outputs": [
    {
     "name": "stdout",
     "output_type": "stream",
     "text": [
      "The probability value is 0.0\n",
      "Hence, it does not have a correlation.\n"
     ]
    }
   ],
   "source": [
    "from scipy.stats import f_oneway\n",
    "\n",
    "fatal_accidents = data[data['Accident_Severity'] == 'Fatal']['Number_of_Casualties']\n",
    "serious_accidents = data[data['Accident_Severity'] == 'Serious']['Number_of_Casualties']\n",
    "slight_accidents = data[data['Accident_Severity'] == 'Slight']['Number_of_Casualties']\n",
    "\n",
    "\n",
    "stats, p_value = f_oneway(fatal_accidents, serious_accidents, slight_accidents)\n",
    "\n",
    "print(f'The probability value is {p_value}')\n",
    "if p_value >= 0.5:\n",
    "    print(f'Hence, it does have a correlation.')\n",
    "else:\n",
    "    print(f'Hence, it does not have a correlation.')\n",
    "\n",
    "# if probability value >= 0.5 = with correlation\n",
    "# else if probability value < 0.5 = no correlation"
   ]
  },
  {
   "cell_type": "markdown",
   "id": "3332d238-b555-43ec-a41c-a39dd751cd9a",
   "metadata": {},
   "source": [
    "<br>\n",
    "<h4>The analysis above shows that the severity of an accident <strong>do not have a correlation</strong> to the number of casualties per accident. The probability that the two variable has a correlation is only 0.0,  which means that the severity of an accident does not affect casuality count.</h4>\n",
    "<hr>\n",
    "<br>"
   ]
  },
  {
   "cell_type": "markdown",
   "id": "158d8122-abde-46c7-a524-d246eae4309b",
   "metadata": {},
   "source": [
    "<br>\n",
    "<br>\n",
    "<h2>QUESTION 14: DOES THE TYPE OF ROAD HAS A SIGNIFICANT EFFECT TO NUMBER OF CASUALTIES IN A ROAD ACCIDENT?</h2>\n",
    "<hr>"
   ]
  },
  {
   "cell_type": "code",
   "execution_count": 27,
   "id": "e55feceb-c5d2-44e4-8e34-04d912f3ce46",
   "metadata": {
    "scrolled": true
   },
   "outputs": [
    {
     "name": "stdout",
     "output_type": "stream",
     "text": [
      "The probability value is 0.0\n",
      "Hence, it does not have a correlation.\n"
     ]
    }
   ],
   "source": [
    "from scipy.stats import f_oneway\n",
    "\n",
    "single_carriageway = data[data['Road_Type'] == 'Single carriageway']['Number_of_Casualties']\n",
    "dual_carriageway = data[data['Road_Type'] == 'Dual carriageway']['Number_of_Casualties']\n",
    "roundabout = data[data['Road_Type'] == 'Roundabout']['Number_of_Casualties']\n",
    "one_way_street = data[data['Road_Type'] == 'One way street']['Number_of_Casualties']\n",
    "slip_road = data[data['Road_Type'] == 'Slip road']['Number_of_Casualties']\n",
    "\n",
    "\n",
    "stats, p_value = f_oneway(single_carriageway, dual_carriageway, roundabout, one_way_street, slip_road)\n",
    "\n",
    "print(f'The probability value is {p_value}')\n",
    "if p_value >= 0.5:\n",
    "    print(f'Hence, it does have a correlation.')\n",
    "else:\n",
    "    print(f'Hence, it does not have a correlation.')\n",
    "\n",
    "# if probability value >= 0.5 = with correlation\n",
    "# else if probability value < 0.5 = no correlation"
   ]
  },
  {
   "cell_type": "markdown",
   "id": "2b95961f-d676-4e50-bd9d-01f3c6702a48",
   "metadata": {},
   "source": [
    "<br>\n",
    "<h4>The analysis above shows that the type of road <strong>do not have a correlation</strong> to the number of casualties per accident. The probability that the two variable has a correlation is only 0.0, which means that the type of road does not affect casuality count.</h4>\n",
    "<hr>\n",
    "<br>"
   ]
  },
  {
   "cell_type": "markdown",
   "id": "92de6942-56e5-45b5-b59d-10b5b5fe9d99",
   "metadata": {},
   "source": [
    "<br>\n",
    "<br>\n",
    "<h2>QUESTION 15: DOES THE LIGHT CONDITION OF A ROAD HAS A SIGNIFICANT EFFECT TO NUMBER OF CASUALTIES IN A ROAD ACCIDENT?</h2>\n",
    "<hr>"
   ]
  },
  {
   "cell_type": "code",
   "execution_count": 28,
   "id": "5ce1c712-7c2a-4e52-b28d-8946fe88e82a",
   "metadata": {
    "scrolled": true
   },
   "outputs": [
    {
     "name": "stdout",
     "output_type": "stream",
     "text": [
      "The probability value is 0.0\n",
      "Hence, it does not have a correlation.\n"
     ]
    }
   ],
   "source": [
    "from scipy.stats import f_oneway\n",
    "\n",
    "daylight = data[data['Light_Conditions'] == 'Daylight']['Number_of_Casualties']\n",
    "dark_lights_lit = data[data['Light_Conditions'] == 'Darkness - lights lit']['Number_of_Casualties']\n",
    "dark_no_lighting = data[data['Light_Conditions'] == 'Darkness - no lighting']['Number_of_Casualties']\n",
    "dark_lighting_unknown = data[data['Light_Conditions'] == 'Darkness - lighting unknown']['Number_of_Casualties']\n",
    "dark_lights_unlit = data[data['Light_Conditions'] == 'Darkness - lights unlit']['Number_of_Casualties']\n",
    "\n",
    "\n",
    "stats, p_value = f_oneway(daylight, dark_lights_lit, dark_no_lighting, dark_lighting_unknown, dark_lights_unlit)\n",
    "\n",
    "print(f'The probability value is {p_value}')\n",
    "if p_value >= 0.5:\n",
    "    print(f'Hence, it does have a correlation.')\n",
    "else:\n",
    "    print(f'Hence, it does not have a correlation.')\n",
    "\n",
    "# if probability value >= 0.5 = with correlation\n",
    "# else if probability value < 0.5 = no correlation"
   ]
  },
  {
   "cell_type": "markdown",
   "id": "598908a9-0ad3-4e99-9876-9636f1a2e432",
   "metadata": {},
   "source": [
    "<br>\n",
    "<h4>The analysis above shows that the light conditions of a road <strong>do not have a correlation</strong> to the number of casualties per accident. The probability that the two variable has a correlation is only 0.0, which means that the light condition of a road does not affect casuality count.</h4>\n",
    "<hr>\n",
    "<br>"
   ]
  },
  {
   "cell_type": "markdown",
   "id": "9ddd2c9a-cb14-4889-9d4a-e9dda12fa342",
   "metadata": {},
   "source": [
    "<br>\n",
    "<br>\n",
    "<h2>QUESTION 16: HOW IS ACCIDENT SEVERITY DISTRIBUTED ACROSS ALL RECORDED ACCIDENTS?</h2>\n",
    "<hr>"
   ]
  },
  {
   "cell_type": "code",
   "execution_count": 29,
   "id": "124eef1f-a0fb-47e6-a41d-6fe3683ca986",
   "metadata": {},
   "outputs": [
    {
     "data": {
      "image/png": "[encoded data removed]",
      "text/plain": [
       "<Figure size 1500x400 with 1 Axes>"
      ]
     },
     "metadata": {},
     "output_type": "display_data"
    }
   ],
   "source": [
    "datas = data['Accident_Severity'].value_counts()\n",
    "\n",
    "plt.figure(figsize=(15, 4))\n",
    "plt.bar(datas.index,datas.values)\n",
    "plt.xlabel('THE SEVERITIES OF ACCIDENTS')\n",
    "plt.ylabel('NUMBER OF ACCIDENTS')\n",
    "plt.title('DISTRIBUTION OF ROAD ACCIDENTS TO ITS CORRESPONDING SEVERITY')\n",
    "plt.show()"
   ]
  },
  {
   "cell_type": "markdown",
   "id": "c0d822c1-9261-44c1-816c-6148773cd338",
   "metadata": {},
   "source": [
    "<br>\n",
    "<h4>The data visualization above shows that among the 3 levels of accident severity, the <strong>SLIGHT LEVEL</strong> of accident severity shows to be the highest. The analysis shows that the Slight level has a big gap among the 2 other level of severity, which is morally good.</h4>\n",
    "<hr>\n",
    "<br>"
   ]
  },
  {
   "cell_type": "markdown",
   "id": "3f88821b-39fe-41fd-8ae8-d7843dd19e00",
   "metadata": {},
   "source": [
    "<br>\n",
    "<br>\n",
    "<h2>QUESTION 17: GIVE THE TOP 5 DISTRICT AREAS THAT HAS THE MOST ROAD ACCIDENTS BY A CAR TYPE VEHICLE.</h2>\n",
    "<hr>"
   ]
  },
  {
   "cell_type": "code",
   "execution_count": 30,
   "id": "d6e489b1-4594-4427-a309-6bdecf5e7a92",
   "metadata": {},
   "outputs": [
    {
     "data": {
      "text/plain": [
       "District Area\n",
       "Birmingham    9600\n",
       "Leeds         6875\n",
       "Manchester    5248\n",
       "Bradford      4749\n",
       "Sheffield     4306\n",
       "Name: count, dtype: int64"
      ]
     },
     "execution_count": 30,
     "metadata": {},
     "output_type": "execute_result"
    }
   ],
   "source": [
    "datas = data[data['Vehicle_Type'] == 'Car']['District Area'].value_counts().head(5)\n",
    "datas"
   ]
  },
  {
   "cell_type": "code",
   "execution_count": 31,
   "id": "7181e28a-3c97-4dfc-a11d-bff1b9a196b2",
   "metadata": {},
   "outputs": [
    {
     "data": {
      "image/png": "[encoded data removed]",
      "text/plain": [
       "<Figure size 1500x400 with 1 Axes>"
      ]
     },
     "metadata": {},
     "output_type": "display_data"
    }
   ],
   "source": [
    "plt.figure(figsize=(15, 4))\n",
    "plt.barh(datas.index, datas.values, color='lightblue')\n",
    "plt.xlabel('NUMBER OF CAR ROAD ACCIDENTS')\n",
    "plt.ylabel('TOP 5 DISTRICT AREAS')\n",
    "plt.title('TOP 5 DISTRICT AREAS THAT HAD THE MOST CAR ROAD ACCIDENTS')\n",
    "plt.show()"
   ]
  },
  {
   "cell_type": "markdown",
   "id": "45b5ad42-b0a2-4dc9-8f56-5f3a47725f2f",
   "metadata": {},
   "source": [
    "<br>\n",
    "<h4>The data visualization above shows the distribution of the top 5 district areas that had the most car road accidents. It shows that <strong>BIRMINGHAM</strong> had the highest. Birmingham tops with 31.2% percent among the other 4, with also 10% gap to the next district area which is Leeds.</h4>\n",
    "<hr>\n",
    "<br>"
   ]
  },
  {
   "cell_type": "markdown",
   "id": "2cb067e6-a1eb-4482-b84e-ccccab5599fa",
   "metadata": {},
   "source": [
    "<br>\n",
    "<br>\n",
    "<h2>QUESTION 18: WHICH LIGHT CONDITIONS ARE MOST COMMON DURING HIGH-CASUALTY ACCIDENTS?</h2>\n",
    "<hr>"
   ]
  },
  {
   "cell_type": "code",
   "execution_count": 32,
   "id": "a0c63232-6dea-4b7d-bcd2-312f4e9d9575",
   "metadata": {
    "scrolled": true
   },
   "outputs": [
    {
     "data": {
      "text/plain": [
       "Light_Conditions\n",
       "Daylight                       5076\n",
       "Darkness - lights lit          1860\n",
       "Darkness - no lighting         1612\n",
       "Darkness - lighting unknown      68\n",
       "Darkness - lights unlit          45\n",
       "Name: count, dtype: int64"
      ]
     },
     "execution_count": 32,
     "metadata": {},
     "output_type": "execute_result"
    }
   ],
   "source": [
    "datas = data[data['Accident_Severity'] == 'Fatal']['Light_Conditions'].value_counts()\n",
    "datas"
   ]
  },
  {
   "cell_type": "code",
   "execution_count": 33,
   "id": "353df0c8-19a5-4be8-a6b9-8eebec513181",
   "metadata": {},
   "outputs": [
    {
     "data": {
      "image/png": "[encoded data removed]",
      "text/plain": [
       "<Figure size 1500x400 with 1 Axes>"
      ]
     },
     "metadata": {},
     "output_type": "display_data"
    }
   ],
   "source": [
    "plt.figure(figsize=(15, 4))\n",
    "plt.barh(datas.index, datas.values)\n",
    "plt.xlabel('NUMBER OF CASUALTIES')\n",
    "plt.ylabel('LIGHT CONDITIONS')\n",
    "plt.title('COMMON LIGHT CONDITIONS DURING HIGH-CASUALTY ACCIDENTS')\n",
    "plt.show()"
   ]
  },
  {
   "cell_type": "markdown",
   "id": "026cbc92-5fca-439a-87b9-85a25f4cc011",
   "metadata": {},
   "source": [
    "<br>\n",
    "<h4>The data visualization above shows the distribution of the common light conditions when an accident happens. It shows that in <strong>DAYLIGHT</strong> is the commonly light conditions when a fatal accident occurs.</h4>\n",
    "<hr>\n",
    "<br>"
   ]
  },
  {
   "cell_type": "markdown",
   "id": "7a042e9c-d636-45bc-a75d-dd2cfa7658d2",
   "metadata": {},
   "source": [
    "<br>\n",
    "<br>\n",
    "<h2>QUESTION 19: HOW DOES THE AVERAGE NUMBER OF VEHICLES VARY BY ROAD TYPE?</h2>\n",
    "<hr>"
   ]
  },
  {
   "cell_type": "code",
   "execution_count": 34,
   "id": "2f69469c-4f78-4223-b530-f5ab13a9ddd8",
   "metadata": {
    "scrolled": true
   },
   "outputs": [
    {
     "data": {
      "text/plain": [
       "Road_Type\n",
       "Dual carriageway      2.01\n",
       "Slip road             1.92\n",
       "Roundabout            1.90\n",
       "Single carriageway    1.80\n",
       "unaccounted           1.67\n",
       "One way street        1.59\n",
       "Name: Number_of_Vehicles, dtype: float64"
      ]
     },
     "execution_count": 34,
     "metadata": {},
     "output_type": "execute_result"
    }
   ],
   "source": [
    "datas = np.round(data.groupby('Road_Type')['Number_of_Vehicles'].mean(),2).sort_values(ascending=False)\n",
    "datas"
   ]
  },
  {
   "cell_type": "code",
   "execution_count": 35,
   "id": "f60e7ae6-9e91-4d59-b8eb-b7ceace9673d",
   "metadata": {},
   "outputs": [
    {
     "data": {
      "image/png": "[encoded data removed]",
      "text/plain": [
       "<Figure size 1500x400 with 1 Axes>"
      ]
     },
     "metadata": {},
     "output_type": "display_data"
    }
   ],
   "source": [
    "plt.figure(figsize=(15, 4))\n",
    "plt.bar(datas.index, datas.values, color='magenta')\n",
    "plt.xlabel('ROAD TYPES')\n",
    "plt.ylabel('AVERAGE NUMBER OF CASUALTIES')\n",
    "plt.title('AVERAGE NUMBER OF VEHICLES BY ROAD TYPE IN A ROAD ACCIDENT')\n",
    "plt.show()"
   ]
  },
  {
   "cell_type": "markdown",
   "id": "375ca21b-f45d-40b6-af46-5e336d1388d8",
   "metadata": {
    "jp-MarkdownHeadingCollapsed": true
   },
   "source": [
    "<br>\n",
    "<h4>The data visualization above shows the distribution of the average number of vehicles by its corresponding road types in an accident. It shows that <strong>DUAL CARRIAGEWAY</strong> has the highest average casualties. One way streets show the lowest average casualties — suggesting they are safer by design. Dual carriageways have the highest — may need speed control or lane improvements.</h4>\n",
    "\n",
    "<hr>\n",
    "<br>"
   ]
  },
  {
   "cell_type": "markdown",
   "id": "18604cad-1d20-431e-9309-0858601bb11a",
   "metadata": {},
   "source": [
    "<br>\n",
    "<br>\n",
    "<h2>QUESTION 20: RANK THE TOTAL NUMBER OF CASUALTIES IN RELATED TO THE ROAD SURFACE CONDITIONS OF A ROAD ACCIDENT IN URBAN AREAS.</h2>\n",
    "<hr>"
   ]
  },
  {
   "cell_type": "code",
   "execution_count": 36,
   "id": "fed97336-591f-42be-916c-0a731250743e",
   "metadata": {},
   "outputs": [
    {
     "data": {
      "text/plain": [
       "Road_Surface_Conditions\n",
       "Dry                     384645\n",
       "Wet or damp             144109\n",
       "Frost or ice              9899\n",
       "Snow                      3545\n",
       "unaccounted                509\n",
       "Flood over 3cm. deep       333\n",
       "Name: Number_of_Casualties, dtype: int64"
      ]
     },
     "execution_count": 36,
     "metadata": {},
     "output_type": "execute_result"
    }
   ],
   "source": [
    "urban_area = data[data['Urban_or_Rural_Area'] == 'Urban']\n",
    "datas = urban_area.groupby('Road_Surface_Conditions')['Number_of_Casualties'].sum().sort_values(ascending=False)\n",
    "datas"
   ]
  },
  {
   "cell_type": "code",
   "execution_count": 37,
   "id": "29fd9c29-ba6c-4d56-b236-35b48386f7ec",
   "metadata": {},
   "outputs": [
    {
     "data": {
      "image/png": "[encoded data removed]",
      "text/plain": [
       "<Figure size 1500x400 with 1 Axes>"
      ]
     },
     "metadata": {},
     "output_type": "display_data"
    }
   ],
   "source": [
    "plt.figure(figsize=(15, 4))\n",
    "plt.bar(datas.index,datas.values, color='lightgreen')\n",
    "plt.xlabel('ROAD SURFACE CONDITIONS IN AN ACCIDENT')\n",
    "plt.ylabel('TOTAL NUMBER OF CASUALTIES')\n",
    "plt.title('RANKING OF ROAD SURFACE CONDITIONS BY TOTAL NUMBER OF CASUALTIES IN URBAN AREAS')\n",
    "plt.show()"
   ]
  },
  {
   "cell_type": "markdown",
   "id": "e6683a86-237c-40b0-8bea-932971ebdff5",
   "metadata": {},
   "source": [
    "<br>\n",
    "<h4>The data visualization above shows the distribution of the total number of casualties in related to its road surface conditions in urban areas. It shows that <strong>DRY SURFACE CONDITION</strong> has the highest casualties. Dry roads cause the most urban casualties — not because they’re dangerous, but because drivers let their guard down. Safety efforts should target behavior, not just conditions.</h4>\n",
    "<hr>\n",
    "<br>"
   ]
  },
  {
   "cell_type": "markdown",
   "id": "e10674eb-9424-4e4d-8a05-7a2525fd06a0",
   "metadata": {},
   "source": [
    "<br>\n",
    "<br>\n",
    "<h2>QUESTION 21: IN THE YEAR THE COVID-19 STARTED TO SPREAD (EARLY 2020), WHAT IS THE TOTAL SERIOUS AND FATAL ACCIDENTS THAT WERE CAUSED MAINLY BY CAR?</h2>\n",
    "<hr>"
   ]
  },
  {
   "cell_type": "code",
   "execution_count": 38,
   "id": "ad410010-2a06-4f6f-bb3e-517135c8af87",
   "metadata": {},
   "outputs": [
    {
     "name": "stdout",
     "output_type": "stream",
     "text": [
      "The total accidents that happened in the year 2020 was 170591\n",
      "While the fatal and serious accidents that was mainly caused by a car in the year 2020 was 19156\n",
      "or 11.23% of the total accidents\n"
     ]
    }
   ],
   "source": [
    "year2020 = data[data['Year'] == 2020][(data['Accident_Severity'] == 'Serious') | (data['Accident_Severity'] == 'Fatal')]\n",
    "\n",
    "\n",
    "car_accidents_2020 = year2020[data['Vehicle_Type'] == 'Car']['Vehicle_Type'].value_counts().sum()\n",
    "total_accidents = data[data['Year'] == 2020].value_counts().sum()\n",
    "\n",
    "\n",
    "print(f'The total accidents that happened in the year 2020 was {total_accidents}')\n",
    "print(f'While the fatal and serious accidents that was mainly caused by a car in the year 2020 was {car_accidents_2020}')\n",
    "print(f'or {((car_accidents_2020/total_accidents)*100):.2f}% of the total accidents')"
   ]
  },
  {
   "cell_type": "markdown",
   "id": "b45568be-311d-4cab-b5a9-2a3fe8d69564",
   "metadata": {},
   "source": [
    "<br>\n",
    "<h4>The data shows that even when a total lockdown where in operation within that year, there are still many car accidents that caused fatal and serious accidents in the UK. It shows that <strong>11.23%</strong> of the total accidents happened in the year 2020 </h4>\n",
    "<hr>\n",
    "<br>"
   ]
  },
  {
   "cell_type": "markdown",
   "id": "02072267-4dfa-45a4-b313-31c652d01838",
   "metadata": {},
   "source": [
    "<br>\n",
    "<br>\n",
    "<h2>QUESTION 22: WHAT IS THE PROGRESS OF UK ROAD ACCIDENTS PER YEAR? IS IT INCREASING ANUALLY?</h2>\n",
    "<hr>"
   ]
  },
  {
   "cell_type": "code",
   "execution_count": 39,
   "id": "4fdaff2b-82b4-42f5-bc67-96365a1817a3",
   "metadata": {},
   "outputs": [
    {
     "name": "stdout",
     "output_type": "stream",
     "text": [
      "The Year 2019 UK Road Accidents counts to 182115 or 27.6% of the recorded UK accidents\n",
      "While, the Year 2020 UK Road Accidents counts to 170591 or 25.8% of the recorded UK accidents\n",
      "While, the Year 2021 UK Road Accidents counts to 163554 or 24.8% of the recorded UK accidents\n",
      "While, the Year 2022 UK Road Accidents counts to 144419 or 21.9% of the recorded UK accidents\n"
     ]
    }
   ],
   "source": [
    "datas = data['Year'].value_counts()\n",
    "total_accidents = data['Year'].value_counts().sum()\n",
    "datas\n",
    "\n",
    "print(f'The Year 2019 UK Road Accidents counts to {datas.values[0]} or {((datas.values[0]/total_accidents)*100):.1f}% of the recorded UK accidents')\n",
    "print(f'While, the Year 2020 UK Road Accidents counts to {datas.values[1]} or {((datas.values[1]/total_accidents)*100):.1f}% of the recorded UK accidents')\n",
    "print(f'While, the Year 2021 UK Road Accidents counts to {datas.values[2]} or {((datas.values[2]/total_accidents)*100):.1f}% of the recorded UK accidents')\n",
    "print(f'While, the Year 2022 UK Road Accidents counts to {datas.values[3]} or {((datas.values[3]/total_accidents)*100):.1f}% of the recorded UK accidents')"
   ]
  },
  {
   "cell_type": "code",
   "execution_count": 40,
   "id": "aadc51ce-2093-4a7a-aadc-2c8b2e008938",
   "metadata": {},
   "outputs": [
    {
     "data": {
      "text/plain": [
       "Text(0.5, 1.0, 'ANUAL PROGRESS OF UK ROAD ACCIDENTS FROM 2019-2022')"
      ]
     },
     "execution_count": 40,
     "metadata": {},
     "output_type": "execute_result"
    },
    {
     "data": {
      "image/png": "[encoded data removed]",
      "text/plain": [
       "<Figure size 640x480 with 1 Axes>"
      ]
     },
     "metadata": {},
     "output_type": "display_data"
    }
   ],
   "source": [
    "plt.pie(datas, labels=datas.index,  autopct='%1.1f%%')\n",
    "plt.title('ANUAL PROGRESS OF UK ROAD ACCIDENTS FROM 2019-2022')"
   ]
  },
  {
   "cell_type": "markdown",
   "id": "ce88cffe-d1aa-4c72-92f3-e5acf4dde6c4",
   "metadata": {},
   "source": [
    "<br>\n",
    "<h4>The data visualization above shows that the UK road accidents progress from 2019-2022 is <strong>DECREASING ANNUALLY</strong>. By 2022, the Road Accidents in the UK became 144,419 or 21.9% of the total accidents.</h4>\n",
    "<hr>\n",
    "<br>"
   ]
  },
  {
   "cell_type": "markdown",
   "id": "4d1149d5-512e-4f35-8f29-fce122e85bdf",
   "metadata": {},
   "source": [
    "<br>\n",
    "<br>\n",
    "<h2>QUESTION 23: WHAT DAY OF THE WEEK IS THE MOST COMMON DAY THAT A ROAD ACCIDENTS OCCUR IN THE DISTRICT AREA OF KENSINGTON AND CHEALSEA?</h2>\n",
    "<hr>"
   ]
  },
  {
   "cell_type": "code",
   "execution_count": 41,
   "id": "c65d4acd-d512-464a-9a71-ea0c15b16338",
   "metadata": {},
   "outputs": [
    {
     "name": "stdout",
     "output_type": "stream",
     "text": [
      "The most common day of the week in which an accident happens is Saturday\n"
     ]
    }
   ],
   "source": [
    "kensington_and_chealsea = data[data['District Area'] == 'Kensington and Chelsea']\n",
    "day = kensington_and_chealsea['DayofWeek'].mode()[0]\n",
    "\n",
    "dayofweek = ['Monday', 'Tuesday', 'Wednesday', 'Thursday', 'Friday', 'Saturday', 'Sunday']\n",
    "day\n",
    "print(f'The most common day of the week in which an accident happens is {dayofweek[day]}')"
   ]
  },
  {
   "cell_type": "code",
   "execution_count": 42,
   "id": "47f12fb2-4d7c-4cd4-ac94-a7d7a5a590e3",
   "metadata": {},
   "outputs": [
    {
     "data": {
      "text/plain": [
       "DayofWeek\n",
       "5    456\n",
       "3    452\n",
       "4    447\n",
       "2    434\n",
       "1    397\n",
       "6    343\n",
       "0    270\n",
       "Name: count, dtype: int64"
      ]
     },
     "execution_count": 42,
     "metadata": {},
     "output_type": "execute_result"
    }
   ],
   "source": [
    "kensington_and_chealsea['DayofWeek'].value_counts().sort_values(ascending=False)"
   ]
  },
  {
   "cell_type": "markdown",
   "id": "82a1e121-809f-42af-8cad-ac0fa87c9b57",
   "metadata": {},
   "source": [
    "\n",
    "<br>\n",
    "<h4>The data analyzation above shows that the most common day of the week that an accident occurs in the District Area of Kensington and Chealsea is <strong>SATURDAY</strong></h4>\n",
    "<hr>\n",
    "<br>"
   ]
  },
  {
   "cell_type": "markdown",
   "id": "fc9c3b3e-dcd7-41d9-9c57-affedea1e9ee",
   "metadata": {},
   "source": [
    "<br>\n",
    "<br>\n",
    "<h2>QUESTION 24: HOW MANY CAR ACCIDENTS DID HAPPENED IN THE SUMMER SEASON (JUNE - SEPTEMBER) OF THE YEAR 2022?</h2>\n",
    "<hr>"
   ]
  },
  {
   "cell_type": "code",
   "execution_count": 43,
   "id": "54d0dc0c-2bd0-424e-8923-2263178d1d4b",
   "metadata": {},
   "outputs": [
    {
     "name": "stdout",
     "output_type": "stream",
     "text": [
      "There are 39229 Car accidents in the summer season of the year 2022. 27.2% of the total accidents in the year 2022.\n"
     ]
    },
    {
     "data": {
      "text/plain": [
       "Vehicle_Type\n",
       "Car                                      39229\n",
       "Van / Goods 3.5 tonnes mgw or under       2679\n",
       "Motorcycle over 500cc                     1784\n",
       "Bus or coach (17 or more pass seats)      1585\n",
       "Motorcycle 125cc and under                1220\n",
       "Goods 7.5 tonnes mgw and over              975\n",
       "Taxi/Private hire car                      968\n",
       "Motorcycle 50cc and under                  595\n",
       "Motorcycle over 125cc and up to 500cc      478\n",
       "Goods over 3.5t. and under 7.5t            394\n",
       "Other vehicle                              356\n",
       "Minibus (8 - 16 passenger seats)           140\n",
       "Agricultural vehicle                        99\n",
       "Pedal cycle                                 11\n",
       "Data missing or out of range                 0\n",
       "Ridden horse                                 0\n",
       "Name: count, dtype: int64"
      ]
     },
     "execution_count": 43,
     "metadata": {},
     "output_type": "execute_result"
    }
   ],
   "source": [
    "year2022 = data[data['Year'] == 2022]\n",
    "total_accidents = year2022['Year'].value_counts().sum()\n",
    "\n",
    "summer = year2022[(year2022['Month'] >= 6) & (year2022['Month'] < 10)]\n",
    "car_accidents = summer['Vehicle_Type'].value_counts()\n",
    "\n",
    "\n",
    "print(f'There are {car_accidents[0]} Car accidents in the summer season of the year 2022. {((car_accidents[0]/total_accidents)*100):.1f}% of the total accidents in the year 2022.')\n",
    "car_accidents"
   ]
  },
  {
   "cell_type": "markdown",
   "id": "c6186015-5c0e-40d2-8126-f09c718cfc5e",
   "metadata": {},
   "source": [
    "<br>\n",
    "<h4>There are <strong>39,229</strong> Car accidents during the summer season of the year 2022. The data above shows that the gap between the accidents with the other vehicle type is super far.</h4>\n",
    "<hr>\n",
    "<br>"
   ]
  },
  {
   "cell_type": "markdown",
   "id": "d8ed5e36-03db-4c56-bf92-35186b4f0f22",
   "metadata": {},
   "source": [
    "<br>\n",
    "<br>\n",
    "<h2>QUESTION 25: WHAT IS THE TOTAL NUMBER OF CASUALTIES THAT OCCURED IN THE DAY OF CHRISTMAS IN THE YEAR 2019?</h2>\n",
    "<hr>"
   ]
  },
  {
   "cell_type": "code",
   "execution_count": 44,
   "id": "d718ab91-8e25-4f5c-a888-039dc668664c",
   "metadata": {},
   "outputs": [
    {
     "name": "stdout",
     "output_type": "stream",
     "text": [
      "Total Number of Casualties : 157\n"
     ]
    }
   ],
   "source": [
    "christmas = data[data['Year'] == 2019][data['Month']== 12][data['Day'] == 25]\n",
    "total_casualties = christmas['Number_of_Casualties'].value_counts().sum()\n",
    "\n",
    "print(f'Total Number of Casualties : {total_casualties}')"
   ]
  },
  {
   "cell_type": "markdown",
   "id": "68a1036d-c663-419f-b8cc-28a91fafb9b7",
   "metadata": {},
   "source": [
    "<br>\n",
    "<h4>There are <strong>157</strong> number of casualties that occured during the Christmas Holiday of the year 2019.</h4>\n",
    "<hr>\n",
    "<br>"
   ]
  },
  {
   "cell_type": "markdown",
   "id": "d3e7e392-f908-47d5-b5c8-f6120af51fc1",
   "metadata": {},
   "source": [
    "<br>\n",
    "<br>\n",
    "<h2 style='text-align: center;'>6 DATA VISUALIZATION OF DATAS IN DISTRICT AREAS</h2>\n",
    "<hr>\n",
    "<br>\n",
    "<br>"
   ]
  },
  {
   "cell_type": "code",
   "execution_count": 64,
   "id": "0c0a6acd-a87e-4793-9e56-00b6ffa60237",
   "metadata": {},
   "outputs": [
    {
     "data": {
      "text/plain": [
       "['Kensington and Chelsea', 'Westminster', 'Richmond upon Thames', 'Hammersmith and Fulham', 'Hounslow', ..., 'County Durham', 'Shropshire', 'Central Bedfordshire', 'Cornwall', 'Wiltshire']\n",
       "Length: 422\n",
       "Categories (422, object): ['Aberdeen City', 'Aberdeenshire', 'Adur', 'Allerdale', ..., 'Wycombe', 'Wyre', 'Wyre Forest', 'York']"
      ]
     },
     "execution_count": 64,
     "metadata": {},
     "output_type": "execute_result"
    }
   ],
   "source": [
    "data['District Area'].unique()"
   ]
  },
  {
   "cell_type": "code",
   "execution_count": 65,
   "id": "bef009dc-cd7c-4630-bb12-0455e227cf21",
   "metadata": {},
   "outputs": [],
   "source": [
    "greenwich_df = data[data['District Area'] == 'Greenwich']\n",
    "richmondshire_df = data[data['District Area'] == 'Richmondshire']\n",
    "cornwall_df = data[data['District Area'] == 'Cornwall']\n",
    "lincoln_df = data[data['District Area'] == 'Lincoln']\n",
    "warwick_df = data[data['District Area'] == 'Warwick']\n",
    "fife_df = data[data['District Area'] == 'Fife']"
   ]
  },
  {
   "cell_type": "markdown",
   "id": "eddbc930-e0d9-4420-829e-2fc7dfecdcbb",
   "metadata": {},
   "source": [
    "<br>\n",
    "<br>\n",
    "<h2>MONTHLY ROAD ACCIDENT PROGRESSION OF GREENWICH FROM THE YEAR (2019-2022) </h2>\n",
    "<hr>"
   ]
  },
  {
   "cell_type": "code",
   "execution_count": 71,
   "id": "b4560083-41d7-4187-a5aa-0322af47f22c",
   "metadata": {},
   "outputs": [
    {
     "data": {
      "image/png": "[encoded data removed]",
      "text/plain": [
       "<Figure size 1000x500 with 1 Axes>"
      ]
     },
     "metadata": {},
     "output_type": "display_data"
    }
   ],
   "source": [
    "monthly_greenwichdata = greenwich_df.groupby(['Year', 'Month']).size()\n",
    "\n",
    "monthly_greenwichdata = monthly_greenwichdata.unstack(level=0)\n",
    "\n",
    "monthly_greenwichdata.plot(\n",
    "    marker='o', \n",
    "    figsize=(10, 5),\n",
    "    title='Monthly Road Accidents in Greenwich by Year (2019-2022)'\n",
    ")\n",
    "plt.xticks(range(1, 13), ['Jan','Feb','Mar','Apr','May','Jun','Jul','Aug','Sep','Oct','Nov','Dec'])\n",
    "plt.legend(title='Yearly Accident Comparison', bbox_to_anchor = (1.05,1), loc='upper left')\n",
    "plt.grid(alpha=0.3)\n",
    "plt.show()"
   ]
  },
  {
   "cell_type": "markdown",
   "id": "4b85cc0e-fc62-4602-b67f-127231cd5700",
   "metadata": {},
   "source": [
    "<br>\n",
    "<br>\n",
    "<h2>ACCIDENT SEVERITY DISTRIBUTION OF ACCIDENTS IN RICHMONDSHIRE BY THE YEAR 2020</h2>\n",
    "<hr>"
   ]
  },
  {
   "cell_type": "code",
   "execution_count": 86,
   "id": "4c513dd1-40be-4cac-94cb-24d4b765e347",
   "metadata": {},
   "outputs": [
    {
     "data": {
      "image/png": "[encoded data removed]",
      "text/plain": [
       "<Figure size 1000x700 with 1 Axes>"
      ]
     },
     "metadata": {},
     "output_type": "display_data"
    }
   ],
   "source": [
    "acc_2020 = richmondshire_df[richmondshire_df['Year'] == 2020]\n",
    "severity_richmondshire = acc_2020['Accident_Severity'].value_counts()\n",
    "\n",
    "plt.pie(severity_richmondshire,\n",
    "        labels = severity_richmondshire.index,\n",
    "        autopct = '%1.1f%%',\n",
    "        startangle = 90)\n",
    "plt.gcf().set_size_inches(10,7)\n",
    "plt.title('ACCIDENT SEVERITY DISTRIBUTION IN RICHMONDSHIRE')\n",
    "plt.show()"
   ]
  },
  {
   "cell_type": "code",
   "execution_count": 82,
   "id": "96a9e221-5676-49a9-8a05-ee326939f30e",
   "metadata": {},
   "outputs": [
    {
     "data": {
      "text/html": [
       "<div style=\"width:100%;\"><div style=\"position:relative;width:100%;height:0;padding-bottom:60%;\"><span style=\"color:#565656\">Make this Notebook Trusted to load map: File -> Trust Notebook</span><iframe srcdoc=\"&lt;!DOCTYPE html&gt;\n",
       "&lt;html&gt;\n",
       "&lt;head&gt;\n",
       "    \n",
       "    &lt;meta http-equiv=&quot;content-type&quot; content=&quot;text/html; charset=UTF-8&quot; /&gt;\n",
       "    \n",
       "        &lt;script&gt;\n",
       "            L_NO_TOUCH = false;\n",
       "            L_DISABLE_3D = false;\n",
       "        &lt;/script&gt;\n",
       "    \n",
       "    &lt;style&gt;html, body {width: 100%;height: 100%;margin: 0;padding: 0;}&lt;/style&gt;\n",
       "    &lt;style&gt;#map {position:absolute;top:0;bottom:0;right:0;left:0;}&lt;/style&gt;\n",
       "    &lt;script src=&quot;https://cdn.jsdelivr.net/npm/leaflet@1.9.3/dist/leaflet.js&quot;&gt;&lt;/script&gt;\n",
       "    &lt;script src=&quot;https://code.jquery.com/jquery-3.7.1.min.js&quot;&gt;&lt;/script&gt;\n",
       "    &lt;script src=&quot;https://cdn.jsdelivr.net/npm/bootstrap@5.2.2/dist/js/bootstrap.bundle.min.js&quot;&gt;&lt;/script&gt;\n",
       "    &lt;script src=&quot;https://cdnjs.cloudflare.com/ajax/libs/Leaflet.awesome-markers/2.0.2/leaflet.awesome-markers.js&quot;&gt;&lt;/script&gt;\n",
       "    &lt;link rel=&quot;stylesheet&quot; href=&quot;https://cdn.jsdelivr.net/npm/leaflet@1.9.3/dist/leaflet.css&quot;/&gt;\n",
       "    &lt;link rel=&quot;stylesheet&quot; href=&quot;https://cdn.jsdelivr.net/npm/bootstrap@5.2.2/dist/css/bootstrap.min.css&quot;/&gt;\n",
       "    &lt;link rel=&quot;stylesheet&quot; href=&quot;https://netdna.bootstrapcdn.com/bootstrap/3.0.0/css/bootstrap-glyphicons.css&quot;/&gt;\n",
       "    &lt;link rel=&quot;stylesheet&quot; href=&quot;https://cdn.jsdelivr.net/npm/@fortawesome/fontawesome-free@6.2.0/css/all.min.css&quot;/&gt;\n",
       "    &lt;link rel=&quot;stylesheet&quot; href=&quot;https://cdnjs.cloudflare.com/ajax/libs/Leaflet.awesome-markers/2.0.2/leaflet.awesome-markers.css&quot;/&gt;\n",
       "    &lt;link rel=&quot;stylesheet&quot; href=&quot;https://cdn.jsdelivr.net/gh/python-visualization/folium/folium/templates/leaflet.awesome.rotate.min.css&quot;/&gt;\n",
       "    \n",
       "            &lt;meta name=&quot;viewport&quot; content=&quot;width=device-width,\n",
       "                initial-scale=1.0, maximum-scale=1.0, user-scalable=no&quot; /&gt;\n",
       "            &lt;style&gt;\n",
       "                #map_fe5c4f7abe034933e82259dac7fa2f03 {\n",
       "                    position: relative;\n",
       "                    width: 100.0%;\n",
       "                    height: 100.0%;\n",
       "                    left: 0.0%;\n",
       "                    top: 0.0%;\n",
       "                }\n",
       "                .leaflet-container { font-size: 1rem; }\n",
       "            &lt;/style&gt;\n",
       "        \n",
       "    &lt;script src=&quot;https://cdn.jsdelivr.net/gh/python-visualization/folium@main/folium/templates/leaflet_heat.min.js&quot;&gt;&lt;/script&gt;\n",
       "&lt;/head&gt;\n",
       "&lt;body&gt;\n",
       "    \n",
       "    \n",
       "            &lt;div class=&quot;folium-map&quot; id=&quot;map_fe5c4f7abe034933e82259dac7fa2f03&quot; &gt;&lt;/div&gt;\n",
       "        \n",
       "&lt;/body&gt;\n",
       "&lt;script&gt;\n",
       "    \n",
       "    \n",
       "            var map_fe5c4f7abe034933e82259dac7fa2f03 = L.map(\n",
       "                &quot;map_fe5c4f7abe034933e82259dac7fa2f03&quot;,\n",
       "                {\n",
       "                    center: [54.388049367768595, -1.7494512906336084],\n",
       "                    crs: L.CRS.EPSG3857,\n",
       "                    ...{\n",
       "  &quot;zoom&quot;: 10,\n",
       "  &quot;zoomControl&quot;: true,\n",
       "  &quot;preferCanvas&quot;: false,\n",
       "}\n",
       "\n",
       "                }\n",
       "            );\n",
       "\n",
       "            \n",
       "\n",
       "        \n",
       "    \n",
       "            var tile_layer_0e55c312d335121a116c271e866bda28 = L.tileLayer(\n",
       "                &quot;https://tile.openstreetmap.org/{z}/{x}/{y}.png&quot;,\n",
       "                {\n",
       "  &quot;minZoom&quot;: 0,\n",
       "  &quot;maxZoom&quot;: 19,\n",
       "  &quot;maxNativeZoom&quot;: 19,\n",
       "  &quot;noWrap&quot;: false,\n",
       "  &quot;attribution&quot;: &quot;\\u0026copy; \\u003ca href=\\&quot;https://www.openstreetmap.org/copyright\\&quot;\\u003eOpenStreetMap\\u003c/a\\u003e contributors&quot;,\n",
       "  &quot;subdomains&quot;: &quot;abc&quot;,\n",
       "  &quot;detectRetina&quot;: false,\n",
       "  &quot;tms&quot;: false,\n",
       "  &quot;opacity&quot;: 1,\n",
       "}\n",
       "\n",
       "            );\n",
       "        \n",
       "    \n",
       "            tile_layer_0e55c312d335121a116c271e866bda28.addTo(map_fe5c4f7abe034933e82259dac7fa2f03);\n",
       "        \n",
       "    \n",
       "            var heat_map_6e9d2d172fb8f161ecf231f7169d4af0 = L.heatLayer(\n",
       "                [[54.371112, -1.633464], [54.389784, -1.656551], [54.387929, -1.959158], [54.385835, -1.729418], [54.509908, -1.587895], [54.380751, -1.672639], [54.39094, -1.652384], [54.341614, -1.599117], [54.406428, -1.734983], [54.373683, -1.721032], [54.428008, -1.666559], [54.398223, -1.723022], [54.309264, -1.827826], [54.397704, -1.694068], [54.303287, -2.201279], [54.321239, -1.948616], [54.460085, -1.529314], [54.354894, -1.81071], [54.375396, -1.723175], [54.446848, -1.687687], [54.363823, -1.694628], [54.330994, -1.685029], [54.443235, -1.68093], [54.365606, -1.62551], [54.393821, -1.654053], [54.379476, -1.948082], [54.476602, -1.771104], [54.408825, -1.721872], [54.349856, -1.807502], [54.434778, -1.677604], [54.373592, -1.720416], [54.517714, -1.671699], [54.435023, -1.668352], [54.396313, -1.616297], [54.406695, -1.733749], [54.395436, -1.685922], [54.375934, -1.723018], [54.301382, -1.847835], [54.473343, -1.648908], [54.504001, -1.62301], [54.48112, -1.784044], [54.365561, -1.746481], [54.494499, -1.630817], [54.445674, -1.685537], [54.286019, -1.992439], [54.493759, -1.819023], [54.40139, -1.776761], [54.375933, -1.722248], [54.373332, -1.724728], [54.400676, -1.662622], [54.355396, -1.703153], [54.403839, -1.74301], [54.399517, -1.738878], [54.369576, -1.630707], [54.444016, -1.670438], [54.387365, -1.730332], [54.252845, -2.214233], [54.296122, -1.887188], [54.39989, -1.706066], [54.393866, -1.638652], [54.3679, -1.641188], [54.357316, -1.680827], [54.465715, -1.544523], [54.402213, -1.739015], [54.376157, -1.703003], [54.397695, -1.690525], [54.4049, -1.662895], [54.424097, -1.68262], [54.313705, -1.746954], [54.463085, -1.538227], [54.44855, -1.544714], [54.393651, -1.657289], [54.442373, -1.55095], [54.303687, -1.824775], [54.32013, -1.899729], [54.442036, -1.669375], [54.381197, -1.671404], [54.40302, -1.73824], [54.498717, -1.628926], [54.305376, -1.812474], [54.388287, -1.956386], [54.437592, -1.76793], [54.470773, -1.695375], [54.373943, -1.71672], [54.374745, -1.713789], [54.304647, -1.80633], [54.289675, -1.775368], [54.377989, -1.649106], [54.383618, -1.743291], [54.298421, -2.010722], [54.322264, -1.680176], [54.452174, -1.735305], [54.412208, -1.748043], [54.372829, -1.741203], [54.498355, -1.627849], [54.406605, -1.733595], [54.354782, -1.673923], [54.393291, -1.657292], [54.446851, -1.546891], [54.291374, -1.904869], [54.443054, -1.680469], [54.464321, -1.668424], [54.399882, -1.847471], [54.39643, -1.654956], [54.312856, -1.826274], [54.413498, -1.721378], [54.357969, -1.903176], [54.47177, -1.698762], [54.302368, -2.2128], [54.460877, -1.728615], [54.326295, -1.862966], [54.498354, -1.627694], [54.4426, -1.678622], [54.36492, -2.043367], [54.351536, -1.609791], [54.301409, -1.804194], [54.406602, -1.732209], [54.406605, -1.733749], [54.483253, -1.690343], [54.36299, -1.62261], [54.373286, -1.638986], [54.44276, -1.671374], [54.379692, -1.67973], [54.368763, -1.629483], [54.355773, -1.614059], [54.384482, -1.65675], [54.38923, -1.651474], [54.44241, -1.674769], [54.314427, -1.673473], [54.385024, -1.728346], [54.404321, -1.758875], [54.357969, -1.903176], [54.3886, -1.651171], [54.311382, -1.67734], [54.376497, -2.166691], [54.460086, -1.529622], [54.509181, -1.585432], [54.414607, -1.66297], [54.480668, -1.782811], [54.349587, -1.807965], [54.305412, -2.070045], [54.31251, -2.220691], [54.440814, -1.719496], [54.30809, -1.824296], [54.232075, -2.068233], [54.392143, -1.664386], [54.3788, -1.649869], [54.320313, -1.904495], [54.332701, -2.315223], [54.304108, -2.19406], [54.370573, -1.633469], [54.465715, -1.544523], [54.421803, -1.665068], [54.369726, -1.88437], [54.388688, -1.650401], [54.38932, -1.651627], [54.408221, -1.661173], [54.380882, -1.72514], [54.375538, -1.707164], [54.31021, -1.711624], [54.442409, -1.674615], [54.406602, -1.732209], [54.312677, -1.826582], [54.31178, -1.658738], [54.432893, -1.678544], [54.461777, -1.72938], [54.476341, -1.73129], [54.42748, -1.558203], [54.443015, -1.666129], [54.375443, -1.852642], [54.340621, -1.688801], [54.442496, -1.673535], [54.31205, -1.659043], [54.444402, -1.716234], [54.303818, -1.85551], [54.30899, -1.771267], [54.466389, -1.742618], [54.394001, -1.654052], [54.357965, -1.820698], [54.397703, -1.693914], [54.44365, -1.667974], [54.408221, -1.661173], [54.37899, -1.686355], [54.358774, -1.688202], [54.292305, -1.963401], [54.30757, -1.781265], [54.433219, -1.554442], [54.345918, -1.723681], [54.374694, -1.730877], [54.374694, -1.730877], [54.375001, -1.6733], [54.442671, -1.671529], [54.388505, -1.649324], [54.285233, -1.805346], [54.377102, -1.722702], [54.40231, -1.964536], [54.408201, -1.723879], [54.317707, -1.657152], [54.379685, -1.677266], [54.405436, -1.661504], [54.516171, -1.66615], [54.440146, -1.668619], [54.447606, -1.668867], [54.418015, -1.693917], [54.436918, -1.671266], [54.3537, -1.612078], [54.498534, -1.627693], [54.404371, -1.739618], [54.406339, -1.735292], [54.303658, -2.194212], [54.320496, -1.908953], [54.469265, -1.668693], [54.420157, -1.688353], [54.37527, -1.70809], [54.483145, -1.621041], [54.282867, -1.788154], [54.379713, -1.72484], [54.301382, -1.847835], [54.26723, -1.742172], [54.375311, -1.725485], [54.40311, -1.738393], [54.277032, -1.999352], [54.428189, -1.66702], [54.381377, -1.610739], [54.374469, -1.711328], [54.312682, -1.65996], [54.48008, -1.647615], [54.325945, -2.28565], [54.416456, -1.810118], [54.500603, -1.77375], [54.296733, -2.245806], [54.405013, -1.745622], [54.470779, -1.663588], [54.406334, -1.661189], [54.461415, -1.728457], [54.380043, -1.676494], [54.299239, -1.796828], [54.387379, -1.698456], [54.422007, -1.74937], [54.390649, -1.615426], [54.310559, -1.707318], [54.286582, -1.805954], [54.404446, -1.732839], [54.448478, -1.503384], [54.405062, -1.726827], [54.378457, -1.688515], [54.380751, -1.672639], [54.373098, -1.740739], [54.365606, -1.62551], [54.323891, -1.884653], [54.298854, -1.73675], [54.326385, -1.862812], [54.465951, -1.747867], [54.442211, -1.667677], [54.473759, -1.668656], [54.406516, -1.734058], [54.307005, -2.103705], [54.409837, -1.732188], [54.39085, -1.652384], [54.410044, -1.74482], [54.297421, -1.944497], [54.262163, -1.726851], [54.496195, -1.825651], [54.278538, -1.779729], [54.473349, -1.761709], [54.315147, -1.673775], [54.291047, -2.257601], [54.36353, -1.622912], [54.304649, -1.807559], [54.382772, -1.726051], [54.502299, -1.624724], [54.453811, -1.704755], [54.325535, -2.268118], [54.257579, -1.902337], [54.456895, -1.758103], [54.292893, -1.818369], [54.262525, -1.728231], [54.39908, -1.705456], [54.42675, -1.666569], [54.306558, -2.101706], [54.395362, -1.729664], [54.395106, -1.73598], [54.26752, -1.751997], [54.444861, -1.684156], [54.369536, -1.715672], [54.461597, -1.729382], [54.466384, -1.66671], [54.470958, -1.663433], [54.372739, -1.741203], [54.379623, -1.724532], [54.442409, -1.67446], [54.460085, -1.529314], [54.397242, -1.689297], [54.403288, -1.737468], [54.407488, -1.726657], [54.404555, -1.741619], [54.37567, -1.725483], [54.365878, -1.824049], [54.404543, -1.663668], [54.301013, -2.216635], [54.508307, -1.620499], [54.413139, -1.721842], [54.453722, -1.705064], [54.298583, -1.933432], [54.378563, -1.732853], [54.379263, -1.724381], [54.401395, -1.662616], [54.301013, -2.216942], [54.473349, -1.761709], [54.381197, -1.671404], [54.312221, -2.178267], [54.343668, -1.816453], [54.417394, -1.697312], [54.293833, -1.964322], [54.290244, -2.208129], [54.446303, -1.65284], [54.305376, -1.812474], [54.438083, -1.669869], [54.426942, -1.558363], [54.388689, -1.650863], [54.325225, -1.870503], [54.454807, -1.707833], [54.442218, -1.670144], [54.395436, -1.685922], [54.463693, -1.668583], [54.311961, -1.828276], [54.357954, -1.684207], [54.313614, -1.746493], [54.310283, -1.669971], [54.406778, -1.730667], [54.471585, -1.662656], [54.298315, -1.934969], [54.324156, -1.681852], [54.37858, -1.845856], [54.313705, -1.746954], [54.403364, -1.659981], [54.474678, -1.644267], [54.370843, -1.633466], [54.384024, -1.653828], [54.37821, -1.632631], [54.39998, -1.706066], [54.374259, -1.633744], [54.376155, -1.702387], [54.477349, -1.555197], [54.378652, -1.732545], [54.394459, -1.572574], [54.375933, -1.722248], [54.45731, -1.668018], [54.308534, -2.103094], [54.477596, -1.773877], [54.306954, -1.847815], [54.305437, -2.205285], [54.393967, -1.674382], [54.44285, -1.671219], [54.359948, -1.690347], [54.496204, -1.63003], [54.411719, -1.729556], [54.511602, -1.671439], [54.507018, -1.671167], [54.460459, -1.669072], [54.355413, -1.710231], [54.419824, -1.664468], [54.391301, -1.652689], [54.431965, -1.667606], [54.406254, -1.737449], [54.433618, -1.716771], [54.393907, -1.652667], [54.410078, -1.719552], [54.308686, -1.713326], [54.362922, -1.693865], [54.499609, -1.626602], [54.386204, -1.695539], [54.388914, -1.951458], [54.391678, -1.628507], [54.404811, -1.663204], [54.404371, -1.739464], [54.472569, -1.66095], [54.415146, -1.662811], [54.380802, -1.691884], [54.46809, -1.666233], [54.405652, -1.798151], [54.306057, -1.849048], [54.471964, -1.669597], [54.42757, -1.558048], [54.392143, -1.664386], [54.331455, -1.822658], [54.446747, -1.650832], [54.480758, -1.782811], [54.442126, -1.669528], [54.486523, -1.638144], [54.304187, -2.200208], [54.310374, -1.670124], [54.375361, -1.708397], [54.346082, -1.716911], [54.305946, -2.078345], [54.324696, -1.68231], [54.373502, -1.720571], [54.382332, -1.659385], [54.385735, -1.654891], [54.479764, -1.780038], [54.482137, -1.644356], [54.444162, -2.172517], [54.418015, -1.693917], [54.408941, -1.661476], [54.47353, -1.762326], [54.309952, -1.807381], [54.478952, -1.777882], [54.394091, -1.654051], [54.361614, -1.750353], [54.477577, -1.652267], [54.267502, -1.743398], [54.457218, -2.154833], [54.475922, -1.639472], [54.350904, -1.609027], [54.190572, -2.009468], [54.333013, -1.844335], [54.485448, -1.639543], [54.376542, -1.646039], [54.375005, -1.64282], [54.40347, -1.738545], [54.356572, -1.671292], [54.31214, -1.827814], [54.50828, -1.584669], [54.478951, -1.777573], [54.397235, -1.723336], [54.370683, -1.671795], [54.309418, -1.650151], [54.301076, -1.821867], [54.39139, -1.652534], [54.453901, -1.704754], [54.463513, -1.668585], [54.312536, -1.672105], [54.498801, -1.627072], [54.293072, -1.89365], [54.286133, -1.805802], [54.312445, -1.671644], [54.376023, -1.722247], [54.501478, -1.620871], [54.303372, -1.858739], [54.405174, -1.736686], [54.324786, -1.682309], [54.453722, -1.705064], [54.455834, -1.766747], [54.373285, -1.638678], [54.400866, -1.739332], [54.285412, -1.805038], [54.280035, -2.278881], [54.363332, -1.714176], [54.397324, -1.723028], [54.364231, -1.714632], [54.480668, -1.782657], [54.373142, -1.72042], [54.364955, -1.648294], [54.449011, -1.690138], [54.403822, -1.735154], [54.351737, -1.803954], [54.302606, -2.177303], [54.454265, -1.706911], [54.309804, -1.828899], [54.402926, -1.736084], [54.385119, -1.829356], [54.373355, -1.735196], [54.264664, -1.884357], [54.414786, -1.66266], [54.438684, -1.549911], [54.397324, -1.723028], [54.498724, -1.834133], [54.499876, -1.625673], [54.478292, -1.650872], [54.309627, -1.830898], [54.289588, -1.921003], [54.411842, -1.744809], [54.472033, -1.73425], [54.310299, -1.711316], [54.29315, -1.71835], [54.262796, -1.728536], [54.346171, -1.716295], [54.484284, -1.640942], [54.424186, -1.682465], [54.295584, -1.888112], [54.38056, -1.742078], [54.355082, -1.81594], [54.327613, -2.30196], [54.473439, -1.761709], [54.388599, -1.650863], [54.39184, -1.652838], [54.295539, -1.958789], [54.442483, -1.6686], [54.40975, -1.733267], [54.408113, -1.724804], [54.406953, -1.728663], [54.304982, -1.852279], [54.305574, -1.824614], [54.290423, -1.994589], [54.285683, -1.805804], [54.418283, -1.693298], [54.446836, -1.650522], [54.375361, -1.708397], [54.421981, -1.664605], [54.395954, -1.6163], [54.354405, -1.702083], [54.442409, -1.67446], [54.405737, -1.795224], [54.473438, -1.761555], [54.319511, -1.913413], [54.283172, -1.808888], [54.481107, -1.732957], [54.44874, -1.689678], [54.428276, -1.554649], [54.421413, -1.687418], [54.44213, -1.67107], [54.388556, -1.955308], [54.514601, -1.621368], [54.309187, -1.837201], [54.270915, -2.151523], [54.403997, -1.60236], [54.357965, -1.820698], [54.365605, -1.625356], [54.464213, -1.777962], [54.326563, -1.861888], [54.439157, -1.668319], [54.402207, -1.736397], [54.477596, -1.773877], [54.466996, -1.660842], [54.28238, -2.275057], [54.449824, -1.691983], [54.448829, -1.689369], [54.407043, -1.728354], [54.29235, -1.816066], [54.379953, -1.676648], [54.453901, -1.704908], [54.507409, -1.620662], [54.477596, -1.773877], [54.473529, -1.761863], [54.404896, -1.833279], [54.476512, -1.770796], [54.368853, -1.629328], [54.463371, -1.811752], [54.357576, -1.615581], [54.347824, -1.693977], [54.275753, -1.836565], [54.311992, -1.670264], [54.368331, -1.700289], [54.44222, -1.67107], [54.376022, -1.722093], [54.489839, -1.635027], [54.477596, -1.773877], [54.37614, -1.631726], [54.393999, -1.653436], [54.379782, -1.679729], [54.396493, -1.616295], [54.468179, -1.66577], [54.495924, -1.824572], [54.304556, -1.805254], [54.502633, -1.616382], [54.299949, -1.744733], [54.397703, -1.69376], [54.301271, -2.223397], [54.301281, -2.217558], [54.428278, -1.666865], [54.349175, -1.695198], [54.421082, -1.664612], [54.306101, -1.816312], [54.378485, -1.738242], [54.26752, -1.75215], [54.303833, -2.197286], [54.464671, -1.737538], [54.402926, -1.736084], [54.314936, -2.221012], [54.407043, -1.728662], [54.376363, -1.646195], [54.374118, -1.715025], [54.374118, -1.714871], [54.374525, -1.73565], [54.441584, -1.668608], [54.424186, -1.682465], [54.366073, -1.695842], [54.479493, -1.779113], [54.447155, -1.668254], [54.462524, -1.668593], [54.468179, -1.665924], [54.429807, -1.667007], [54.435472, -1.668349], [54.453718, -1.668818], [54.442401, -1.671377], [54.448444, -1.647424], [54.402926, -1.736238], [54.403912, -1.735153], [54.312394, -1.723137], [54.46782, -1.666236], [54.497011, -1.830589], [54.290152, -1.978458], [54.286784, -1.688131], [54.366073, -1.695842], [54.38932, -1.651627], [54.368131, -1.628411], [54.498355, -1.627849], [54.304553, -2.130593], [54.473349, -1.761709], [54.397145, -1.723337], [54.508486, -1.620034], [54.347181, -1.768747], [54.39148, -1.652687], [54.277266, -1.826423], [54.48339, -1.642493], [54.430977, -1.667614], [54.383529, -1.743291], [54.403544, -1.659979], [54.366481, -1.716001], [54.440814, -1.719496], [54.374721, -1.789836], [54.38702, -1.698459], [54.397145, -1.723337], [54.406511, -1.731747], [54.448385, -1.502768], [54.419552, -1.663854], [54.46892, -1.749392], [54.398629, -1.704843], [54.376363, -1.646349], [54.393866, -1.638652], [54.307356, -2.113542], [54.381375, -1.670478], [54.314501, -1.954158], [54.453992, -1.70537], [54.39863, -1.704997], [54.402036, -1.740249], [54.29674, -1.875202], [54.397145, -1.723337], [54.477234, -1.728815], [54.314779, -1.744795], [54.284052, -1.797364], [54.409305, -1.735273], [54.281433, -1.972626], [54.312082, -1.670417], [54.325946, -2.285188], [54.376259, -1.708237], [54.366571, -1.715847], [54.421592, -1.687263], [54.291049, -2.256372], [54.38887, -1.651323], [54.436891, -1.551164], [54.304338, -2.060976], [54.274354, -2.286675], [54.422489, -1.723012], [54.42748, -1.558203], [54.285478, -1.978768], [54.313172, -1.749878], [54.431515, -1.667456], [54.381637, -1.667705], [54.319492, -2.235334], [54.318441, -1.925406], [54.357215, -1.615276], [54.378669, -1.845086], [54.47914, -1.633733], [54.373592, -1.720724], [54.427649, -1.66687], [54.380753, -1.673101], [54.362178, -1.62154], [54.376023, -1.722247], [54.447041, -1.774353], [54.324176, -1.822997], [54.379522, -1.65094], [54.375933, -1.722248], [54.411294, -1.580719], [54.498354, -1.627694], [54.455958, -1.739445], [54.404695, -1.818645], [54.309183, -2.221596], [54.496288, -1.827658], [54.456233, -1.668644], [54.301194, -2.216328], [54.376002, -1.645736], [54.303922, -2.197594], [54.39031, -1.652081], [54.312148, -1.833808], [54.523039, -1.757403], [54.42748, -1.558203], [54.472535, -1.7594], [54.377808, -1.6488], [54.477868, -1.774955], [54.442931, -1.66798], [54.282696, -1.793223], [54.27092, -2.000119], [54.477054, -1.728971], [54.395094, -1.730435], [54.388524, -1.769439], [54.267067, -1.750464], [54.269001, -1.773791], [54.296167, -1.955562], [54.30461, -2.056212], [54.39553, -1.654655], [54.397983, -1.736424], [54.347824, -1.694131], [54.30465, -1.807713], [54.431606, -1.667763], [54.370742, -1.629773], [54.395799, -1.687459], [54.473349, -1.761709], [54.407261, -1.74607], [54.309328, -1.880697], [54.313705, -1.746954], [54.314958, -1.74464], [54.479185, -1.648858], [54.467182, -1.663001], [54.333819, -1.842333], [54.298166, -2.200332], [54.418473, -1.663554], [54.310209, -1.711163], [54.394255, -1.681002], [54.406602, -1.732209], [54.380752, -1.672793], [54.410524, -1.717854], [54.431105, -1.718021], [54.350214, -1.806885], [54.405102, -1.745159], [54.376765, -1.630335], [54.407053, -1.661337], [54.361622, -1.713265], [54.396674, -1.616602], [54.365516, -1.625511], [54.335854, -1.819563], [54.288024, -1.808405], [54.451276, -1.697216], [54.315034, -1.940477], [54.375537, -1.70701], [54.448478, -1.503384]],\n",
       "                {\n",
       "  &quot;minOpacity&quot;: 0.5,\n",
       "  &quot;maxZoom&quot;: 18,\n",
       "  &quot;radius&quot;: 25,\n",
       "  &quot;blur&quot;: 15,\n",
       "}\n",
       "            );\n",
       "        \n",
       "    \n",
       "            heat_map_6e9d2d172fb8f161ecf231f7169d4af0.addTo(map_fe5c4f7abe034933e82259dac7fa2f03);\n",
       "        \n",
       "    \n",
       "            tile_layer_0e55c312d335121a116c271e866bda28.addTo(map_fe5c4f7abe034933e82259dac7fa2f03);\n",
       "        \n",
       "    \n",
       "            heat_map_6e9d2d172fb8f161ecf231f7169d4af0.addTo(map_fe5c4f7abe034933e82259dac7fa2f03);\n",
       "        \n",
       "&lt;/script&gt;\n",
       "&lt;/html&gt;\" style=\"position:absolute;width:100%;height:100%;left:0;top:0;border:none !important;\" allowfullscreen webkitallowfullscreen mozallowfullscreen></iframe></div></div>"
      ],
      "text/plain": [
       "<folium.folium.Map at 0x1e780c54380>"
      ]
     },
     "execution_count": 82,
     "metadata": {},
     "output_type": "execute_result"
    }
   ],
   "source": [
    "import folium\n",
    "from folium.plugins import HeatMap\n",
    "\n",
    "\n",
    "locations = list(zip(richmondshire_df['Latitude'], richmondshire_df['Longitude']))\n",
    "\n",
    "\n",
    "m = folium.Map(location = [richmondshire_df['Latitude'].mean(), richmondshire_df['Longitude'].mean()], zoom_start = 10)\n",
    "\n",
    "HeatMap(locations).add_to(m)\n",
    "\n",
    "m.save('accident_heatmap.html')\n",
    "\n",
    "m"
   ]
  },
  {
   "cell_type": "markdown",
   "id": "6520eedc-ff84-49c7-8c6b-5428dbfbc9a4",
   "metadata": {},
   "source": [
    "   <h3 style=\"text-align: right; margin-right: 80px;\">Analyst : Jay Cee I. Macaraig</h3>\n",
    "   <h3 style=\"text-align: right; margin-right: 80px;\">BSIT-3B</h3>"
   ]
  }
 ],
 "metadata": {
  "kernelspec": {
   "display_name": "Python 3 (ipykernel)",
   "language": "python",
   "name": "python3"
  },
  "language_info": {
   "codemirror_mode": {
    "name": "ipython",
    "version": 3
   },
   "file_extension": ".py",
   "mimetype": "text/x-python",
   "name": "python",
   "nbconvert_exporter": "python",
   "pygments_lexer": "ipython3",
   "version": "3.13.1"
  }
 },
 "nbformat": 4,
 "nbformat_minor": 5
}
