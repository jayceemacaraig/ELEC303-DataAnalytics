{
 "cells": [
  {
   "cell_type": "markdown",
   "id": "c67af658-8651-41dd-a7ac-f1f009a43ca2",
   "metadata": {},
   "source": [
    "<div>\n",
    "    <h1 style=\"text-align: center;\">ACTIVITY 1 : PALMER PENGUINS DATA ANALYTICS PROJECT</h1>\n",
    "    <hr>\n",
    "    <h3 style=\"text-align: center;\">Analyst : Jay Cee I. Macaraig</h3>\n",
    "</div>"
   ]
  },
  {
   "cell_type": "code",
   "execution_count": 1,
   "id": "60295043-fd08-426b-ac11-4e09206a0d9e",
   "metadata": {},
   "outputs": [],
   "source": [
    "import numpy as np\n",
    "import pandas as pd\n",
    "import warnings\n",
    "warnings.filterwarnings('ignore')"
   ]
  },
  {
   "cell_type": "markdown",
   "id": "bbbce5ea-9736-4ad7-ae5f-cd5732d34ae6",
   "metadata": {},
   "source": [
    "<h3>Converting Datasets to DataFrames</h3>\n",
    "<br>\n",
    "<h2>Requirements</h2>\n",
    "<ul>\n",
    "    <li>DataFrame name</li>\n",
    "    <li>File Path</li>\n",
    "</ul>"
   ]
  },
  {
   "cell_type": "code",
   "execution_count": 2,
   "id": "ef8c4504-af9d-4a74-849e-7b871f536f2f",
   "metadata": {},
   "outputs": [],
   "source": [
    "data = pd.read_csv(\"datasets\\\\penguins.csv\")"
   ]
  },
  {
   "cell_type": "code",
   "execution_count": 3,
   "id": "f66202db-fee9-4d78-96ab-1a4efd73a86c",
   "metadata": {},
   "outputs": [
    {
     "data": {
      "text/html": [
       "<div>\n",
       "<style scoped>\n",
       "    .dataframe tbody tr th:only-of-type {\n",
       "        vertical-align: middle;\n",
       "    }\n",
       "\n",
       "    .dataframe tbody tr th {\n",
       "        vertical-align: top;\n",
       "    }\n",
       "\n",
       "    .dataframe thead th {\n",
       "        text-align: right;\n",
       "    }\n",
       "</style>\n",
       "<table border=\"1\" class=\"dataframe\">\n",
       "  <thead>\n",
       "    <tr style=\"text-align: right;\">\n",
       "      <th></th>\n",
       "      <th>species</th>\n",
       "      <th>island</th>\n",
       "      <th>bill_length_mm</th>\n",
       "      <th>bill_depth_mm</th>\n",
       "      <th>flipper_length_mm</th>\n",
       "      <th>body_mass_g</th>\n",
       "      <th>sex</th>\n",
       "      <th>year</th>\n",
       "    </tr>\n",
       "  </thead>\n",
       "  <tbody>\n",
       "    <tr>\n",
       "      <th>0</th>\n",
       "      <td>Adelie</td>\n",
       "      <td>Torgersen</td>\n",
       "      <td>39.1</td>\n",
       "      <td>18.7</td>\n",
       "      <td>181.0</td>\n",
       "      <td>3750.0</td>\n",
       "      <td>male</td>\n",
       "      <td>2007</td>\n",
       "    </tr>\n",
       "    <tr>\n",
       "      <th>1</th>\n",
       "      <td>Adelie</td>\n",
       "      <td>Torgersen</td>\n",
       "      <td>39.5</td>\n",
       "      <td>17.4</td>\n",
       "      <td>186.0</td>\n",
       "      <td>3800.0</td>\n",
       "      <td>female</td>\n",
       "      <td>2007</td>\n",
       "    </tr>\n",
       "    <tr>\n",
       "      <th>2</th>\n",
       "      <td>Adelie</td>\n",
       "      <td>Torgersen</td>\n",
       "      <td>40.3</td>\n",
       "      <td>18.0</td>\n",
       "      <td>195.0</td>\n",
       "      <td>3250.0</td>\n",
       "      <td>female</td>\n",
       "      <td>2007</td>\n",
       "    </tr>\n",
       "    <tr>\n",
       "      <th>3</th>\n",
       "      <td>Adelie</td>\n",
       "      <td>Torgersen</td>\n",
       "      <td>NaN</td>\n",
       "      <td>NaN</td>\n",
       "      <td>NaN</td>\n",
       "      <td>NaN</td>\n",
       "      <td>NaN</td>\n",
       "      <td>2007</td>\n",
       "    </tr>\n",
       "    <tr>\n",
       "      <th>4</th>\n",
       "      <td>Adelie</td>\n",
       "      <td>Torgersen</td>\n",
       "      <td>36.7</td>\n",
       "      <td>19.3</td>\n",
       "      <td>193.0</td>\n",
       "      <td>3450.0</td>\n",
       "      <td>female</td>\n",
       "      <td>2007</td>\n",
       "    </tr>\n",
       "    <tr>\n",
       "      <th>...</th>\n",
       "      <td>...</td>\n",
       "      <td>...</td>\n",
       "      <td>...</td>\n",
       "      <td>...</td>\n",
       "      <td>...</td>\n",
       "      <td>...</td>\n",
       "      <td>...</td>\n",
       "      <td>...</td>\n",
       "    </tr>\n",
       "    <tr>\n",
       "      <th>339</th>\n",
       "      <td>Chinstrap</td>\n",
       "      <td>Dream</td>\n",
       "      <td>55.8</td>\n",
       "      <td>19.8</td>\n",
       "      <td>207.0</td>\n",
       "      <td>4000.0</td>\n",
       "      <td>male</td>\n",
       "      <td>2009</td>\n",
       "    </tr>\n",
       "    <tr>\n",
       "      <th>340</th>\n",
       "      <td>Chinstrap</td>\n",
       "      <td>Dream</td>\n",
       "      <td>43.5</td>\n",
       "      <td>18.1</td>\n",
       "      <td>202.0</td>\n",
       "      <td>3400.0</td>\n",
       "      <td>female</td>\n",
       "      <td>2009</td>\n",
       "    </tr>\n",
       "    <tr>\n",
       "      <th>341</th>\n",
       "      <td>Chinstrap</td>\n",
       "      <td>Dream</td>\n",
       "      <td>49.6</td>\n",
       "      <td>18.2</td>\n",
       "      <td>193.0</td>\n",
       "      <td>3775.0</td>\n",
       "      <td>male</td>\n",
       "      <td>2009</td>\n",
       "    </tr>\n",
       "    <tr>\n",
       "      <th>342</th>\n",
       "      <td>Chinstrap</td>\n",
       "      <td>Dream</td>\n",
       "      <td>50.8</td>\n",
       "      <td>19.0</td>\n",
       "      <td>210.0</td>\n",
       "      <td>4100.0</td>\n",
       "      <td>male</td>\n",
       "      <td>2009</td>\n",
       "    </tr>\n",
       "    <tr>\n",
       "      <th>343</th>\n",
       "      <td>Chinstrap</td>\n",
       "      <td>Dream</td>\n",
       "      <td>50.2</td>\n",
       "      <td>18.7</td>\n",
       "      <td>198.0</td>\n",
       "      <td>3775.0</td>\n",
       "      <td>female</td>\n",
       "      <td>2009</td>\n",
       "    </tr>\n",
       "  </tbody>\n",
       "</table>\n",
       "<p>344 rows × 8 columns</p>\n",
       "</div>"
      ],
      "text/plain": [
       "       species     island  bill_length_mm  bill_depth_mm  flipper_length_mm  \\\n",
       "0       Adelie  Torgersen            39.1           18.7              181.0   \n",
       "1       Adelie  Torgersen            39.5           17.4              186.0   \n",
       "2       Adelie  Torgersen            40.3           18.0              195.0   \n",
       "3       Adelie  Torgersen             NaN            NaN                NaN   \n",
       "4       Adelie  Torgersen            36.7           19.3              193.0   \n",
       "..         ...        ...             ...            ...                ...   \n",
       "339  Chinstrap      Dream            55.8           19.8              207.0   \n",
       "340  Chinstrap      Dream            43.5           18.1              202.0   \n",
       "341  Chinstrap      Dream            49.6           18.2              193.0   \n",
       "342  Chinstrap      Dream            50.8           19.0              210.0   \n",
       "343  Chinstrap      Dream            50.2           18.7              198.0   \n",
       "\n",
       "     body_mass_g     sex  year  \n",
       "0         3750.0    male  2007  \n",
       "1         3800.0  female  2007  \n",
       "2         3250.0  female  2007  \n",
       "3            NaN     NaN  2007  \n",
       "4         3450.0  female  2007  \n",
       "..           ...     ...   ...  \n",
       "339       4000.0    male  2009  \n",
       "340       3400.0  female  2009  \n",
       "341       3775.0    male  2009  \n",
       "342       4100.0    male  2009  \n",
       "343       3775.0  female  2009  \n",
       "\n",
       "[344 rows x 8 columns]"
      ]
     },
     "execution_count": 3,
     "metadata": {},
     "output_type": "execute_result"
    }
   ],
   "source": [
    "data"
   ]
  },
  {
   "cell_type": "markdown",
   "id": "66024a8b-3f9d-445c-8b07-7baae8b7237d",
   "metadata": {},
   "source": [
    "<br>\n",
    "<h1 style='text-align: center;'>DESCRIPTIVE ANALYTICS</h1>\n",
    "<br>\n",
    "<h4>.describe() function is used for checking general analysis of a datasets</h4>"
   ]
  },
  {
   "cell_type": "code",
   "execution_count": 4,
   "id": "e9629fee-5395-40dc-9f83-7cb7d7ac2f69",
   "metadata": {},
   "outputs": [
    {
     "data": {
      "text/html": [
       "<div>\n",
       "<style scoped>\n",
       "    .dataframe tbody tr th:only-of-type {\n",
       "        vertical-align: middle;\n",
       "    }\n",
       "\n",
       "    .dataframe tbody tr th {\n",
       "        vertical-align: top;\n",
       "    }\n",
       "\n",
       "    .dataframe thead th {\n",
       "        text-align: right;\n",
       "    }\n",
       "</style>\n",
       "<table border=\"1\" class=\"dataframe\">\n",
       "  <thead>\n",
       "    <tr style=\"text-align: right;\">\n",
       "      <th></th>\n",
       "      <th>bill_length_mm</th>\n",
       "      <th>bill_depth_mm</th>\n",
       "      <th>flipper_length_mm</th>\n",
       "      <th>body_mass_g</th>\n",
       "      <th>year</th>\n",
       "    </tr>\n",
       "  </thead>\n",
       "  <tbody>\n",
       "    <tr>\n",
       "      <th>count</th>\n",
       "      <td>342.000000</td>\n",
       "      <td>342.000000</td>\n",
       "      <td>342.000000</td>\n",
       "      <td>342.000000</td>\n",
       "      <td>344.000000</td>\n",
       "    </tr>\n",
       "    <tr>\n",
       "      <th>mean</th>\n",
       "      <td>43.921930</td>\n",
       "      <td>17.151170</td>\n",
       "      <td>200.915205</td>\n",
       "      <td>4201.754386</td>\n",
       "      <td>2008.029070</td>\n",
       "    </tr>\n",
       "    <tr>\n",
       "      <th>std</th>\n",
       "      <td>5.459584</td>\n",
       "      <td>1.974793</td>\n",
       "      <td>14.061714</td>\n",
       "      <td>801.954536</td>\n",
       "      <td>0.818356</td>\n",
       "    </tr>\n",
       "    <tr>\n",
       "      <th>min</th>\n",
       "      <td>32.100000</td>\n",
       "      <td>13.100000</td>\n",
       "      <td>172.000000</td>\n",
       "      <td>2700.000000</td>\n",
       "      <td>2007.000000</td>\n",
       "    </tr>\n",
       "    <tr>\n",
       "      <th>25%</th>\n",
       "      <td>39.225000</td>\n",
       "      <td>15.600000</td>\n",
       "      <td>190.000000</td>\n",
       "      <td>3550.000000</td>\n",
       "      <td>2007.000000</td>\n",
       "    </tr>\n",
       "    <tr>\n",
       "      <th>50%</th>\n",
       "      <td>44.450000</td>\n",
       "      <td>17.300000</td>\n",
       "      <td>197.000000</td>\n",
       "      <td>4050.000000</td>\n",
       "      <td>2008.000000</td>\n",
       "    </tr>\n",
       "    <tr>\n",
       "      <th>75%</th>\n",
       "      <td>48.500000</td>\n",
       "      <td>18.700000</td>\n",
       "      <td>213.000000</td>\n",
       "      <td>4750.000000</td>\n",
       "      <td>2009.000000</td>\n",
       "    </tr>\n",
       "    <tr>\n",
       "      <th>max</th>\n",
       "      <td>59.600000</td>\n",
       "      <td>21.500000</td>\n",
       "      <td>231.000000</td>\n",
       "      <td>6300.000000</td>\n",
       "      <td>2009.000000</td>\n",
       "    </tr>\n",
       "  </tbody>\n",
       "</table>\n",
       "</div>"
      ],
      "text/plain": [
       "       bill_length_mm  bill_depth_mm  flipper_length_mm  body_mass_g  \\\n",
       "count      342.000000     342.000000         342.000000   342.000000   \n",
       "mean        43.921930      17.151170         200.915205  4201.754386   \n",
       "std          5.459584       1.974793          14.061714   801.954536   \n",
       "min         32.100000      13.100000         172.000000  2700.000000   \n",
       "25%         39.225000      15.600000         190.000000  3550.000000   \n",
       "50%         44.450000      17.300000         197.000000  4050.000000   \n",
       "75%         48.500000      18.700000         213.000000  4750.000000   \n",
       "max         59.600000      21.500000         231.000000  6300.000000   \n",
       "\n",
       "              year  \n",
       "count   344.000000  \n",
       "mean   2008.029070  \n",
       "std       0.818356  \n",
       "min    2007.000000  \n",
       "25%    2007.000000  \n",
       "50%    2008.000000  \n",
       "75%    2009.000000  \n",
       "max    2009.000000  "
      ]
     },
     "execution_count": 4,
     "metadata": {},
     "output_type": "execute_result"
    }
   ],
   "source": [
    "data.describe()"
   ]
  },
  {
   "cell_type": "markdown",
   "id": "1899c646-80f0-4e57-81d9-90f23b250c7b",
   "metadata": {},
   "source": [
    "<h4>.T function is used for rotating the x-axis and y-axis label of a datasets</h4>"
   ]
  },
  {
   "cell_type": "code",
   "execution_count": 5,
   "id": "27305bce-92fb-477f-9539-f95f5be062a0",
   "metadata": {},
   "outputs": [
    {
     "data": {
      "text/html": [
       "<div>\n",
       "<style scoped>\n",
       "    .dataframe tbody tr th:only-of-type {\n",
       "        vertical-align: middle;\n",
       "    }\n",
       "\n",
       "    .dataframe tbody tr th {\n",
       "        vertical-align: top;\n",
       "    }\n",
       "\n",
       "    .dataframe thead th {\n",
       "        text-align: right;\n",
       "    }\n",
       "</style>\n",
       "<table border=\"1\" class=\"dataframe\">\n",
       "  <thead>\n",
       "    <tr style=\"text-align: right;\">\n",
       "      <th></th>\n",
       "      <th>count</th>\n",
       "      <th>mean</th>\n",
       "      <th>std</th>\n",
       "      <th>min</th>\n",
       "      <th>25%</th>\n",
       "      <th>50%</th>\n",
       "      <th>75%</th>\n",
       "      <th>max</th>\n",
       "    </tr>\n",
       "  </thead>\n",
       "  <tbody>\n",
       "    <tr>\n",
       "      <th>bill_length_mm</th>\n",
       "      <td>342.0</td>\n",
       "      <td>43.921930</td>\n",
       "      <td>5.459584</td>\n",
       "      <td>32.1</td>\n",
       "      <td>39.225</td>\n",
       "      <td>44.45</td>\n",
       "      <td>48.5</td>\n",
       "      <td>59.6</td>\n",
       "    </tr>\n",
       "    <tr>\n",
       "      <th>bill_depth_mm</th>\n",
       "      <td>342.0</td>\n",
       "      <td>17.151170</td>\n",
       "      <td>1.974793</td>\n",
       "      <td>13.1</td>\n",
       "      <td>15.600</td>\n",
       "      <td>17.30</td>\n",
       "      <td>18.7</td>\n",
       "      <td>21.5</td>\n",
       "    </tr>\n",
       "    <tr>\n",
       "      <th>flipper_length_mm</th>\n",
       "      <td>342.0</td>\n",
       "      <td>200.915205</td>\n",
       "      <td>14.061714</td>\n",
       "      <td>172.0</td>\n",
       "      <td>190.000</td>\n",
       "      <td>197.00</td>\n",
       "      <td>213.0</td>\n",
       "      <td>231.0</td>\n",
       "    </tr>\n",
       "    <tr>\n",
       "      <th>body_mass_g</th>\n",
       "      <td>342.0</td>\n",
       "      <td>4201.754386</td>\n",
       "      <td>801.954536</td>\n",
       "      <td>2700.0</td>\n",
       "      <td>3550.000</td>\n",
       "      <td>4050.00</td>\n",
       "      <td>4750.0</td>\n",
       "      <td>6300.0</td>\n",
       "    </tr>\n",
       "    <tr>\n",
       "      <th>year</th>\n",
       "      <td>344.0</td>\n",
       "      <td>2008.029070</td>\n",
       "      <td>0.818356</td>\n",
       "      <td>2007.0</td>\n",
       "      <td>2007.000</td>\n",
       "      <td>2008.00</td>\n",
       "      <td>2009.0</td>\n",
       "      <td>2009.0</td>\n",
       "    </tr>\n",
       "  </tbody>\n",
       "</table>\n",
       "</div>"
      ],
      "text/plain": [
       "                   count         mean         std     min       25%      50%  \\\n",
       "bill_length_mm     342.0    43.921930    5.459584    32.1    39.225    44.45   \n",
       "bill_depth_mm      342.0    17.151170    1.974793    13.1    15.600    17.30   \n",
       "flipper_length_mm  342.0   200.915205   14.061714   172.0   190.000   197.00   \n",
       "body_mass_g        342.0  4201.754386  801.954536  2700.0  3550.000  4050.00   \n",
       "year               344.0  2008.029070    0.818356  2007.0  2007.000  2008.00   \n",
       "\n",
       "                      75%     max  \n",
       "bill_length_mm       48.5    59.6  \n",
       "bill_depth_mm        18.7    21.5  \n",
       "flipper_length_mm   213.0   231.0  \n",
       "body_mass_g        4750.0  6300.0  \n",
       "year               2009.0  2009.0  "
      ]
     },
     "execution_count": 5,
     "metadata": {},
     "output_type": "execute_result"
    }
   ],
   "source": [
    "data.describe().T"
   ]
  },
  {
   "cell_type": "markdown",
   "id": "7b4230ce-d541-4c2e-943e-f6f3ec4ca119",
   "metadata": {},
   "source": [
    "<h3>Checking for Null Values</h3>\n",
    "<h4>.isnull() function is used for checking null values for every row of datas</h4>"
   ]
  },
  {
   "cell_type": "code",
   "execution_count": 6,
   "id": "f093a246-f61b-4c19-9df4-bbf62b795d39",
   "metadata": {},
   "outputs": [
    {
     "data": {
      "text/html": [
       "<div>\n",
       "<style scoped>\n",
       "    .dataframe tbody tr th:only-of-type {\n",
       "        vertical-align: middle;\n",
       "    }\n",
       "\n",
       "    .dataframe tbody tr th {\n",
       "        vertical-align: top;\n",
       "    }\n",
       "\n",
       "    .dataframe thead th {\n",
       "        text-align: right;\n",
       "    }\n",
       "</style>\n",
       "<table border=\"1\" class=\"dataframe\">\n",
       "  <thead>\n",
       "    <tr style=\"text-align: right;\">\n",
       "      <th></th>\n",
       "      <th>species</th>\n",
       "      <th>island</th>\n",
       "      <th>bill_length_mm</th>\n",
       "      <th>bill_depth_mm</th>\n",
       "      <th>flipper_length_mm</th>\n",
       "      <th>body_mass_g</th>\n",
       "      <th>sex</th>\n",
       "      <th>year</th>\n",
       "    </tr>\n",
       "  </thead>\n",
       "  <tbody>\n",
       "    <tr>\n",
       "      <th>0</th>\n",
       "      <td>False</td>\n",
       "      <td>False</td>\n",
       "      <td>False</td>\n",
       "      <td>False</td>\n",
       "      <td>False</td>\n",
       "      <td>False</td>\n",
       "      <td>False</td>\n",
       "      <td>False</td>\n",
       "    </tr>\n",
       "    <tr>\n",
       "      <th>1</th>\n",
       "      <td>False</td>\n",
       "      <td>False</td>\n",
       "      <td>False</td>\n",
       "      <td>False</td>\n",
       "      <td>False</td>\n",
       "      <td>False</td>\n",
       "      <td>False</td>\n",
       "      <td>False</td>\n",
       "    </tr>\n",
       "    <tr>\n",
       "      <th>2</th>\n",
       "      <td>False</td>\n",
       "      <td>False</td>\n",
       "      <td>False</td>\n",
       "      <td>False</td>\n",
       "      <td>False</td>\n",
       "      <td>False</td>\n",
       "      <td>False</td>\n",
       "      <td>False</td>\n",
       "    </tr>\n",
       "    <tr>\n",
       "      <th>3</th>\n",
       "      <td>False</td>\n",
       "      <td>False</td>\n",
       "      <td>True</td>\n",
       "      <td>True</td>\n",
       "      <td>True</td>\n",
       "      <td>True</td>\n",
       "      <td>True</td>\n",
       "      <td>False</td>\n",
       "    </tr>\n",
       "    <tr>\n",
       "      <th>4</th>\n",
       "      <td>False</td>\n",
       "      <td>False</td>\n",
       "      <td>False</td>\n",
       "      <td>False</td>\n",
       "      <td>False</td>\n",
       "      <td>False</td>\n",
       "      <td>False</td>\n",
       "      <td>False</td>\n",
       "    </tr>\n",
       "    <tr>\n",
       "      <th>...</th>\n",
       "      <td>...</td>\n",
       "      <td>...</td>\n",
       "      <td>...</td>\n",
       "      <td>...</td>\n",
       "      <td>...</td>\n",
       "      <td>...</td>\n",
       "      <td>...</td>\n",
       "      <td>...</td>\n",
       "    </tr>\n",
       "    <tr>\n",
       "      <th>339</th>\n",
       "      <td>False</td>\n",
       "      <td>False</td>\n",
       "      <td>False</td>\n",
       "      <td>False</td>\n",
       "      <td>False</td>\n",
       "      <td>False</td>\n",
       "      <td>False</td>\n",
       "      <td>False</td>\n",
       "    </tr>\n",
       "    <tr>\n",
       "      <th>340</th>\n",
       "      <td>False</td>\n",
       "      <td>False</td>\n",
       "      <td>False</td>\n",
       "      <td>False</td>\n",
       "      <td>False</td>\n",
       "      <td>False</td>\n",
       "      <td>False</td>\n",
       "      <td>False</td>\n",
       "    </tr>\n",
       "    <tr>\n",
       "      <th>341</th>\n",
       "      <td>False</td>\n",
       "      <td>False</td>\n",
       "      <td>False</td>\n",
       "      <td>False</td>\n",
       "      <td>False</td>\n",
       "      <td>False</td>\n",
       "      <td>False</td>\n",
       "      <td>False</td>\n",
       "    </tr>\n",
       "    <tr>\n",
       "      <th>342</th>\n",
       "      <td>False</td>\n",
       "      <td>False</td>\n",
       "      <td>False</td>\n",
       "      <td>False</td>\n",
       "      <td>False</td>\n",
       "      <td>False</td>\n",
       "      <td>False</td>\n",
       "      <td>False</td>\n",
       "    </tr>\n",
       "    <tr>\n",
       "      <th>343</th>\n",
       "      <td>False</td>\n",
       "      <td>False</td>\n",
       "      <td>False</td>\n",
       "      <td>False</td>\n",
       "      <td>False</td>\n",
       "      <td>False</td>\n",
       "      <td>False</td>\n",
       "      <td>False</td>\n",
       "    </tr>\n",
       "  </tbody>\n",
       "</table>\n",
       "<p>344 rows × 8 columns</p>\n",
       "</div>"
      ],
      "text/plain": [
       "     species  island  bill_length_mm  bill_depth_mm  flipper_length_mm  \\\n",
       "0      False   False           False          False              False   \n",
       "1      False   False           False          False              False   \n",
       "2      False   False           False          False              False   \n",
       "3      False   False            True           True               True   \n",
       "4      False   False           False          False              False   \n",
       "..       ...     ...             ...            ...                ...   \n",
       "339    False   False           False          False              False   \n",
       "340    False   False           False          False              False   \n",
       "341    False   False           False          False              False   \n",
       "342    False   False           False          False              False   \n",
       "343    False   False           False          False              False   \n",
       "\n",
       "     body_mass_g    sex   year  \n",
       "0          False  False  False  \n",
       "1          False  False  False  \n",
       "2          False  False  False  \n",
       "3           True   True  False  \n",
       "4          False  False  False  \n",
       "..           ...    ...    ...  \n",
       "339        False  False  False  \n",
       "340        False  False  False  \n",
       "341        False  False  False  \n",
       "342        False  False  False  \n",
       "343        False  False  False  \n",
       "\n",
       "[344 rows x 8 columns]"
      ]
     },
     "execution_count": 6,
     "metadata": {},
     "output_type": "execute_result"
    }
   ],
   "source": [
    "data.isnull()"
   ]
  },
  {
   "cell_type": "markdown",
   "id": "e97f0793-feeb-4c3a-924f-0d872e23c438",
   "metadata": {},
   "source": [
    "<h3>Summarizing Null Values</h3>\n",
    "<h4>.sum() is a function for summarizing all data inside a dataset</h4>"
   ]
  },
  {
   "cell_type": "code",
   "execution_count": 7,
   "id": "bcc39d5d-3b71-441b-963f-7b9e4588c2c0",
   "metadata": {},
   "outputs": [
    {
     "data": {
      "text/plain": [
       "species               0\n",
       "island                0\n",
       "bill_length_mm        2\n",
       "bill_depth_mm         2\n",
       "flipper_length_mm     2\n",
       "body_mass_g           2\n",
       "sex                  11\n",
       "year                  0\n",
       "dtype: int64"
      ]
     },
     "execution_count": 7,
     "metadata": {},
     "output_type": "execute_result"
    }
   ],
   "source": [
    "data.isnull().sum()"
   ]
  },
  {
   "cell_type": "markdown",
   "id": "aca39b6b-dbbb-4d2a-aa50-60743d37f8c8",
   "metadata": {},
   "source": [
    "<h3>.value_counts() is a function that checks a total values of a single column</h3>"
   ]
  },
  {
   "cell_type": "code",
   "execution_count": 8,
   "id": "5b3c6cec-8aec-4d4b-8b80-6781905efc38",
   "metadata": {},
   "outputs": [
    {
     "data": {
      "text/plain": [
       "0         Adelie\n",
       "1         Adelie\n",
       "2         Adelie\n",
       "3         Adelie\n",
       "4         Adelie\n",
       "         ...    \n",
       "339    Chinstrap\n",
       "340    Chinstrap\n",
       "341    Chinstrap\n",
       "342    Chinstrap\n",
       "343    Chinstrap\n",
       "Name: species, Length: 344, dtype: object"
      ]
     },
     "execution_count": 8,
     "metadata": {},
     "output_type": "execute_result"
    }
   ],
   "source": [
    "data['species']"
   ]
  },
  {
   "cell_type": "code",
   "execution_count": 9,
   "id": "90eb7607-3f81-4eb1-b231-6fc4249191a5",
   "metadata": {},
   "outputs": [
    {
     "data": {
      "text/plain": [
       "species\n",
       "Adelie       152\n",
       "Gentoo       124\n",
       "Chinstrap     68\n",
       "Name: count, dtype: int64"
      ]
     },
     "execution_count": 9,
     "metadata": {},
     "output_type": "execute_result"
    }
   ],
   "source": [
    "data['species'].value_counts()"
   ]
  },
  {
   "cell_type": "markdown",
   "id": "6d859787-d21c-45ca-bb3f-9ba3fad0a397",
   "metadata": {},
   "source": [
    "<h2>Filtering a Datasets</h2>\n",
    "<h3>By using conditional operations inside a list declaration, you can filter datas in a dataset</h3>"
   ]
  },
  {
   "cell_type": "code",
   "execution_count": 10,
   "id": "2fb3d537-2c71-4324-b3e3-4d955718f13f",
   "metadata": {},
   "outputs": [
    {
     "data": {
      "text/html": [
       "<div>\n",
       "<style scoped>\n",
       "    .dataframe tbody tr th:only-of-type {\n",
       "        vertical-align: middle;\n",
       "    }\n",
       "\n",
       "    .dataframe tbody tr th {\n",
       "        vertical-align: top;\n",
       "    }\n",
       "\n",
       "    .dataframe thead th {\n",
       "        text-align: right;\n",
       "    }\n",
       "</style>\n",
       "<table border=\"1\" class=\"dataframe\">\n",
       "  <thead>\n",
       "    <tr style=\"text-align: right;\">\n",
       "      <th></th>\n",
       "      <th>species</th>\n",
       "      <th>island</th>\n",
       "      <th>bill_length_mm</th>\n",
       "      <th>bill_depth_mm</th>\n",
       "      <th>flipper_length_mm</th>\n",
       "      <th>body_mass_g</th>\n",
       "      <th>sex</th>\n",
       "      <th>year</th>\n",
       "    </tr>\n",
       "  </thead>\n",
       "  <tbody>\n",
       "    <tr>\n",
       "      <th>0</th>\n",
       "      <td>Adelie</td>\n",
       "      <td>Torgersen</td>\n",
       "      <td>39.1</td>\n",
       "      <td>18.7</td>\n",
       "      <td>181.0</td>\n",
       "      <td>3750.0</td>\n",
       "      <td>male</td>\n",
       "      <td>2007</td>\n",
       "    </tr>\n",
       "    <tr>\n",
       "      <th>1</th>\n",
       "      <td>Adelie</td>\n",
       "      <td>Torgersen</td>\n",
       "      <td>39.5</td>\n",
       "      <td>17.4</td>\n",
       "      <td>186.0</td>\n",
       "      <td>3800.0</td>\n",
       "      <td>female</td>\n",
       "      <td>2007</td>\n",
       "    </tr>\n",
       "    <tr>\n",
       "      <th>2</th>\n",
       "      <td>Adelie</td>\n",
       "      <td>Torgersen</td>\n",
       "      <td>40.3</td>\n",
       "      <td>18.0</td>\n",
       "      <td>195.0</td>\n",
       "      <td>3250.0</td>\n",
       "      <td>female</td>\n",
       "      <td>2007</td>\n",
       "    </tr>\n",
       "    <tr>\n",
       "      <th>3</th>\n",
       "      <td>Adelie</td>\n",
       "      <td>Torgersen</td>\n",
       "      <td>NaN</td>\n",
       "      <td>NaN</td>\n",
       "      <td>NaN</td>\n",
       "      <td>NaN</td>\n",
       "      <td>NaN</td>\n",
       "      <td>2007</td>\n",
       "    </tr>\n",
       "    <tr>\n",
       "      <th>4</th>\n",
       "      <td>Adelie</td>\n",
       "      <td>Torgersen</td>\n",
       "      <td>36.7</td>\n",
       "      <td>19.3</td>\n",
       "      <td>193.0</td>\n",
       "      <td>3450.0</td>\n",
       "      <td>female</td>\n",
       "      <td>2007</td>\n",
       "    </tr>\n",
       "    <tr>\n",
       "      <th>...</th>\n",
       "      <td>...</td>\n",
       "      <td>...</td>\n",
       "      <td>...</td>\n",
       "      <td>...</td>\n",
       "      <td>...</td>\n",
       "      <td>...</td>\n",
       "      <td>...</td>\n",
       "      <td>...</td>\n",
       "    </tr>\n",
       "    <tr>\n",
       "      <th>147</th>\n",
       "      <td>Adelie</td>\n",
       "      <td>Dream</td>\n",
       "      <td>36.6</td>\n",
       "      <td>18.4</td>\n",
       "      <td>184.0</td>\n",
       "      <td>3475.0</td>\n",
       "      <td>female</td>\n",
       "      <td>2009</td>\n",
       "    </tr>\n",
       "    <tr>\n",
       "      <th>148</th>\n",
       "      <td>Adelie</td>\n",
       "      <td>Dream</td>\n",
       "      <td>36.0</td>\n",
       "      <td>17.8</td>\n",
       "      <td>195.0</td>\n",
       "      <td>3450.0</td>\n",
       "      <td>female</td>\n",
       "      <td>2009</td>\n",
       "    </tr>\n",
       "    <tr>\n",
       "      <th>149</th>\n",
       "      <td>Adelie</td>\n",
       "      <td>Dream</td>\n",
       "      <td>37.8</td>\n",
       "      <td>18.1</td>\n",
       "      <td>193.0</td>\n",
       "      <td>3750.0</td>\n",
       "      <td>male</td>\n",
       "      <td>2009</td>\n",
       "    </tr>\n",
       "    <tr>\n",
       "      <th>150</th>\n",
       "      <td>Adelie</td>\n",
       "      <td>Dream</td>\n",
       "      <td>36.0</td>\n",
       "      <td>17.1</td>\n",
       "      <td>187.0</td>\n",
       "      <td>3700.0</td>\n",
       "      <td>female</td>\n",
       "      <td>2009</td>\n",
       "    </tr>\n",
       "    <tr>\n",
       "      <th>151</th>\n",
       "      <td>Adelie</td>\n",
       "      <td>Dream</td>\n",
       "      <td>41.5</td>\n",
       "      <td>18.5</td>\n",
       "      <td>201.0</td>\n",
       "      <td>4000.0</td>\n",
       "      <td>male</td>\n",
       "      <td>2009</td>\n",
       "    </tr>\n",
       "  </tbody>\n",
       "</table>\n",
       "<p>152 rows × 8 columns</p>\n",
       "</div>"
      ],
      "text/plain": [
       "    species     island  bill_length_mm  bill_depth_mm  flipper_length_mm  \\\n",
       "0    Adelie  Torgersen            39.1           18.7              181.0   \n",
       "1    Adelie  Torgersen            39.5           17.4              186.0   \n",
       "2    Adelie  Torgersen            40.3           18.0              195.0   \n",
       "3    Adelie  Torgersen             NaN            NaN                NaN   \n",
       "4    Adelie  Torgersen            36.7           19.3              193.0   \n",
       "..      ...        ...             ...            ...                ...   \n",
       "147  Adelie      Dream            36.6           18.4              184.0   \n",
       "148  Adelie      Dream            36.0           17.8              195.0   \n",
       "149  Adelie      Dream            37.8           18.1              193.0   \n",
       "150  Adelie      Dream            36.0           17.1              187.0   \n",
       "151  Adelie      Dream            41.5           18.5              201.0   \n",
       "\n",
       "     body_mass_g     sex  year  \n",
       "0         3750.0    male  2007  \n",
       "1         3800.0  female  2007  \n",
       "2         3250.0  female  2007  \n",
       "3            NaN     NaN  2007  \n",
       "4         3450.0  female  2007  \n",
       "..           ...     ...   ...  \n",
       "147       3475.0  female  2009  \n",
       "148       3450.0  female  2009  \n",
       "149       3750.0    male  2009  \n",
       "150       3700.0  female  2009  \n",
       "151       4000.0    male  2009  \n",
       "\n",
       "[152 rows x 8 columns]"
      ]
     },
     "execution_count": 10,
     "metadata": {},
     "output_type": "execute_result"
    }
   ],
   "source": [
    "data[data['species'] == 'Adelie']"
   ]
  },
  {
   "cell_type": "markdown",
   "id": "83539391-6653-4367-a81c-52bdd4912d9e",
   "metadata": {},
   "source": [
    "<h2>Assigning variable Name</h2>\n",
    "<h3>By assigning variable name, you can use the code wherever and however you want.</h3>"
   ]
  },
  {
   "cell_type": "code",
   "execution_count": 11,
   "id": "6dedcf24-dc3c-4373-b8cb-67009baa0a1f",
   "metadata": {},
   "outputs": [
    {
     "data": {
      "text/html": [
       "<div>\n",
       "<style scoped>\n",
       "    .dataframe tbody tr th:only-of-type {\n",
       "        vertical-align: middle;\n",
       "    }\n",
       "\n",
       "    .dataframe tbody tr th {\n",
       "        vertical-align: top;\n",
       "    }\n",
       "\n",
       "    .dataframe thead th {\n",
       "        text-align: right;\n",
       "    }\n",
       "</style>\n",
       "<table border=\"1\" class=\"dataframe\">\n",
       "  <thead>\n",
       "    <tr style=\"text-align: right;\">\n",
       "      <th></th>\n",
       "      <th>species</th>\n",
       "      <th>island</th>\n",
       "      <th>bill_length_mm</th>\n",
       "      <th>bill_depth_mm</th>\n",
       "      <th>flipper_length_mm</th>\n",
       "      <th>body_mass_g</th>\n",
       "      <th>sex</th>\n",
       "      <th>year</th>\n",
       "    </tr>\n",
       "  </thead>\n",
       "  <tbody>\n",
       "    <tr>\n",
       "      <th>0</th>\n",
       "      <td>Adelie</td>\n",
       "      <td>Torgersen</td>\n",
       "      <td>39.1</td>\n",
       "      <td>18.7</td>\n",
       "      <td>181.0</td>\n",
       "      <td>3750.0</td>\n",
       "      <td>male</td>\n",
       "      <td>2007</td>\n",
       "    </tr>\n",
       "    <tr>\n",
       "      <th>1</th>\n",
       "      <td>Adelie</td>\n",
       "      <td>Torgersen</td>\n",
       "      <td>39.5</td>\n",
       "      <td>17.4</td>\n",
       "      <td>186.0</td>\n",
       "      <td>3800.0</td>\n",
       "      <td>female</td>\n",
       "      <td>2007</td>\n",
       "    </tr>\n",
       "    <tr>\n",
       "      <th>2</th>\n",
       "      <td>Adelie</td>\n",
       "      <td>Torgersen</td>\n",
       "      <td>40.3</td>\n",
       "      <td>18.0</td>\n",
       "      <td>195.0</td>\n",
       "      <td>3250.0</td>\n",
       "      <td>female</td>\n",
       "      <td>2007</td>\n",
       "    </tr>\n",
       "    <tr>\n",
       "      <th>3</th>\n",
       "      <td>Adelie</td>\n",
       "      <td>Torgersen</td>\n",
       "      <td>NaN</td>\n",
       "      <td>NaN</td>\n",
       "      <td>NaN</td>\n",
       "      <td>NaN</td>\n",
       "      <td>NaN</td>\n",
       "      <td>2007</td>\n",
       "    </tr>\n",
       "    <tr>\n",
       "      <th>4</th>\n",
       "      <td>Adelie</td>\n",
       "      <td>Torgersen</td>\n",
       "      <td>36.7</td>\n",
       "      <td>19.3</td>\n",
       "      <td>193.0</td>\n",
       "      <td>3450.0</td>\n",
       "      <td>female</td>\n",
       "      <td>2007</td>\n",
       "    </tr>\n",
       "    <tr>\n",
       "      <th>...</th>\n",
       "      <td>...</td>\n",
       "      <td>...</td>\n",
       "      <td>...</td>\n",
       "      <td>...</td>\n",
       "      <td>...</td>\n",
       "      <td>...</td>\n",
       "      <td>...</td>\n",
       "      <td>...</td>\n",
       "    </tr>\n",
       "    <tr>\n",
       "      <th>147</th>\n",
       "      <td>Adelie</td>\n",
       "      <td>Dream</td>\n",
       "      <td>36.6</td>\n",
       "      <td>18.4</td>\n",
       "      <td>184.0</td>\n",
       "      <td>3475.0</td>\n",
       "      <td>female</td>\n",
       "      <td>2009</td>\n",
       "    </tr>\n",
       "    <tr>\n",
       "      <th>148</th>\n",
       "      <td>Adelie</td>\n",
       "      <td>Dream</td>\n",
       "      <td>36.0</td>\n",
       "      <td>17.8</td>\n",
       "      <td>195.0</td>\n",
       "      <td>3450.0</td>\n",
       "      <td>female</td>\n",
       "      <td>2009</td>\n",
       "    </tr>\n",
       "    <tr>\n",
       "      <th>149</th>\n",
       "      <td>Adelie</td>\n",
       "      <td>Dream</td>\n",
       "      <td>37.8</td>\n",
       "      <td>18.1</td>\n",
       "      <td>193.0</td>\n",
       "      <td>3750.0</td>\n",
       "      <td>male</td>\n",
       "      <td>2009</td>\n",
       "    </tr>\n",
       "    <tr>\n",
       "      <th>150</th>\n",
       "      <td>Adelie</td>\n",
       "      <td>Dream</td>\n",
       "      <td>36.0</td>\n",
       "      <td>17.1</td>\n",
       "      <td>187.0</td>\n",
       "      <td>3700.0</td>\n",
       "      <td>female</td>\n",
       "      <td>2009</td>\n",
       "    </tr>\n",
       "    <tr>\n",
       "      <th>151</th>\n",
       "      <td>Adelie</td>\n",
       "      <td>Dream</td>\n",
       "      <td>41.5</td>\n",
       "      <td>18.5</td>\n",
       "      <td>201.0</td>\n",
       "      <td>4000.0</td>\n",
       "      <td>male</td>\n",
       "      <td>2009</td>\n",
       "    </tr>\n",
       "  </tbody>\n",
       "</table>\n",
       "<p>152 rows × 8 columns</p>\n",
       "</div>"
      ],
      "text/plain": [
       "    species     island  bill_length_mm  bill_depth_mm  flipper_length_mm  \\\n",
       "0    Adelie  Torgersen            39.1           18.7              181.0   \n",
       "1    Adelie  Torgersen            39.5           17.4              186.0   \n",
       "2    Adelie  Torgersen            40.3           18.0              195.0   \n",
       "3    Adelie  Torgersen             NaN            NaN                NaN   \n",
       "4    Adelie  Torgersen            36.7           19.3              193.0   \n",
       "..      ...        ...             ...            ...                ...   \n",
       "147  Adelie      Dream            36.6           18.4              184.0   \n",
       "148  Adelie      Dream            36.0           17.8              195.0   \n",
       "149  Adelie      Dream            37.8           18.1              193.0   \n",
       "150  Adelie      Dream            36.0           17.1              187.0   \n",
       "151  Adelie      Dream            41.5           18.5              201.0   \n",
       "\n",
       "     body_mass_g     sex  year  \n",
       "0         3750.0    male  2007  \n",
       "1         3800.0  female  2007  \n",
       "2         3250.0  female  2007  \n",
       "3            NaN     NaN  2007  \n",
       "4         3450.0  female  2007  \n",
       "..           ...     ...   ...  \n",
       "147       3475.0  female  2009  \n",
       "148       3450.0  female  2009  \n",
       "149       3750.0    male  2009  \n",
       "150       3700.0  female  2009  \n",
       "151       4000.0    male  2009  \n",
       "\n",
       "[152 rows x 8 columns]"
      ]
     },
     "execution_count": 11,
     "metadata": {},
     "output_type": "execute_result"
    }
   ],
   "source": [
    "adelie_df = data[data['species'] == 'Adelie']\n",
    "adelie_df"
   ]
  },
  {
   "cell_type": "code",
   "execution_count": 12,
   "id": "f8864f8a-6c76-4e58-9984-516330297612",
   "metadata": {},
   "outputs": [
    {
     "data": {
      "text/html": [
       "<div>\n",
       "<style scoped>\n",
       "    .dataframe tbody tr th:only-of-type {\n",
       "        vertical-align: middle;\n",
       "    }\n",
       "\n",
       "    .dataframe tbody tr th {\n",
       "        vertical-align: top;\n",
       "    }\n",
       "\n",
       "    .dataframe thead th {\n",
       "        text-align: right;\n",
       "    }\n",
       "</style>\n",
       "<table border=\"1\" class=\"dataframe\">\n",
       "  <thead>\n",
       "    <tr style=\"text-align: right;\">\n",
       "      <th></th>\n",
       "      <th>species</th>\n",
       "      <th>island</th>\n",
       "      <th>bill_length_mm</th>\n",
       "      <th>bill_depth_mm</th>\n",
       "      <th>flipper_length_mm</th>\n",
       "      <th>body_mass_g</th>\n",
       "      <th>sex</th>\n",
       "      <th>year</th>\n",
       "    </tr>\n",
       "  </thead>\n",
       "  <tbody>\n",
       "    <tr>\n",
       "      <th>152</th>\n",
       "      <td>Gentoo</td>\n",
       "      <td>Biscoe</td>\n",
       "      <td>46.1</td>\n",
       "      <td>13.2</td>\n",
       "      <td>211.0</td>\n",
       "      <td>4500.0</td>\n",
       "      <td>female</td>\n",
       "      <td>2007</td>\n",
       "    </tr>\n",
       "    <tr>\n",
       "      <th>153</th>\n",
       "      <td>Gentoo</td>\n",
       "      <td>Biscoe</td>\n",
       "      <td>50.0</td>\n",
       "      <td>16.3</td>\n",
       "      <td>230.0</td>\n",
       "      <td>5700.0</td>\n",
       "      <td>male</td>\n",
       "      <td>2007</td>\n",
       "    </tr>\n",
       "    <tr>\n",
       "      <th>154</th>\n",
       "      <td>Gentoo</td>\n",
       "      <td>Biscoe</td>\n",
       "      <td>48.7</td>\n",
       "      <td>14.1</td>\n",
       "      <td>210.0</td>\n",
       "      <td>4450.0</td>\n",
       "      <td>female</td>\n",
       "      <td>2007</td>\n",
       "    </tr>\n",
       "    <tr>\n",
       "      <th>155</th>\n",
       "      <td>Gentoo</td>\n",
       "      <td>Biscoe</td>\n",
       "      <td>50.0</td>\n",
       "      <td>15.2</td>\n",
       "      <td>218.0</td>\n",
       "      <td>5700.0</td>\n",
       "      <td>male</td>\n",
       "      <td>2007</td>\n",
       "    </tr>\n",
       "    <tr>\n",
       "      <th>156</th>\n",
       "      <td>Gentoo</td>\n",
       "      <td>Biscoe</td>\n",
       "      <td>47.6</td>\n",
       "      <td>14.5</td>\n",
       "      <td>215.0</td>\n",
       "      <td>5400.0</td>\n",
       "      <td>male</td>\n",
       "      <td>2007</td>\n",
       "    </tr>\n",
       "    <tr>\n",
       "      <th>...</th>\n",
       "      <td>...</td>\n",
       "      <td>...</td>\n",
       "      <td>...</td>\n",
       "      <td>...</td>\n",
       "      <td>...</td>\n",
       "      <td>...</td>\n",
       "      <td>...</td>\n",
       "      <td>...</td>\n",
       "    </tr>\n",
       "    <tr>\n",
       "      <th>271</th>\n",
       "      <td>Gentoo</td>\n",
       "      <td>Biscoe</td>\n",
       "      <td>NaN</td>\n",
       "      <td>NaN</td>\n",
       "      <td>NaN</td>\n",
       "      <td>NaN</td>\n",
       "      <td>NaN</td>\n",
       "      <td>2009</td>\n",
       "    </tr>\n",
       "    <tr>\n",
       "      <th>272</th>\n",
       "      <td>Gentoo</td>\n",
       "      <td>Biscoe</td>\n",
       "      <td>46.8</td>\n",
       "      <td>14.3</td>\n",
       "      <td>215.0</td>\n",
       "      <td>4850.0</td>\n",
       "      <td>female</td>\n",
       "      <td>2009</td>\n",
       "    </tr>\n",
       "    <tr>\n",
       "      <th>273</th>\n",
       "      <td>Gentoo</td>\n",
       "      <td>Biscoe</td>\n",
       "      <td>50.4</td>\n",
       "      <td>15.7</td>\n",
       "      <td>222.0</td>\n",
       "      <td>5750.0</td>\n",
       "      <td>male</td>\n",
       "      <td>2009</td>\n",
       "    </tr>\n",
       "    <tr>\n",
       "      <th>274</th>\n",
       "      <td>Gentoo</td>\n",
       "      <td>Biscoe</td>\n",
       "      <td>45.2</td>\n",
       "      <td>14.8</td>\n",
       "      <td>212.0</td>\n",
       "      <td>5200.0</td>\n",
       "      <td>female</td>\n",
       "      <td>2009</td>\n",
       "    </tr>\n",
       "    <tr>\n",
       "      <th>275</th>\n",
       "      <td>Gentoo</td>\n",
       "      <td>Biscoe</td>\n",
       "      <td>49.9</td>\n",
       "      <td>16.1</td>\n",
       "      <td>213.0</td>\n",
       "      <td>5400.0</td>\n",
       "      <td>male</td>\n",
       "      <td>2009</td>\n",
       "    </tr>\n",
       "  </tbody>\n",
       "</table>\n",
       "<p>124 rows × 8 columns</p>\n",
       "</div>"
      ],
      "text/plain": [
       "    species  island  bill_length_mm  bill_depth_mm  flipper_length_mm  \\\n",
       "152  Gentoo  Biscoe            46.1           13.2              211.0   \n",
       "153  Gentoo  Biscoe            50.0           16.3              230.0   \n",
       "154  Gentoo  Biscoe            48.7           14.1              210.0   \n",
       "155  Gentoo  Biscoe            50.0           15.2              218.0   \n",
       "156  Gentoo  Biscoe            47.6           14.5              215.0   \n",
       "..      ...     ...             ...            ...                ...   \n",
       "271  Gentoo  Biscoe             NaN            NaN                NaN   \n",
       "272  Gentoo  Biscoe            46.8           14.3              215.0   \n",
       "273  Gentoo  Biscoe            50.4           15.7              222.0   \n",
       "274  Gentoo  Biscoe            45.2           14.8              212.0   \n",
       "275  Gentoo  Biscoe            49.9           16.1              213.0   \n",
       "\n",
       "     body_mass_g     sex  year  \n",
       "152       4500.0  female  2007  \n",
       "153       5700.0    male  2007  \n",
       "154       4450.0  female  2007  \n",
       "155       5700.0    male  2007  \n",
       "156       5400.0    male  2007  \n",
       "..           ...     ...   ...  \n",
       "271          NaN     NaN  2009  \n",
       "272       4850.0  female  2009  \n",
       "273       5750.0    male  2009  \n",
       "274       5200.0  female  2009  \n",
       "275       5400.0    male  2009  \n",
       "\n",
       "[124 rows x 8 columns]"
      ]
     },
     "execution_count": 12,
     "metadata": {},
     "output_type": "execute_result"
    }
   ],
   "source": [
    "gentoo_df = data[data['species'] == 'Gentoo']\n",
    "gentoo_df"
   ]
  },
  {
   "cell_type": "code",
   "execution_count": 13,
   "id": "ec2e05da-069e-4bdd-82c1-65a911cacb36",
   "metadata": {},
   "outputs": [
    {
     "data": {
      "text/html": [
       "<div>\n",
       "<style scoped>\n",
       "    .dataframe tbody tr th:only-of-type {\n",
       "        vertical-align: middle;\n",
       "    }\n",
       "\n",
       "    .dataframe tbody tr th {\n",
       "        vertical-align: top;\n",
       "    }\n",
       "\n",
       "    .dataframe thead th {\n",
       "        text-align: right;\n",
       "    }\n",
       "</style>\n",
       "<table border=\"1\" class=\"dataframe\">\n",
       "  <thead>\n",
       "    <tr style=\"text-align: right;\">\n",
       "      <th></th>\n",
       "      <th>species</th>\n",
       "      <th>island</th>\n",
       "      <th>bill_length_mm</th>\n",
       "      <th>bill_depth_mm</th>\n",
       "      <th>flipper_length_mm</th>\n",
       "      <th>body_mass_g</th>\n",
       "      <th>sex</th>\n",
       "      <th>year</th>\n",
       "    </tr>\n",
       "  </thead>\n",
       "  <tbody>\n",
       "    <tr>\n",
       "      <th>276</th>\n",
       "      <td>Chinstrap</td>\n",
       "      <td>Dream</td>\n",
       "      <td>46.5</td>\n",
       "      <td>17.9</td>\n",
       "      <td>192.0</td>\n",
       "      <td>3500.0</td>\n",
       "      <td>female</td>\n",
       "      <td>2007</td>\n",
       "    </tr>\n",
       "    <tr>\n",
       "      <th>277</th>\n",
       "      <td>Chinstrap</td>\n",
       "      <td>Dream</td>\n",
       "      <td>50.0</td>\n",
       "      <td>19.5</td>\n",
       "      <td>196.0</td>\n",
       "      <td>3900.0</td>\n",
       "      <td>male</td>\n",
       "      <td>2007</td>\n",
       "    </tr>\n",
       "    <tr>\n",
       "      <th>278</th>\n",
       "      <td>Chinstrap</td>\n",
       "      <td>Dream</td>\n",
       "      <td>51.3</td>\n",
       "      <td>19.2</td>\n",
       "      <td>193.0</td>\n",
       "      <td>3650.0</td>\n",
       "      <td>male</td>\n",
       "      <td>2007</td>\n",
       "    </tr>\n",
       "    <tr>\n",
       "      <th>279</th>\n",
       "      <td>Chinstrap</td>\n",
       "      <td>Dream</td>\n",
       "      <td>45.4</td>\n",
       "      <td>18.7</td>\n",
       "      <td>188.0</td>\n",
       "      <td>3525.0</td>\n",
       "      <td>female</td>\n",
       "      <td>2007</td>\n",
       "    </tr>\n",
       "    <tr>\n",
       "      <th>280</th>\n",
       "      <td>Chinstrap</td>\n",
       "      <td>Dream</td>\n",
       "      <td>52.7</td>\n",
       "      <td>19.8</td>\n",
       "      <td>197.0</td>\n",
       "      <td>3725.0</td>\n",
       "      <td>male</td>\n",
       "      <td>2007</td>\n",
       "    </tr>\n",
       "    <tr>\n",
       "      <th>...</th>\n",
       "      <td>...</td>\n",
       "      <td>...</td>\n",
       "      <td>...</td>\n",
       "      <td>...</td>\n",
       "      <td>...</td>\n",
       "      <td>...</td>\n",
       "      <td>...</td>\n",
       "      <td>...</td>\n",
       "    </tr>\n",
       "    <tr>\n",
       "      <th>339</th>\n",
       "      <td>Chinstrap</td>\n",
       "      <td>Dream</td>\n",
       "      <td>55.8</td>\n",
       "      <td>19.8</td>\n",
       "      <td>207.0</td>\n",
       "      <td>4000.0</td>\n",
       "      <td>male</td>\n",
       "      <td>2009</td>\n",
       "    </tr>\n",
       "    <tr>\n",
       "      <th>340</th>\n",
       "      <td>Chinstrap</td>\n",
       "      <td>Dream</td>\n",
       "      <td>43.5</td>\n",
       "      <td>18.1</td>\n",
       "      <td>202.0</td>\n",
       "      <td>3400.0</td>\n",
       "      <td>female</td>\n",
       "      <td>2009</td>\n",
       "    </tr>\n",
       "    <tr>\n",
       "      <th>341</th>\n",
       "      <td>Chinstrap</td>\n",
       "      <td>Dream</td>\n",
       "      <td>49.6</td>\n",
       "      <td>18.2</td>\n",
       "      <td>193.0</td>\n",
       "      <td>3775.0</td>\n",
       "      <td>male</td>\n",
       "      <td>2009</td>\n",
       "    </tr>\n",
       "    <tr>\n",
       "      <th>342</th>\n",
       "      <td>Chinstrap</td>\n",
       "      <td>Dream</td>\n",
       "      <td>50.8</td>\n",
       "      <td>19.0</td>\n",
       "      <td>210.0</td>\n",
       "      <td>4100.0</td>\n",
       "      <td>male</td>\n",
       "      <td>2009</td>\n",
       "    </tr>\n",
       "    <tr>\n",
       "      <th>343</th>\n",
       "      <td>Chinstrap</td>\n",
       "      <td>Dream</td>\n",
       "      <td>50.2</td>\n",
       "      <td>18.7</td>\n",
       "      <td>198.0</td>\n",
       "      <td>3775.0</td>\n",
       "      <td>female</td>\n",
       "      <td>2009</td>\n",
       "    </tr>\n",
       "  </tbody>\n",
       "</table>\n",
       "<p>68 rows × 8 columns</p>\n",
       "</div>"
      ],
      "text/plain": [
       "       species island  bill_length_mm  bill_depth_mm  flipper_length_mm  \\\n",
       "276  Chinstrap  Dream            46.5           17.9              192.0   \n",
       "277  Chinstrap  Dream            50.0           19.5              196.0   \n",
       "278  Chinstrap  Dream            51.3           19.2              193.0   \n",
       "279  Chinstrap  Dream            45.4           18.7              188.0   \n",
       "280  Chinstrap  Dream            52.7           19.8              197.0   \n",
       "..         ...    ...             ...            ...                ...   \n",
       "339  Chinstrap  Dream            55.8           19.8              207.0   \n",
       "340  Chinstrap  Dream            43.5           18.1              202.0   \n",
       "341  Chinstrap  Dream            49.6           18.2              193.0   \n",
       "342  Chinstrap  Dream            50.8           19.0              210.0   \n",
       "343  Chinstrap  Dream            50.2           18.7              198.0   \n",
       "\n",
       "     body_mass_g     sex  year  \n",
       "276       3500.0  female  2007  \n",
       "277       3900.0    male  2007  \n",
       "278       3650.0    male  2007  \n",
       "279       3525.0  female  2007  \n",
       "280       3725.0    male  2007  \n",
       "..           ...     ...   ...  \n",
       "339       4000.0    male  2009  \n",
       "340       3400.0  female  2009  \n",
       "341       3775.0    male  2009  \n",
       "342       4100.0    male  2009  \n",
       "343       3775.0  female  2009  \n",
       "\n",
       "[68 rows x 8 columns]"
      ]
     },
     "execution_count": 13,
     "metadata": {},
     "output_type": "execute_result"
    }
   ],
   "source": [
    "chinstrap_df = data[data['species'] == 'Chinstrap']\n",
    "chinstrap_df"
   ]
  },
  {
   "cell_type": "markdown",
   "id": "86d60915-2cc1-4ced-a7c5-4bb2fb18aa8f",
   "metadata": {},
   "source": [
    "<h2>Using two conditionals</h2>\n",
    "<h3>Using the <b>(&)</b> operator, you can use two conditionals to filter an specific data</h3>"
   ]
  },
  {
   "cell_type": "code",
   "execution_count": 14,
   "id": "8c85227d-1b6a-4767-847e-dd098e7be905",
   "metadata": {},
   "outputs": [],
   "source": [
    "chinstrap_above_4g = data[(data['species'] == 'Chinstrap') & (data['body_mass_g'] >= 4000)]"
   ]
  },
  {
   "cell_type": "code",
   "execution_count": 15,
   "id": "df7c7b27-9ce2-4e53-a68e-5e5358194b7b",
   "metadata": {},
   "outputs": [
    {
     "data": {
      "text/html": [
       "<div>\n",
       "<style scoped>\n",
       "    .dataframe tbody tr th:only-of-type {\n",
       "        vertical-align: middle;\n",
       "    }\n",
       "\n",
       "    .dataframe tbody tr th {\n",
       "        vertical-align: top;\n",
       "    }\n",
       "\n",
       "    .dataframe thead th {\n",
       "        text-align: right;\n",
       "    }\n",
       "</style>\n",
       "<table border=\"1\" class=\"dataframe\">\n",
       "  <thead>\n",
       "    <tr style=\"text-align: right;\">\n",
       "      <th></th>\n",
       "      <th>species</th>\n",
       "      <th>island</th>\n",
       "      <th>bill_length_mm</th>\n",
       "      <th>bill_depth_mm</th>\n",
       "      <th>flipper_length_mm</th>\n",
       "      <th>body_mass_g</th>\n",
       "      <th>sex</th>\n",
       "      <th>year</th>\n",
       "    </tr>\n",
       "  </thead>\n",
       "  <tbody>\n",
       "    <tr>\n",
       "      <th>284</th>\n",
       "      <td>Chinstrap</td>\n",
       "      <td>Dream</td>\n",
       "      <td>46.0</td>\n",
       "      <td>18.9</td>\n",
       "      <td>195.0</td>\n",
       "      <td>4150.0</td>\n",
       "      <td>female</td>\n",
       "      <td>2007</td>\n",
       "    </tr>\n",
       "    <tr>\n",
       "      <th>289</th>\n",
       "      <td>Chinstrap</td>\n",
       "      <td>Dream</td>\n",
       "      <td>52.0</td>\n",
       "      <td>18.1</td>\n",
       "      <td>201.0</td>\n",
       "      <td>4050.0</td>\n",
       "      <td>male</td>\n",
       "      <td>2007</td>\n",
       "    </tr>\n",
       "    <tr>\n",
       "      <th>291</th>\n",
       "      <td>Chinstrap</td>\n",
       "      <td>Dream</td>\n",
       "      <td>50.5</td>\n",
       "      <td>19.6</td>\n",
       "      <td>201.0</td>\n",
       "      <td>4050.0</td>\n",
       "      <td>male</td>\n",
       "      <td>2007</td>\n",
       "    </tr>\n",
       "    <tr>\n",
       "      <th>295</th>\n",
       "      <td>Chinstrap</td>\n",
       "      <td>Dream</td>\n",
       "      <td>49.2</td>\n",
       "      <td>18.2</td>\n",
       "      <td>195.0</td>\n",
       "      <td>4400.0</td>\n",
       "      <td>male</td>\n",
       "      <td>2007</td>\n",
       "    </tr>\n",
       "    <tr>\n",
       "      <th>301</th>\n",
       "      <td>Chinstrap</td>\n",
       "      <td>Dream</td>\n",
       "      <td>52.0</td>\n",
       "      <td>19.0</td>\n",
       "      <td>197.0</td>\n",
       "      <td>4150.0</td>\n",
       "      <td>male</td>\n",
       "      <td>2007</td>\n",
       "    </tr>\n",
       "    <tr>\n",
       "      <th>305</th>\n",
       "      <td>Chinstrap</td>\n",
       "      <td>Dream</td>\n",
       "      <td>52.8</td>\n",
       "      <td>20.0</td>\n",
       "      <td>205.0</td>\n",
       "      <td>4550.0</td>\n",
       "      <td>male</td>\n",
       "      <td>2008</td>\n",
       "    </tr>\n",
       "    <tr>\n",
       "      <th>307</th>\n",
       "      <td>Chinstrap</td>\n",
       "      <td>Dream</td>\n",
       "      <td>54.2</td>\n",
       "      <td>20.8</td>\n",
       "      <td>201.0</td>\n",
       "      <td>4300.0</td>\n",
       "      <td>male</td>\n",
       "      <td>2008</td>\n",
       "    </tr>\n",
       "    <tr>\n",
       "      <th>309</th>\n",
       "      <td>Chinstrap</td>\n",
       "      <td>Dream</td>\n",
       "      <td>51.0</td>\n",
       "      <td>18.8</td>\n",
       "      <td>203.0</td>\n",
       "      <td>4100.0</td>\n",
       "      <td>male</td>\n",
       "      <td>2008</td>\n",
       "    </tr>\n",
       "    <tr>\n",
       "      <th>313</th>\n",
       "      <td>Chinstrap</td>\n",
       "      <td>Dream</td>\n",
       "      <td>52.0</td>\n",
       "      <td>20.7</td>\n",
       "      <td>210.0</td>\n",
       "      <td>4800.0</td>\n",
       "      <td>male</td>\n",
       "      <td>2008</td>\n",
       "    </tr>\n",
       "    <tr>\n",
       "      <th>315</th>\n",
       "      <td>Chinstrap</td>\n",
       "      <td>Dream</td>\n",
       "      <td>53.5</td>\n",
       "      <td>19.9</td>\n",
       "      <td>205.0</td>\n",
       "      <td>4500.0</td>\n",
       "      <td>male</td>\n",
       "      <td>2008</td>\n",
       "    </tr>\n",
       "    <tr>\n",
       "      <th>321</th>\n",
       "      <td>Chinstrap</td>\n",
       "      <td>Dream</td>\n",
       "      <td>50.8</td>\n",
       "      <td>18.5</td>\n",
       "      <td>201.0</td>\n",
       "      <td>4450.0</td>\n",
       "      <td>male</td>\n",
       "      <td>2009</td>\n",
       "    </tr>\n",
       "    <tr>\n",
       "      <th>323</th>\n",
       "      <td>Chinstrap</td>\n",
       "      <td>Dream</td>\n",
       "      <td>49.0</td>\n",
       "      <td>19.6</td>\n",
       "      <td>212.0</td>\n",
       "      <td>4300.0</td>\n",
       "      <td>male</td>\n",
       "      <td>2009</td>\n",
       "    </tr>\n",
       "    <tr>\n",
       "      <th>329</th>\n",
       "      <td>Chinstrap</td>\n",
       "      <td>Dream</td>\n",
       "      <td>50.7</td>\n",
       "      <td>19.7</td>\n",
       "      <td>203.0</td>\n",
       "      <td>4050.0</td>\n",
       "      <td>male</td>\n",
       "      <td>2009</td>\n",
       "    </tr>\n",
       "    <tr>\n",
       "      <th>333</th>\n",
       "      <td>Chinstrap</td>\n",
       "      <td>Dream</td>\n",
       "      <td>49.3</td>\n",
       "      <td>19.9</td>\n",
       "      <td>203.0</td>\n",
       "      <td>4050.0</td>\n",
       "      <td>male</td>\n",
       "      <td>2009</td>\n",
       "    </tr>\n",
       "    <tr>\n",
       "      <th>339</th>\n",
       "      <td>Chinstrap</td>\n",
       "      <td>Dream</td>\n",
       "      <td>55.8</td>\n",
       "      <td>19.8</td>\n",
       "      <td>207.0</td>\n",
       "      <td>4000.0</td>\n",
       "      <td>male</td>\n",
       "      <td>2009</td>\n",
       "    </tr>\n",
       "    <tr>\n",
       "      <th>342</th>\n",
       "      <td>Chinstrap</td>\n",
       "      <td>Dream</td>\n",
       "      <td>50.8</td>\n",
       "      <td>19.0</td>\n",
       "      <td>210.0</td>\n",
       "      <td>4100.0</td>\n",
       "      <td>male</td>\n",
       "      <td>2009</td>\n",
       "    </tr>\n",
       "  </tbody>\n",
       "</table>\n",
       "</div>"
      ],
      "text/plain": [
       "       species island  bill_length_mm  bill_depth_mm  flipper_length_mm  \\\n",
       "284  Chinstrap  Dream            46.0           18.9              195.0   \n",
       "289  Chinstrap  Dream            52.0           18.1              201.0   \n",
       "291  Chinstrap  Dream            50.5           19.6              201.0   \n",
       "295  Chinstrap  Dream            49.2           18.2              195.0   \n",
       "301  Chinstrap  Dream            52.0           19.0              197.0   \n",
       "305  Chinstrap  Dream            52.8           20.0              205.0   \n",
       "307  Chinstrap  Dream            54.2           20.8              201.0   \n",
       "309  Chinstrap  Dream            51.0           18.8              203.0   \n",
       "313  Chinstrap  Dream            52.0           20.7              210.0   \n",
       "315  Chinstrap  Dream            53.5           19.9              205.0   \n",
       "321  Chinstrap  Dream            50.8           18.5              201.0   \n",
       "323  Chinstrap  Dream            49.0           19.6              212.0   \n",
       "329  Chinstrap  Dream            50.7           19.7              203.0   \n",
       "333  Chinstrap  Dream            49.3           19.9              203.0   \n",
       "339  Chinstrap  Dream            55.8           19.8              207.0   \n",
       "342  Chinstrap  Dream            50.8           19.0              210.0   \n",
       "\n",
       "     body_mass_g     sex  year  \n",
       "284       4150.0  female  2007  \n",
       "289       4050.0    male  2007  \n",
       "291       4050.0    male  2007  \n",
       "295       4400.0    male  2007  \n",
       "301       4150.0    male  2007  \n",
       "305       4550.0    male  2008  \n",
       "307       4300.0    male  2008  \n",
       "309       4100.0    male  2008  \n",
       "313       4800.0    male  2008  \n",
       "315       4500.0    male  2008  \n",
       "321       4450.0    male  2009  \n",
       "323       4300.0    male  2009  \n",
       "329       4050.0    male  2009  \n",
       "333       4050.0    male  2009  \n",
       "339       4000.0    male  2009  \n",
       "342       4100.0    male  2009  "
      ]
     },
     "execution_count": 15,
     "metadata": {},
     "output_type": "execute_result"
    }
   ],
   "source": [
    "chinstrap_above_4g"
   ]
  },
  {
   "cell_type": "markdown",
   "id": "abc26080-d0b5-4e6c-b16f-e913ce346368",
   "metadata": {},
   "source": [
    "<h3>Using .info() to find the number of items in a dataframe. (You can use this in any dataframe)</h3>"
   ]
  },
  {
   "cell_type": "code",
   "execution_count": 16,
   "id": "768ad0fc-df12-489d-bf40-7c6de9ea4c16",
   "metadata": {},
   "outputs": [
    {
     "name": "stdout",
     "output_type": "stream",
     "text": [
      "<class 'pandas.core.frame.DataFrame'>\n",
      "Index: 16 entries, 284 to 342\n",
      "Data columns (total 8 columns):\n",
      " #   Column             Non-Null Count  Dtype  \n",
      "---  ------             --------------  -----  \n",
      " 0   species            16 non-null     object \n",
      " 1   island             16 non-null     object \n",
      " 2   bill_length_mm     16 non-null     float64\n",
      " 3   bill_depth_mm      16 non-null     float64\n",
      " 4   flipper_length_mm  16 non-null     float64\n",
      " 5   body_mass_g        16 non-null     float64\n",
      " 6   sex                16 non-null     object \n",
      " 7   year               16 non-null     int64  \n",
      "dtypes: float64(4), int64(1), object(3)\n",
      "memory usage: 1.1+ KB\n"
     ]
    }
   ],
   "source": [
    "chinstrap_above_4g.info()"
   ]
  },
  {
   "cell_type": "markdown",
   "id": "74409053-bfcb-4caf-ac54-80832334194a",
   "metadata": {},
   "source": [
    "<h2>Changing Data Types</h2>\n",
    "<h3>using .astype() to assign Data Types like 'category'</h3>"
   ]
  },
  {
   "cell_type": "code",
   "execution_count": 17,
   "id": "04fe9e4f-7556-4ca4-9f45-3146034dabc5",
   "metadata": {},
   "outputs": [],
   "source": [
    "data['species'] = data['species'].astype('category')\n",
    "data['island'] = data['island'].astype('category')\n",
    "data['year'] = data['year'].astype('category')\n",
    "data['sex'] = data['sex'].astype('category')"
   ]
  },
  {
   "cell_type": "code",
   "execution_count": 18,
   "id": "ab696afc-e0a2-423b-ae47-6f55e67263be",
   "metadata": {},
   "outputs": [
    {
     "name": "stdout",
     "output_type": "stream",
     "text": [
      "<class 'pandas.core.frame.DataFrame'>\n",
      "RangeIndex: 344 entries, 0 to 343\n",
      "Data columns (total 8 columns):\n",
      " #   Column             Non-Null Count  Dtype   \n",
      "---  ------             --------------  -----   \n",
      " 0   species            344 non-null    category\n",
      " 1   island             344 non-null    category\n",
      " 2   bill_length_mm     342 non-null    float64 \n",
      " 3   bill_depth_mm      342 non-null    float64 \n",
      " 4   flipper_length_mm  342 non-null    float64 \n",
      " 5   body_mass_g        342 non-null    float64 \n",
      " 6   sex                333 non-null    category\n",
      " 7   year               344 non-null    category\n",
      "dtypes: category(4), float64(4)\n",
      "memory usage: 12.7 KB\n"
     ]
    }
   ],
   "source": [
    "data.info()"
   ]
  },
  {
   "cell_type": "markdown",
   "id": "2a5fd6fa-6680-4c68-9e9c-4334106950d3",
   "metadata": {},
   "source": [
    "<br>\n",
    "<h1 style='text-align: center;'>FILLING UP NULL VALUES</h1>\n",
    "<br>\n",
    "<h4>using .fillna() function, you can fill up null values in a certain column</h4>\n",
    "<br>\n",
    "<h3>Using Statistical Function</h3>\n",
    "<h4>using basic mathematical function like .mean(), .median(), .mode() to figure out what data is to replace the null values</h4>"
   ]
  },
  {
   "cell_type": "code",
   "execution_count": 19,
   "id": "d660617e-6a08-4e01-bfc0-bf381a7ad753",
   "metadata": {},
   "outputs": [
    {
     "data": {
      "text/plain": [
       "species               0\n",
       "island                0\n",
       "bill_length_mm        2\n",
       "bill_depth_mm         2\n",
       "flipper_length_mm     2\n",
       "body_mass_g           2\n",
       "sex                  11\n",
       "year                  0\n",
       "dtype: int64"
      ]
     },
     "execution_count": 19,
     "metadata": {},
     "output_type": "execute_result"
    }
   ],
   "source": [
    "data.isnull().sum()"
   ]
  },
  {
   "cell_type": "code",
   "execution_count": 20,
   "id": "87f1a1f6-ab70-4ff3-9a53-333b5d613ef1",
   "metadata": {},
   "outputs": [
    {
     "data": {
      "text/plain": [
       "np.float64(43.9219298245614)"
      ]
     },
     "execution_count": 20,
     "metadata": {},
     "output_type": "execute_result"
    }
   ],
   "source": [
    "data['bill_length_mm'].mean()"
   ]
  },
  {
   "cell_type": "code",
   "execution_count": 21,
   "id": "c7289e2f-4ceb-46c5-bbfc-493afbc2c620",
   "metadata": {},
   "outputs": [],
   "source": [
    "data['bill_length_mm'] = data['bill_length_mm'].fillna(data['bill_length_mm'].mean())"
   ]
  },
  {
   "cell_type": "code",
   "execution_count": 22,
   "id": "d950315d-278f-41a6-94c6-3c6cd4226300",
   "metadata": {},
   "outputs": [
    {
     "data": {
      "text/plain": [
       "species               0\n",
       "island                0\n",
       "bill_length_mm        0\n",
       "bill_depth_mm         2\n",
       "flipper_length_mm     2\n",
       "body_mass_g           2\n",
       "sex                  11\n",
       "year                  0\n",
       "dtype: int64"
      ]
     },
     "execution_count": 22,
     "metadata": {},
     "output_type": "execute_result"
    }
   ],
   "source": [
    "data.isnull().sum()"
   ]
  },
  {
   "cell_type": "code",
   "execution_count": 23,
   "id": "409ea3b6-2205-4643-9336-3f2fbae1ee6c",
   "metadata": {},
   "outputs": [
    {
     "data": {
      "text/plain": [
       "np.float64(17.151169590643274)"
      ]
     },
     "execution_count": 23,
     "metadata": {},
     "output_type": "execute_result"
    }
   ],
   "source": [
    "data['bill_depth_mm'].mean()"
   ]
  },
  {
   "cell_type": "code",
   "execution_count": 24,
   "id": "f0ebc9ef-5e5d-4651-9026-a2de40a7eafa",
   "metadata": {},
   "outputs": [],
   "source": [
    "data['bill_depth_mm'] = data['bill_depth_mm'].fillna(data['bill_depth_mm'].mean())"
   ]
  },
  {
   "cell_type": "code",
   "execution_count": 25,
   "id": "3a764ce0-f33c-44e6-91c7-8df55ff4035d",
   "metadata": {},
   "outputs": [
    {
     "data": {
      "text/plain": [
       "species               0\n",
       "island                0\n",
       "bill_length_mm        0\n",
       "bill_depth_mm         0\n",
       "flipper_length_mm     2\n",
       "body_mass_g           2\n",
       "sex                  11\n",
       "year                  0\n",
       "dtype: int64"
      ]
     },
     "execution_count": 25,
     "metadata": {},
     "output_type": "execute_result"
    }
   ],
   "source": [
    "data.isnull().sum()"
   ]
  },
  {
   "cell_type": "code",
   "execution_count": 26,
   "id": "da8aef96-8a4b-41e4-ab45-8a5dbd25a8b8",
   "metadata": {},
   "outputs": [
    {
     "data": {
      "text/plain": [
       "np.float64(200.91520467836258)"
      ]
     },
     "execution_count": 26,
     "metadata": {},
     "output_type": "execute_result"
    }
   ],
   "source": [
    "data['flipper_length_mm'].mean()"
   ]
  },
  {
   "cell_type": "code",
   "execution_count": 27,
   "id": "37631458-eef6-450b-8514-eb8a63b85221",
   "metadata": {},
   "outputs": [],
   "source": [
    "data['flipper_length_mm'] = data['flipper_length_mm'].fillna(data['flipper_length_mm'].mean())"
   ]
  },
  {
   "cell_type": "code",
   "execution_count": 28,
   "id": "f1ba5d61-1f4c-40a8-aa66-17781100c357",
   "metadata": {},
   "outputs": [
    {
     "data": {
      "text/plain": [
       "species               0\n",
       "island                0\n",
       "bill_length_mm        0\n",
       "bill_depth_mm         0\n",
       "flipper_length_mm     0\n",
       "body_mass_g           2\n",
       "sex                  11\n",
       "year                  0\n",
       "dtype: int64"
      ]
     },
     "execution_count": 28,
     "metadata": {},
     "output_type": "execute_result"
    }
   ],
   "source": [
    "data.isnull().sum()"
   ]
  },
  {
   "cell_type": "code",
   "execution_count": 29,
   "id": "dd3222f7-e4c6-4f68-92ab-30a2a697b1f8",
   "metadata": {},
   "outputs": [
    {
     "data": {
      "text/plain": [
       "np.float64(4201.754385964912)"
      ]
     },
     "execution_count": 29,
     "metadata": {},
     "output_type": "execute_result"
    }
   ],
   "source": [
    "data['body_mass_g'].mean()"
   ]
  },
  {
   "cell_type": "code",
   "execution_count": 30,
   "id": "ba7dca98-0077-4e4d-ab91-4f8bb0089dc4",
   "metadata": {},
   "outputs": [],
   "source": [
    "data['body_mass_g'] = data['body_mass_g'].fillna(data['body_mass_g'].mean())"
   ]
  },
  {
   "cell_type": "code",
   "execution_count": 31,
   "id": "f63926cb-a20b-4b02-8ca0-64c8e9c53146",
   "metadata": {},
   "outputs": [
    {
     "data": {
      "text/plain": [
       "species               0\n",
       "island                0\n",
       "bill_length_mm        0\n",
       "bill_depth_mm         0\n",
       "flipper_length_mm     0\n",
       "body_mass_g           0\n",
       "sex                  11\n",
       "year                  0\n",
       "dtype: int64"
      ]
     },
     "execution_count": 31,
     "metadata": {},
     "output_type": "execute_result"
    }
   ],
   "source": [
    "data.isnull().sum()"
   ]
  },
  {
   "cell_type": "code",
   "execution_count": 32,
   "id": "fb256c83-c399-4f7d-b5fe-ae40ac401a74",
   "metadata": {},
   "outputs": [
    {
     "data": {
      "text/plain": [
       "0    male\n",
       "Name: sex, dtype: category\n",
       "Categories (2, object): ['female', 'male']"
      ]
     },
     "execution_count": 32,
     "metadata": {},
     "output_type": "execute_result"
    }
   ],
   "source": [
    "data['sex'].mode()"
   ]
  },
  {
   "cell_type": "code",
   "execution_count": 33,
   "id": "173d734e-979d-49ec-84ca-7448e6cbd77f",
   "metadata": {},
   "outputs": [],
   "source": [
    "data['sex'] = data['sex'].fillna(data['sex'].mode()[0])"
   ]
  },
  {
   "cell_type": "code",
   "execution_count": 34,
   "id": "ebcad278-f539-4663-ba87-4001ce378a7f",
   "metadata": {},
   "outputs": [
    {
     "data": {
      "text/plain": [
       "species              0\n",
       "island               0\n",
       "bill_length_mm       0\n",
       "bill_depth_mm        0\n",
       "flipper_length_mm    0\n",
       "body_mass_g          0\n",
       "sex                  0\n",
       "year                 0\n",
       "dtype: int64"
      ]
     },
     "execution_count": 34,
     "metadata": {},
     "output_type": "execute_result"
    }
   ],
   "source": [
    "data.isnull().sum()"
   ]
  },
  {
   "cell_type": "markdown",
   "id": "7b9de306-3684-4201-8a8c-f5f2289177d5",
   "metadata": {},
   "source": [
    "<br>\n",
    "<h3>Adding a custom column in a dataset.</h3>\n",
    "<h4>Using .columns, you can view the index and column names of a certain dataset.</h4>"
   ]
  },
  {
   "cell_type": "code",
   "execution_count": 35,
   "id": "473fa60f-78f3-442d-bc9a-21fd8be9984a",
   "metadata": {},
   "outputs": [
    {
     "data": {
      "text/plain": [
       "Index(['species', 'island', 'bill_length_mm', 'bill_depth_mm',\n",
       "       'flipper_length_mm', 'body_mass_g', 'sex', 'year'],\n",
       "      dtype='object')"
      ]
     },
     "execution_count": 35,
     "metadata": {},
     "output_type": "execute_result"
    }
   ],
   "source": [
    "data.columns"
   ]
  },
  {
   "cell_type": "code",
   "execution_count": 36,
   "id": "25a5c771-87dd-4c28-8051-b1f26f1eb8d7",
   "metadata": {},
   "outputs": [
    {
     "data": {
      "text/html": [
       "<div>\n",
       "<style scoped>\n",
       "    .dataframe tbody tr th:only-of-type {\n",
       "        vertical-align: middle;\n",
       "    }\n",
       "\n",
       "    .dataframe tbody tr th {\n",
       "        vertical-align: top;\n",
       "    }\n",
       "\n",
       "    .dataframe thead th {\n",
       "        text-align: right;\n",
       "    }\n",
       "</style>\n",
       "<table border=\"1\" class=\"dataframe\">\n",
       "  <thead>\n",
       "    <tr style=\"text-align: right;\">\n",
       "      <th></th>\n",
       "      <th>species</th>\n",
       "      <th>island</th>\n",
       "      <th>bill_length_mm</th>\n",
       "      <th>bill_depth_mm</th>\n",
       "      <th>flipper_length_mm</th>\n",
       "      <th>body_mass_g</th>\n",
       "      <th>sex</th>\n",
       "      <th>year</th>\n",
       "      <th>mass_kg</th>\n",
       "    </tr>\n",
       "  </thead>\n",
       "  <tbody>\n",
       "    <tr>\n",
       "      <th>0</th>\n",
       "      <td>Adelie</td>\n",
       "      <td>Torgersen</td>\n",
       "      <td>39.10000</td>\n",
       "      <td>18.70000</td>\n",
       "      <td>181.000000</td>\n",
       "      <td>3750.000000</td>\n",
       "      <td>male</td>\n",
       "      <td>2007</td>\n",
       "      <td>3.8</td>\n",
       "    </tr>\n",
       "    <tr>\n",
       "      <th>1</th>\n",
       "      <td>Adelie</td>\n",
       "      <td>Torgersen</td>\n",
       "      <td>39.50000</td>\n",
       "      <td>17.40000</td>\n",
       "      <td>186.000000</td>\n",
       "      <td>3800.000000</td>\n",
       "      <td>female</td>\n",
       "      <td>2007</td>\n",
       "      <td>3.8</td>\n",
       "    </tr>\n",
       "    <tr>\n",
       "      <th>2</th>\n",
       "      <td>Adelie</td>\n",
       "      <td>Torgersen</td>\n",
       "      <td>40.30000</td>\n",
       "      <td>18.00000</td>\n",
       "      <td>195.000000</td>\n",
       "      <td>3250.000000</td>\n",
       "      <td>female</td>\n",
       "      <td>2007</td>\n",
       "      <td>3.2</td>\n",
       "    </tr>\n",
       "    <tr>\n",
       "      <th>3</th>\n",
       "      <td>Adelie</td>\n",
       "      <td>Torgersen</td>\n",
       "      <td>43.92193</td>\n",
       "      <td>17.15117</td>\n",
       "      <td>200.915205</td>\n",
       "      <td>4201.754386</td>\n",
       "      <td>male</td>\n",
       "      <td>2007</td>\n",
       "      <td>4.2</td>\n",
       "    </tr>\n",
       "    <tr>\n",
       "      <th>4</th>\n",
       "      <td>Adelie</td>\n",
       "      <td>Torgersen</td>\n",
       "      <td>36.70000</td>\n",
       "      <td>19.30000</td>\n",
       "      <td>193.000000</td>\n",
       "      <td>3450.000000</td>\n",
       "      <td>female</td>\n",
       "      <td>2007</td>\n",
       "      <td>3.4</td>\n",
       "    </tr>\n",
       "    <tr>\n",
       "      <th>...</th>\n",
       "      <td>...</td>\n",
       "      <td>...</td>\n",
       "      <td>...</td>\n",
       "      <td>...</td>\n",
       "      <td>...</td>\n",
       "      <td>...</td>\n",
       "      <td>...</td>\n",
       "      <td>...</td>\n",
       "      <td>...</td>\n",
       "    </tr>\n",
       "    <tr>\n",
       "      <th>339</th>\n",
       "      <td>Chinstrap</td>\n",
       "      <td>Dream</td>\n",
       "      <td>55.80000</td>\n",
       "      <td>19.80000</td>\n",
       "      <td>207.000000</td>\n",
       "      <td>4000.000000</td>\n",
       "      <td>male</td>\n",
       "      <td>2009</td>\n",
       "      <td>4.0</td>\n",
       "    </tr>\n",
       "    <tr>\n",
       "      <th>340</th>\n",
       "      <td>Chinstrap</td>\n",
       "      <td>Dream</td>\n",
       "      <td>43.50000</td>\n",
       "      <td>18.10000</td>\n",
       "      <td>202.000000</td>\n",
       "      <td>3400.000000</td>\n",
       "      <td>female</td>\n",
       "      <td>2009</td>\n",
       "      <td>3.4</td>\n",
       "    </tr>\n",
       "    <tr>\n",
       "      <th>341</th>\n",
       "      <td>Chinstrap</td>\n",
       "      <td>Dream</td>\n",
       "      <td>49.60000</td>\n",
       "      <td>18.20000</td>\n",
       "      <td>193.000000</td>\n",
       "      <td>3775.000000</td>\n",
       "      <td>male</td>\n",
       "      <td>2009</td>\n",
       "      <td>3.8</td>\n",
       "    </tr>\n",
       "    <tr>\n",
       "      <th>342</th>\n",
       "      <td>Chinstrap</td>\n",
       "      <td>Dream</td>\n",
       "      <td>50.80000</td>\n",
       "      <td>19.00000</td>\n",
       "      <td>210.000000</td>\n",
       "      <td>4100.000000</td>\n",
       "      <td>male</td>\n",
       "      <td>2009</td>\n",
       "      <td>4.1</td>\n",
       "    </tr>\n",
       "    <tr>\n",
       "      <th>343</th>\n",
       "      <td>Chinstrap</td>\n",
       "      <td>Dream</td>\n",
       "      <td>50.20000</td>\n",
       "      <td>18.70000</td>\n",
       "      <td>198.000000</td>\n",
       "      <td>3775.000000</td>\n",
       "      <td>female</td>\n",
       "      <td>2009</td>\n",
       "      <td>3.8</td>\n",
       "    </tr>\n",
       "  </tbody>\n",
       "</table>\n",
       "<p>344 rows × 9 columns</p>\n",
       "</div>"
      ],
      "text/plain": [
       "       species     island  bill_length_mm  bill_depth_mm  flipper_length_mm  \\\n",
       "0       Adelie  Torgersen        39.10000       18.70000         181.000000   \n",
       "1       Adelie  Torgersen        39.50000       17.40000         186.000000   \n",
       "2       Adelie  Torgersen        40.30000       18.00000         195.000000   \n",
       "3       Adelie  Torgersen        43.92193       17.15117         200.915205   \n",
       "4       Adelie  Torgersen        36.70000       19.30000         193.000000   \n",
       "..         ...        ...             ...            ...                ...   \n",
       "339  Chinstrap      Dream        55.80000       19.80000         207.000000   \n",
       "340  Chinstrap      Dream        43.50000       18.10000         202.000000   \n",
       "341  Chinstrap      Dream        49.60000       18.20000         193.000000   \n",
       "342  Chinstrap      Dream        50.80000       19.00000         210.000000   \n",
       "343  Chinstrap      Dream        50.20000       18.70000         198.000000   \n",
       "\n",
       "     body_mass_g     sex  year  mass_kg  \n",
       "0    3750.000000    male  2007      3.8  \n",
       "1    3800.000000  female  2007      3.8  \n",
       "2    3250.000000  female  2007      3.2  \n",
       "3    4201.754386    male  2007      4.2  \n",
       "4    3450.000000  female  2007      3.4  \n",
       "..           ...     ...   ...      ...  \n",
       "339  4000.000000    male  2009      4.0  \n",
       "340  3400.000000  female  2009      3.4  \n",
       "341  3775.000000    male  2009      3.8  \n",
       "342  4100.000000    male  2009      4.1  \n",
       "343  3775.000000  female  2009      3.8  \n",
       "\n",
       "[344 rows x 9 columns]"
      ]
     },
     "execution_count": 36,
     "metadata": {},
     "output_type": "execute_result"
    }
   ],
   "source": [
    "data['mass_kg'] = np.round(data['body_mass_g'] / 1000, 1)\n",
    "data"
   ]
  },
  {
   "cell_type": "markdown",
   "id": "cd61decb-384e-427f-b0f1-13b0a17ca95b",
   "metadata": {},
   "source": [
    "<br>\n",
    "<h1 style='text-align: center;'>DATA AGGREGATION</h1>\n",
    "<br>\n",
    "<h4>.groupby() use for Splitting, Apllying, and Compiling data from a dataset</h4>"
   ]
  },
  {
   "cell_type": "code",
   "execution_count": 37,
   "id": "040926c6-26d7-4ef5-811e-04e30bcf8ef7",
   "metadata": {},
   "outputs": [
    {
     "data": {
      "text/html": [
       "<div>\n",
       "<style scoped>\n",
       "    .dataframe tbody tr th:only-of-type {\n",
       "        vertical-align: middle;\n",
       "    }\n",
       "\n",
       "    .dataframe tbody tr th {\n",
       "        vertical-align: top;\n",
       "    }\n",
       "\n",
       "    .dataframe thead th {\n",
       "        text-align: right;\n",
       "    }\n",
       "</style>\n",
       "<table border=\"1\" class=\"dataframe\">\n",
       "  <thead>\n",
       "    <tr style=\"text-align: right;\">\n",
       "      <th></th>\n",
       "      <th></th>\n",
       "      <th>bill_length_mm</th>\n",
       "      <th>bill_depth_mm</th>\n",
       "      <th>flipper_length_mm</th>\n",
       "      <th>body_mass_g</th>\n",
       "      <th>sex</th>\n",
       "      <th>year</th>\n",
       "      <th>mass_kg</th>\n",
       "    </tr>\n",
       "    <tr>\n",
       "      <th>species</th>\n",
       "      <th>island</th>\n",
       "      <th></th>\n",
       "      <th></th>\n",
       "      <th></th>\n",
       "      <th></th>\n",
       "      <th></th>\n",
       "      <th></th>\n",
       "      <th></th>\n",
       "    </tr>\n",
       "  </thead>\n",
       "  <tbody>\n",
       "    <tr>\n",
       "      <th rowspan=\"3\" valign=\"top\">Adelie</th>\n",
       "      <th>Biscoe</th>\n",
       "      <td>44</td>\n",
       "      <td>44</td>\n",
       "      <td>44</td>\n",
       "      <td>44</td>\n",
       "      <td>44</td>\n",
       "      <td>44</td>\n",
       "      <td>44</td>\n",
       "    </tr>\n",
       "    <tr>\n",
       "      <th>Dream</th>\n",
       "      <td>56</td>\n",
       "      <td>56</td>\n",
       "      <td>56</td>\n",
       "      <td>56</td>\n",
       "      <td>56</td>\n",
       "      <td>56</td>\n",
       "      <td>56</td>\n",
       "    </tr>\n",
       "    <tr>\n",
       "      <th>Torgersen</th>\n",
       "      <td>52</td>\n",
       "      <td>52</td>\n",
       "      <td>52</td>\n",
       "      <td>52</td>\n",
       "      <td>52</td>\n",
       "      <td>52</td>\n",
       "      <td>52</td>\n",
       "    </tr>\n",
       "    <tr>\n",
       "      <th rowspan=\"3\" valign=\"top\">Chinstrap</th>\n",
       "      <th>Biscoe</th>\n",
       "      <td>0</td>\n",
       "      <td>0</td>\n",
       "      <td>0</td>\n",
       "      <td>0</td>\n",
       "      <td>0</td>\n",
       "      <td>0</td>\n",
       "      <td>0</td>\n",
       "    </tr>\n",
       "    <tr>\n",
       "      <th>Dream</th>\n",
       "      <td>68</td>\n",
       "      <td>68</td>\n",
       "      <td>68</td>\n",
       "      <td>68</td>\n",
       "      <td>68</td>\n",
       "      <td>68</td>\n",
       "      <td>68</td>\n",
       "    </tr>\n",
       "    <tr>\n",
       "      <th>Torgersen</th>\n",
       "      <td>0</td>\n",
       "      <td>0</td>\n",
       "      <td>0</td>\n",
       "      <td>0</td>\n",
       "      <td>0</td>\n",
       "      <td>0</td>\n",
       "      <td>0</td>\n",
       "    </tr>\n",
       "    <tr>\n",
       "      <th rowspan=\"3\" valign=\"top\">Gentoo</th>\n",
       "      <th>Biscoe</th>\n",
       "      <td>124</td>\n",
       "      <td>124</td>\n",
       "      <td>124</td>\n",
       "      <td>124</td>\n",
       "      <td>124</td>\n",
       "      <td>124</td>\n",
       "      <td>124</td>\n",
       "    </tr>\n",
       "    <tr>\n",
       "      <th>Dream</th>\n",
       "      <td>0</td>\n",
       "      <td>0</td>\n",
       "      <td>0</td>\n",
       "      <td>0</td>\n",
       "      <td>0</td>\n",
       "      <td>0</td>\n",
       "      <td>0</td>\n",
       "    </tr>\n",
       "    <tr>\n",
       "      <th>Torgersen</th>\n",
       "      <td>0</td>\n",
       "      <td>0</td>\n",
       "      <td>0</td>\n",
       "      <td>0</td>\n",
       "      <td>0</td>\n",
       "      <td>0</td>\n",
       "      <td>0</td>\n",
       "    </tr>\n",
       "  </tbody>\n",
       "</table>\n",
       "</div>"
      ],
      "text/plain": [
       "                     bill_length_mm  bill_depth_mm  flipper_length_mm  \\\n",
       "species   island                                                        \n",
       "Adelie    Biscoe                 44             44                 44   \n",
       "          Dream                  56             56                 56   \n",
       "          Torgersen              52             52                 52   \n",
       "Chinstrap Biscoe                  0              0                  0   \n",
       "          Dream                  68             68                 68   \n",
       "          Torgersen               0              0                  0   \n",
       "Gentoo    Biscoe                124            124                124   \n",
       "          Dream                   0              0                  0   \n",
       "          Torgersen               0              0                  0   \n",
       "\n",
       "                     body_mass_g  sex  year  mass_kg  \n",
       "species   island                                      \n",
       "Adelie    Biscoe              44   44    44       44  \n",
       "          Dream               56   56    56       56  \n",
       "          Torgersen           52   52    52       52  \n",
       "Chinstrap Biscoe               0    0     0        0  \n",
       "          Dream               68   68    68       68  \n",
       "          Torgersen            0    0     0        0  \n",
       "Gentoo    Biscoe             124  124   124      124  \n",
       "          Dream                0    0     0        0  \n",
       "          Torgersen            0    0     0        0  "
      ]
     },
     "execution_count": 37,
     "metadata": {},
     "output_type": "execute_result"
    }
   ],
   "source": [
    "species_per_island = data.groupby(['species', 'island'])\n",
    "species_per_island.count()"
   ]
  },
  {
   "cell_type": "code",
   "execution_count": 38,
   "id": "eddeaf09-ead2-46b6-abac-c14fc5b4e3a4",
   "metadata": {},
   "outputs": [
    {
     "data": {
      "text/plain": [
       "species    island     sex   \n",
       "Adelie     Biscoe     female    22\n",
       "                      male      22\n",
       "           Dream      female    27\n",
       "                      male      29\n",
       "           Torgersen  female    24\n",
       "                      male      28\n",
       "Chinstrap  Biscoe     female     0\n",
       "                      male       0\n",
       "           Dream      female    34\n",
       "                      male      34\n",
       "           Torgersen  female     0\n",
       "                      male       0\n",
       "Gentoo     Biscoe     female    58\n",
       "                      male      66\n",
       "           Dream      female     0\n",
       "                      male       0\n",
       "           Torgersen  female     0\n",
       "                      male       0\n",
       "dtype: int64"
      ]
     },
     "execution_count": 38,
     "metadata": {},
     "output_type": "execute_result"
    }
   ],
   "source": [
    "species_per_island = data.groupby(['species', 'island', 'sex'])\n",
    "species_per_island.size()"
   ]
  },
  {
   "cell_type": "markdown",
   "id": "fc1bbd2d-2b1d-4082-99ea-2a0f3dc637ec",
   "metadata": {},
   "source": [
    "<br>\n",
    "<h2>Correlation v Causation</h2>\n",
    "<h3>Correlation Analysis</h3>\n",
    "<hr>"
   ]
  },
  {
   "cell_type": "markdown",
   "id": "e8edfa53-11a1-48fc-bf20-55e1b501f1b8",
   "metadata": {},
   "source": [
    "<h4><b>PEARSON R</b> can test correlation between two variables, given that both variables are <b>NUMERICAL DATA</b></h4>\n",
    "<p>.corr() function is used to find the p-value (probability).</p>\n",
    "<ul>\n",
    "    <li> <b>>= 0.5</b> = with correlation</li>\n",
    "    <li> <b>< 0.5</b> = no correlation</li>\n",
    "</ul>"
   ]
  },
  {
   "cell_type": "code",
   "execution_count": 39,
   "id": "24232f09-0ba4-422f-a1f6-7947fcd59af5",
   "metadata": {},
   "outputs": [
    {
     "data": {
      "text/plain": [
       "np.float64(0.8712017673060114)"
      ]
     },
     "execution_count": 39,
     "metadata": {},
     "output_type": "execute_result"
    }
   ],
   "source": [
    "flipper_mass = data['body_mass_g'].corr(data['flipper_length_mm'])\n",
    "flipper_mass"
   ]
  },
  {
   "cell_type": "markdown",
   "id": "3837fdc1-1374-4599-836b-8b1a3008153e",
   "metadata": {},
   "source": [
    "<br>\n",
    "<p>The probabilty shows that the data is greater than 0.5, with the value of 0.87. <br>Meaning that there is a correlation between the two variable.</p>\n",
    "<hr>"
   ]
  },
  {
   "cell_type": "markdown",
   "id": "6a548bb8-b8b9-425c-914c-80a3b52666a6",
   "metadata": {},
   "source": [
    "<h4><b>ONE WAY ANOVA</b> can test correlation between two variables with different data type <b>NUMERICAL DATA -- CATEGORICAL DATA</b></h4>\n",
    "<p>.f_oneway() is used to find the p_value(probability). this function throws two data, which is <b>stats</b>(not important) and <b>p_value</b>(important)</p>\n",
    "<ul>\n",
    "    <li> <b>>= 0.5</b> = with correlation</li>\n",
    "    <li> <b>< 0.5</b> = no correlation</li>\n",
    "</ul>"
   ]
  },
  {
   "cell_type": "code",
   "execution_count": 40,
   "id": "1677de23-87ac-4f5a-a4ac-4fa63154f817",
   "metadata": {},
   "outputs": [],
   "source": [
    "#importing f_oneway from scipy.stats (scince python . stats)\n",
    "from scipy.stats import f_oneway"
   ]
  },
  {
   "cell_type": "code",
   "execution_count": 41,
   "id": "4e972184-54c9-4341-b11b-530cb4a816a6",
   "metadata": {},
   "outputs": [
    {
     "data": {
      "text/plain": [
       "1      3800.0\n",
       "2      3250.0\n",
       "4      3450.0\n",
       "6      3625.0\n",
       "12     3200.0\n",
       "        ...  \n",
       "335    3525.0\n",
       "337    3650.0\n",
       "338    3650.0\n",
       "340    3400.0\n",
       "343    3775.0\n",
       "Name: body_mass_g, Length: 165, dtype: float64"
      ]
     },
     "execution_count": 41,
     "metadata": {},
     "output_type": "execute_result"
    }
   ],
   "source": [
    "data[data['sex'] == 'male']['body_mass_g']\n",
    "data[data['sex'] == 'female']['body_mass_g']"
   ]
  },
  {
   "cell_type": "code",
   "execution_count": 104,
   "id": "f01fd69f-af55-4aa8-a533-89b1b1d8e126",
   "metadata": {},
   "outputs": [
    {
     "data": {
      "text/plain": [
       "np.float64(3.0226600487050246e-15)"
      ]
     },
     "execution_count": 104,
     "metadata": {},
     "output_type": "execute_result"
    }
   ],
   "source": [
    "stats, p_value = f_oneway(data[data['sex'] == 'male']['body_mass_g'] , data[data['sex'] == 'female']['body_mass_g'])\n",
    "\n",
    "p_value"
   ]
  },
  {
   "cell_type": "markdown",
   "id": "82c067c1-7615-4b2a-bdbc-9e3861e94ce2",
   "metadata": {},
   "source": [
    "<br>\n",
    "<p>The probabilty shows that the data is greater than 0.5, with the value of 3.02. <br>Meaning that there is a correlation between the two variable.</p>\n",
    "<hr>"
   ]
  },
  {
   "cell_type": "markdown",
   "id": "a29793c1-d576-4e88-ba3f-f8eed1140b9e",
   "metadata": {},
   "source": [
    "<br>\n",
    "<h1 style='text-align: center;'>Exploratory Analysis 1</h1>\n",
    "<h2>PART 1:</h2>\n",
    "<br>"
   ]
  },
  {
   "cell_type": "markdown",
   "id": "7eff7a13-bd78-43ca-b46b-4b63dae1a4f4",
   "metadata": {},
   "source": [
    "<br>\n",
    "<br>\n",
    "<h2>QUESTION 1: WHAT SPECIES OF PALMER PENGUIN HAS THE LONGEST FLIPPER?</h2>\n",
    "<hr>"
   ]
  },
  {
   "cell_type": "code",
   "execution_count": 43,
   "id": "c0b30dec-ce17-4ebd-ab85-3d8319c8febb",
   "metadata": {},
   "outputs": [
    {
     "data": {
      "text/plain": [
       "np.float64(231.0)"
      ]
     },
     "execution_count": 43,
     "metadata": {},
     "output_type": "execute_result"
    }
   ],
   "source": [
    "most_flipper_length = data['flipper_length_mm'].max()\n",
    "most_flipper_length"
   ]
  },
  {
   "cell_type": "code",
   "execution_count": 44,
   "id": "732b0bde-310d-4aa6-affd-1bcca8c4370a",
   "metadata": {},
   "outputs": [
    {
     "data": {
      "text/html": [
       "<div>\n",
       "<style scoped>\n",
       "    .dataframe tbody tr th:only-of-type {\n",
       "        vertical-align: middle;\n",
       "    }\n",
       "\n",
       "    .dataframe tbody tr th {\n",
       "        vertical-align: top;\n",
       "    }\n",
       "\n",
       "    .dataframe thead th {\n",
       "        text-align: right;\n",
       "    }\n",
       "</style>\n",
       "<table border=\"1\" class=\"dataframe\">\n",
       "  <thead>\n",
       "    <tr style=\"text-align: right;\">\n",
       "      <th></th>\n",
       "      <th>species</th>\n",
       "      <th>island</th>\n",
       "      <th>bill_length_mm</th>\n",
       "      <th>bill_depth_mm</th>\n",
       "      <th>flipper_length_mm</th>\n",
       "      <th>body_mass_g</th>\n",
       "      <th>sex</th>\n",
       "      <th>year</th>\n",
       "      <th>mass_kg</th>\n",
       "    </tr>\n",
       "  </thead>\n",
       "  <tbody>\n",
       "    <tr>\n",
       "      <th>215</th>\n",
       "      <td>Gentoo</td>\n",
       "      <td>Biscoe</td>\n",
       "      <td>54.3</td>\n",
       "      <td>15.7</td>\n",
       "      <td>231.0</td>\n",
       "      <td>5650.0</td>\n",
       "      <td>male</td>\n",
       "      <td>2008</td>\n",
       "      <td>5.6</td>\n",
       "    </tr>\n",
       "  </tbody>\n",
       "</table>\n",
       "</div>"
      ],
      "text/plain": [
       "    species  island  bill_length_mm  bill_depth_mm  flipper_length_mm  \\\n",
       "215  Gentoo  Biscoe            54.3           15.7              231.0   \n",
       "\n",
       "     body_mass_g   sex  year  mass_kg  \n",
       "215       5650.0  male  2008      5.6  "
      ]
     },
     "execution_count": 44,
     "metadata": {},
     "output_type": "execute_result"
    }
   ],
   "source": [
    "data[data['flipper_length_mm'] == most_flipper_length]"
   ]
  },
  {
   "cell_type": "markdown",
   "id": "da13249e-fcfb-47b1-8db7-3c5f24539a1f",
   "metadata": {},
   "source": [
    "<br>\n",
    "<h4>The species of Palmer Penguin that has the longet flipper are <strong>GENTOO</strong></h4>\n",
    "<p><i>INSIGHT:</i> Shown above is a data of a Palmer Penguin that has the most flipper length in milimeter.</p>\n",
    "<hr>\n",
    "<br>"
   ]
  },
  {
   "cell_type": "markdown",
   "id": "f4ee8295-7285-4637-9a1f-05caad52f182",
   "metadata": {},
   "source": [
    "<br>\n",
    "<br>\n",
    "<h2>QUESTION 2: WHAT YEAR DOES EACH SPECIES OF PALMER PENGUINS HAS THE HIGHEST BIRTH RATE?</h2>\n",
    "<hr>"
   ]
  },
  {
   "cell_type": "code",
   "execution_count": 45,
   "id": "3eb2c8d3-e2fc-4abb-a54b-82b2a106ae1f",
   "metadata": {},
   "outputs": [
    {
     "data": {
      "text/plain": [
       "year\n",
       "2009    52\n",
       "2007    50\n",
       "2008    50\n",
       "Name: count, dtype: int64"
      ]
     },
     "execution_count": 45,
     "metadata": {},
     "output_type": "execute_result"
    }
   ],
   "source": [
    "# Using the assigned variable name and .value_counts() function.\n",
    "adelie_df['year'].value_counts()"
   ]
  },
  {
   "cell_type": "code",
   "execution_count": 46,
   "id": "15580546-8cfc-4199-9b61-1951ba4193e5",
   "metadata": {},
   "outputs": [
    {
     "data": {
      "text/plain": [
       "year\n",
       "2008    46\n",
       "2009    44\n",
       "2007    34\n",
       "Name: count, dtype: int64"
      ]
     },
     "execution_count": 46,
     "metadata": {},
     "output_type": "execute_result"
    }
   ],
   "source": [
    "# Using the assigned variable name and .value_counts() function.\n",
    "gentoo_df['year'].value_counts()"
   ]
  },
  {
   "cell_type": "code",
   "execution_count": 47,
   "id": "a8d33c08-935e-43b9-8605-6af93e8b3fdd",
   "metadata": {},
   "outputs": [
    {
     "data": {
      "text/plain": [
       "year\n",
       "2007    26\n",
       "2009    24\n",
       "2008    18\n",
       "Name: count, dtype: int64"
      ]
     },
     "execution_count": 47,
     "metadata": {},
     "output_type": "execute_result"
    }
   ],
   "source": [
    "# Using the assigned variable name and .value_counts() function.\n",
    "chinstrap_df['year'].value_counts()"
   ]
  },
  {
   "cell_type": "markdown",
   "id": "3335883e-a8d5-4bd0-b3ac-5573a0a9c6f7",
   "metadata": {},
   "source": [
    "<br>\n",
    "<h4>The year that has the highest birth rate for a Adelie Palmer Penguins is : <strong>2009</strong></h4>\n",
    "<h4>While, the year that has the highest birth rate for a Gentoo Palmer Penguins is : <strong>2008</strong></h4>\n",
    "<h4>Lastly, the year that has the highest birth rate of a Chinstrap Palmer Penguins is : <strong>2007</strong></h4>\n",
    "<p><i>INSIGHT:</i> Shown above is a data from the year with the highest to lowest birth count or each Palmer Penguin Species.</p>\n",
    "<hr>\n",
    "<br>"
   ]
  },
  {
   "cell_type": "markdown",
   "id": "303ebb71-effd-4b7e-a11c-253557ba5ad2",
   "metadata": {},
   "source": [
    "<br>\n",
    "<br>\n",
    "<h2>QUESTION 3: WHAT SEX OF A PALMER PENGUIN HAS THE HIGHEST BILL LENGTH?</h2>\n",
    "<hr>"
   ]
  },
  {
   "cell_type": "code",
   "execution_count": 48,
   "id": "e60c26cf-4eaf-4eee-84bf-ff70bdbb0db2",
   "metadata": {},
   "outputs": [
    {
     "data": {
      "text/plain": [
       "np.float64(59.6)"
      ]
     },
     "execution_count": 48,
     "metadata": {},
     "output_type": "execute_result"
    }
   ],
   "source": [
    "highest_bill_length = data['bill_length_mm'].max()\n",
    "highest_bill_length"
   ]
  },
  {
   "cell_type": "code",
   "execution_count": 49,
   "id": "d11486e4-d5c9-4b68-9bf5-c161283909b3",
   "metadata": {},
   "outputs": [
    {
     "data": {
      "text/html": [
       "<div>\n",
       "<style scoped>\n",
       "    .dataframe tbody tr th:only-of-type {\n",
       "        vertical-align: middle;\n",
       "    }\n",
       "\n",
       "    .dataframe tbody tr th {\n",
       "        vertical-align: top;\n",
       "    }\n",
       "\n",
       "    .dataframe thead th {\n",
       "        text-align: right;\n",
       "    }\n",
       "</style>\n",
       "<table border=\"1\" class=\"dataframe\">\n",
       "  <thead>\n",
       "    <tr style=\"text-align: right;\">\n",
       "      <th></th>\n",
       "      <th>species</th>\n",
       "      <th>island</th>\n",
       "      <th>bill_length_mm</th>\n",
       "      <th>bill_depth_mm</th>\n",
       "      <th>flipper_length_mm</th>\n",
       "      <th>body_mass_g</th>\n",
       "      <th>sex</th>\n",
       "      <th>year</th>\n",
       "      <th>mass_kg</th>\n",
       "    </tr>\n",
       "  </thead>\n",
       "  <tbody>\n",
       "    <tr>\n",
       "      <th>185</th>\n",
       "      <td>Gentoo</td>\n",
       "      <td>Biscoe</td>\n",
       "      <td>59.6</td>\n",
       "      <td>17.0</td>\n",
       "      <td>230.0</td>\n",
       "      <td>6050.0</td>\n",
       "      <td>male</td>\n",
       "      <td>2007</td>\n",
       "      <td>6.0</td>\n",
       "    </tr>\n",
       "  </tbody>\n",
       "</table>\n",
       "</div>"
      ],
      "text/plain": [
       "    species  island  bill_length_mm  bill_depth_mm  flipper_length_mm  \\\n",
       "185  Gentoo  Biscoe            59.6           17.0              230.0   \n",
       "\n",
       "     body_mass_g   sex  year  mass_kg  \n",
       "185       6050.0  male  2007      6.0  "
      ]
     },
     "execution_count": 49,
     "metadata": {},
     "output_type": "execute_result"
    }
   ],
   "source": [
    "data[data['bill_length_mm'] == highest_bill_length]"
   ]
  },
  {
   "cell_type": "markdown",
   "id": "7034e360-b547-48f4-ae81-a47a810b2d95",
   "metadata": {},
   "source": [
    "<br>\n",
    "<h4>The sex of a Palmer Penguin that has the highest bill length is a <strong>male</strong></h4>\n",
    "<p><i>INSIGHT:</i> From the Gentoo species, this male palmer penguin has the highest bill length recorded.</p>\n",
    "<hr>\n",
    "<br>"
   ]
  },
  {
   "cell_type": "markdown",
   "id": "f12c8255-a494-44ae-98a5-ef986d26babc",
   "metadata": {},
   "source": [
    "<br>\n",
    "<br>\n",
    "<h2>QUESTION 4: WHAT ISLAND HAS THE MOST POPULATION OF PALMER PENGUINS?</h2>\n",
    "<hr>"
   ]
  },
  {
   "cell_type": "code",
   "execution_count": 50,
   "id": "ed61551e-baed-4dba-bba1-d619e627602f",
   "metadata": {},
   "outputs": [
    {
     "data": {
      "text/plain": [
       "['Torgersen', 'Torgersen', 'Torgersen', 'Torgersen', 'Torgersen', ..., 'Dream', 'Dream', 'Dream', 'Dream', 'Dream']\n",
       "Length: 344\n",
       "Categories (3, object): ['Biscoe', 'Dream', 'Torgersen']"
      ]
     },
     "execution_count": 50,
     "metadata": {},
     "output_type": "execute_result"
    }
   ],
   "source": [
    "data['island'].values"
   ]
  },
  {
   "cell_type": "code",
   "execution_count": 51,
   "id": "d6643929-8e64-4c5c-8526-6d7e4752380b",
   "metadata": {},
   "outputs": [
    {
     "name": "stdout",
     "output_type": "stream",
     "text": [
      "<class 'pandas.core.frame.DataFrame'>\n",
      "Index: 168 entries, 20 to 275\n",
      "Data columns (total 9 columns):\n",
      " #   Column             Non-Null Count  Dtype   \n",
      "---  ------             --------------  -----   \n",
      " 0   species            168 non-null    category\n",
      " 1   island             168 non-null    category\n",
      " 2   bill_length_mm     168 non-null    float64 \n",
      " 3   bill_depth_mm      168 non-null    float64 \n",
      " 4   flipper_length_mm  168 non-null    float64 \n",
      " 5   body_mass_g        168 non-null    float64 \n",
      " 6   sex                168 non-null    category\n",
      " 7   year               168 non-null    category\n",
      " 8   mass_kg            168 non-null    float64 \n",
      "dtypes: category(4), float64(5)\n",
      "memory usage: 9.0 KB\n"
     ]
    }
   ],
   "source": [
    "data[data['island'] == 'Biscoe'].info()"
   ]
  },
  {
   "cell_type": "code",
   "execution_count": 52,
   "id": "5f44b775-ab79-457e-9538-541cabf674c1",
   "metadata": {},
   "outputs": [
    {
     "name": "stdout",
     "output_type": "stream",
     "text": [
      "<class 'pandas.core.frame.DataFrame'>\n",
      "Index: 124 entries, 30 to 343\n",
      "Data columns (total 9 columns):\n",
      " #   Column             Non-Null Count  Dtype   \n",
      "---  ------             --------------  -----   \n",
      " 0   species            124 non-null    category\n",
      " 1   island             124 non-null    category\n",
      " 2   bill_length_mm     124 non-null    float64 \n",
      " 3   bill_depth_mm      124 non-null    float64 \n",
      " 4   flipper_length_mm  124 non-null    float64 \n",
      " 5   body_mass_g        124 non-null    float64 \n",
      " 6   sex                124 non-null    category\n",
      " 7   year               124 non-null    category\n",
      " 8   mass_kg            124 non-null    float64 \n",
      "dtypes: category(4), float64(5)\n",
      "memory usage: 6.8 KB\n"
     ]
    }
   ],
   "source": [
    "data[data['island'] == 'Dream'].info()"
   ]
  },
  {
   "cell_type": "code",
   "execution_count": 53,
   "id": "1c58da98-c196-4dea-bb13-8c8bf3d90770",
   "metadata": {},
   "outputs": [
    {
     "name": "stdout",
     "output_type": "stream",
     "text": [
      "<class 'pandas.core.frame.DataFrame'>\n",
      "Index: 52 entries, 0 to 131\n",
      "Data columns (total 9 columns):\n",
      " #   Column             Non-Null Count  Dtype   \n",
      "---  ------             --------------  -----   \n",
      " 0   species            52 non-null     category\n",
      " 1   island             52 non-null     category\n",
      " 2   bill_length_mm     52 non-null     float64 \n",
      " 3   bill_depth_mm      52 non-null     float64 \n",
      " 4   flipper_length_mm  52 non-null     float64 \n",
      " 5   body_mass_g        52 non-null     float64 \n",
      " 6   sex                52 non-null     category\n",
      " 7   year               52 non-null     category\n",
      " 8   mass_kg            52 non-null     float64 \n",
      "dtypes: category(4), float64(5)\n",
      "memory usage: 3.1 KB\n"
     ]
    }
   ],
   "source": [
    "data[data['island'] == 'Torgersen'].info()"
   ]
  },
  {
   "cell_type": "markdown",
   "id": "71f69548-4189-4b2d-b748-898e69eb1f25",
   "metadata": {},
   "source": [
    "<h4>Shown above is a data of each Island in which it gives the entries of penguins in each island.</h4>\n",
    "<h1>Or</h1>\n",
    "<h4>Shown below is a data in which it provide the island that has the most penguins.</h4>"
   ]
  },
  {
   "cell_type": "code",
   "execution_count": 54,
   "id": "c42b79ed-2f40-4790-9e52-27104e8016a7",
   "metadata": {},
   "outputs": [
    {
     "data": {
      "text/plain": [
       "count        344\n",
       "unique         3\n",
       "top       Biscoe\n",
       "freq         168\n",
       "Name: island, dtype: object"
      ]
     },
     "execution_count": 54,
     "metadata": {},
     "output_type": "execute_result"
    }
   ],
   "source": [
    "data['island'].describe()"
   ]
  },
  {
   "cell_type": "markdown",
   "id": "c8ac2322-a5d1-427a-8f25-132b419b26ba",
   "metadata": {},
   "source": [
    "<br>\n",
    "<h4>The island that has the most population of Palmer Penguins is <strong>Biscoe</strong></h4>\n",
    "<p><i>INSIGHT:</i> Shown above, Biscoe has the highest entry records that tops the other islands, being 168 population.</p>\n",
    "<hr>\n",
    "<br>"
   ]
  },
  {
   "cell_type": "markdown",
   "id": "dad96661-1e5a-422d-901e-928c7935e5a0",
   "metadata": {},
   "source": [
    "<br>\n",
    "<br>\n",
    "<h2>QUESTION 5: IN WHICH ISLAND DOES THE PENGUIN WITH THE HIGHEST AVERAGE BILL DEPTH FOR EACH SPECIES RESIDE?</h2>\n",
    "<hr>"
   ]
  },
  {
   "cell_type": "code",
   "execution_count": 55,
   "id": "e3b2229f-b7f7-4e62-86be-ad293c91e2cb",
   "metadata": {},
   "outputs": [
    {
     "data": {
      "text/plain": [
       "np.float64(18.346357615894043)"
      ]
     },
     "execution_count": 55,
     "metadata": {},
     "output_type": "execute_result"
    }
   ],
   "source": [
    "adelie_bill_length = adelie_df['bill_depth_mm'].mean()\n",
    "gentoo_bill_length = gentoo_df['bill_depth_mm'].mean()\n",
    "chinstrap_bill_length = chinstrap_df['bill_depth_mm'].mean()\n",
    "adelie_bill_length"
   ]
  },
  {
   "cell_type": "code",
   "execution_count": 56,
   "id": "62baa754-d8ce-4fe4-9409-ed27b490370c",
   "metadata": {},
   "outputs": [],
   "source": [
    "adelie_average = adelie_df[adelie_df['bill_depth_mm'] >= adelie_bill_length]\n",
    "gentoo_average = gentoo_df[gentoo_df['bill_depth_mm'] >= gentoo_bill_length]\n",
    "chinstrap_average = chinstrap_df[chinstrap_df['bill_depth_mm'] >= chinstrap_bill_length]"
   ]
  },
  {
   "cell_type": "code",
   "execution_count": 57,
   "id": "bb5c2c99-e00b-403c-82fa-75189d742071",
   "metadata": {},
   "outputs": [
    {
     "data": {
      "text/plain": [
       "island\n",
       "Dream        29\n",
       "Torgersen    26\n",
       "Biscoe       22\n",
       "Name: count, dtype: int64"
      ]
     },
     "execution_count": 57,
     "metadata": {},
     "output_type": "execute_result"
    }
   ],
   "source": [
    "adelie_average['island'].value_counts()"
   ]
  },
  {
   "cell_type": "code",
   "execution_count": 58,
   "id": "2d66a5e6-24fc-441e-a838-37d118619e46",
   "metadata": {},
   "outputs": [
    {
     "data": {
      "text/plain": [
       "island\n",
       "Biscoe    63\n",
       "Name: count, dtype: int64"
      ]
     },
     "execution_count": 58,
     "metadata": {},
     "output_type": "execute_result"
    }
   ],
   "source": [
    "gentoo_average['island'].value_counts()"
   ]
  },
  {
   "cell_type": "code",
   "execution_count": 59,
   "id": "2d2f6dc6-fa84-4c78-9bbb-efa9482f6c2c",
   "metadata": {},
   "outputs": [
    {
     "data": {
      "text/plain": [
       "island\n",
       "Dream    34\n",
       "Name: count, dtype: int64"
      ]
     },
     "execution_count": 59,
     "metadata": {},
     "output_type": "execute_result"
    }
   ],
   "source": [
    "chinstrap_average['island'].value_counts()"
   ]
  },
  {
   "cell_type": "markdown",
   "id": "4420eb98-5c0a-4151-b712-6ed08c231121",
   "metadata": {},
   "source": [
    "<br>\n",
    "<h4>For Adelie Palmer Penguin, the highest population of penguins with the average bill depth is: <strong>Dream Island</strong></h4>\n",
    "<h4>While, for Gentoo Palmer Penguin, the highest population of penguins with the average bill depth is no other than: <strong>Biscoe Island</strong></h4>\n",
    "<h4>Lastly, for Chinstrap Palmer Penguins, the highest population of penguins with the average bill depth is no other than: <strong>Dream Island</strong></h4>\n",
    "<p><i>INSIGHT:</i> Adelie Palmer Penguins are widely scattered in the different Island, as shown by the data above.</p>\n",
    "<hr>\n",
    "<br>"
   ]
  },
  {
   "cell_type": "markdown",
   "id": "8aa66b9a-790f-46f7-a699-36e7eec5aedf",
   "metadata": {},
   "source": [
    "<br>\n",
    "<br>\n",
    "<h2>QUESTION 6: HOW MANY FEMALE PALMER PENGUINS DOES EACH ISLAND HAVE?</h2>\n",
    "<hr>"
   ]
  },
  {
   "cell_type": "code",
   "execution_count": 60,
   "id": "e5f842fe-61c8-4d67-9e3b-b9d415571707",
   "metadata": {},
   "outputs": [
    {
     "data": {
      "text/plain": [
       "sex\n",
       "male      88\n",
       "female    80\n",
       "Name: count, dtype: int64"
      ]
     },
     "execution_count": 60,
     "metadata": {},
     "output_type": "execute_result"
    }
   ],
   "source": [
    "data[data['island'] == 'Biscoe']['sex'].value_counts()"
   ]
  },
  {
   "cell_type": "code",
   "execution_count": 61,
   "id": "e95de8e1-d65f-4a90-b533-f89b55a42dd2",
   "metadata": {},
   "outputs": [
    {
     "data": {
      "text/plain": [
       "sex\n",
       "male      63\n",
       "female    61\n",
       "Name: count, dtype: int64"
      ]
     },
     "execution_count": 61,
     "metadata": {},
     "output_type": "execute_result"
    }
   ],
   "source": [
    "data[data['island'] == 'Dream']['sex'].value_counts()"
   ]
  },
  {
   "cell_type": "code",
   "execution_count": 62,
   "id": "7f463d96-de5b-47ef-b09b-8e6412ba6ee0",
   "metadata": {},
   "outputs": [
    {
     "data": {
      "text/plain": [
       "sex\n",
       "male      28\n",
       "female    24\n",
       "Name: count, dtype: int64"
      ]
     },
     "execution_count": 62,
     "metadata": {},
     "output_type": "execute_result"
    }
   ],
   "source": [
    "data[data['island'] == 'Torgersen']['sex'].value_counts()"
   ]
  },
  {
   "cell_type": "markdown",
   "id": "564ffd75-c973-45d8-9cbe-0e14ae4140bc",
   "metadata": {},
   "source": [
    "<br>\n",
    "<h4>In Biscoe Island, the population of female Palmer Penguin is: <strong>80</strong></h4>\n",
    "<h4>While,the population of female Palmer Penguin in Dream Island is: <strong>61</strong></h4>\n",
    "<h4>Lastly,the population of female Palmer Penguin in Torgersen Island is: <strong>24</strong></h4>\n",
    "<p><i>INSIGHT:</i> The Biscoe Island would undoubtedly have the highest birth rate, since it has the most female penguins that has the ability to reproduce more offsprings.</p>\n",
    "<hr>\n",
    "<br>"
   ]
  },
  {
   "cell_type": "markdown",
   "id": "4d2b4701-419f-4245-8fd6-c23114f6f93f",
   "metadata": {},
   "source": [
    "<br>\n",
    "<br>\n",
    "<h2>QUESTION 7: HOW MANY PALMER PENGUINS HAS BELOW AVERAGE BODY MASS IN 2009?</h2>\n",
    "<hr>"
   ]
  },
  {
   "cell_type": "code",
   "execution_count": 63,
   "id": "10498e2b-6c0d-4ee6-8fc4-bc9378f38564",
   "metadata": {},
   "outputs": [
    {
     "data": {
      "text/plain": [
       "np.float64(4.2075)"
      ]
     },
     "execution_count": 63,
     "metadata": {},
     "output_type": "execute_result"
    }
   ],
   "source": [
    "mass_ave = data[data['year'] == 2009]['mass_kg'].mean()\n",
    "mass_ave"
   ]
  },
  {
   "cell_type": "code",
   "execution_count": 64,
   "id": "cf3ee2ed-0537-4df3-b3ea-0625bbe4b5c7",
   "metadata": {},
   "outputs": [
    {
     "name": "stdout",
     "output_type": "stream",
     "text": [
      "<class 'pandas.core.frame.DataFrame'>\n",
      "Index: 69 entries, 100 to 343\n",
      "Data columns (total 9 columns):\n",
      " #   Column             Non-Null Count  Dtype   \n",
      "---  ------             --------------  -----   \n",
      " 0   species            69 non-null     category\n",
      " 1   island             69 non-null     category\n",
      " 2   bill_length_mm     69 non-null     float64 \n",
      " 3   bill_depth_mm      69 non-null     float64 \n",
      " 4   flipper_length_mm  69 non-null     float64 \n",
      " 5   body_mass_g        69 non-null     float64 \n",
      " 6   sex                69 non-null     category\n",
      " 7   year               69 non-null     category\n",
      " 8   mass_kg            69 non-null     float64 \n",
      "dtypes: category(4), float64(5)\n",
      "memory usage: 4.0 KB\n"
     ]
    }
   ],
   "source": [
    "data[(data['mass_kg'] <= mass_ave) & (data['year'] == 2009)].info()"
   ]
  },
  {
   "cell_type": "markdown",
   "id": "45dd6f8f-498f-4b72-9438-dd9fc63e9c2c",
   "metadata": {},
   "source": [
    "<br>\n",
    "<h4>The number of Penguins that have below average body mass is <strong>69 population</strong></h4>\n",
    "<p><i>INSIGHT:</i> Shown above is the data that shows the number of population that has below average body mass</p>\n",
    "<hr>\n",
    "<br>"
   ]
  },
  {
   "cell_type": "markdown",
   "id": "58563e8b-eb14-416c-bc65-e58dfe305646",
   "metadata": {},
   "source": [
    "<br>\n",
    "<br>\n",
    "<h2>PART 2:</h2>"
   ]
  },
  {
   "cell_type": "markdown",
   "id": "6f1fa246-7b68-4f15-a5b3-85e0167bdff2",
   "metadata": {},
   "source": [
    "<br>\n",
    "<br>\n",
    "<h2>QUESTION 8: WHAT ISLAND HOST THE HIGHEST AVERAGE BODY MASS OF A PALMER PENGUIN PER SPECIES? WHAT VALUE IS THE HIGHEST AVERAGE BODY MASS?</h2>\n",
    "<hr>"
   ]
  },
  {
   "cell_type": "code",
   "execution_count": 98,
   "id": "24cb5607-7bc6-4e88-b23e-d5a8b83d861a",
   "metadata": {},
   "outputs": [
    {
     "data": {
      "text/plain": [
       "species    island   \n",
       "Adelie     Biscoe       3.72\n",
       "           Dream        3.69\n",
       "           Torgersen    3.71\n",
       "Chinstrap  Biscoe        NaN\n",
       "           Dream        3.73\n",
       "           Torgersen     NaN\n",
       "Gentoo     Biscoe       5.07\n",
       "           Dream         NaN\n",
       "           Torgersen     NaN\n",
       "Name: mass_kg, dtype: float64"
      ]
     },
     "execution_count": 98,
     "metadata": {},
     "output_type": "execute_result"
    }
   ],
   "source": [
    "highest_average_mass = np.round(data.groupby(['species', 'island'])['mass_kg'].mean(), 2)\n",
    "highest_average_mass"
   ]
  },
  {
   "cell_type": "markdown",
   "id": "c147eeac-5742-447d-875d-212b3243c8c4",
   "metadata": {},
   "source": [
    "<br>\n",
    "<h4>The island that host the Adelie species with the highest average body mass is : <strong>Biscoe Island</strong></h4>\n",
    "<h4>While, the Chinstrap species resides in : <strong>Dream Island</strong></h4>\n",
    "<h4>Lastly, the Gentoo species resides in : <strong>Biscoe Island</strong></h4>\n",
    "<p><i>INSIGHT:</i> Shown above, the Gentoo species holds the title with the highest average body mass.</p>\n",
    "<hr>\n",
    "<br>"
   ]
  },
  {
   "cell_type": "markdown",
   "id": "0db75c01-94ca-4c1d-b403-3022287f28f3",
   "metadata": {},
   "source": [
    "   <h3 style=\"text-align: right; margin-right: 80px;\">Analyst : Jay Cee I. Macaraig</h3>\n",
    "   <h3 style=\"text-align: right; margin-right: 80px;\">BSIT-3B</h3>"
   ]
  },
  {
   "cell_type": "code",
   "execution_count": null,
   "id": "aaae55eb-7c7d-4fd3-9b8b-76fa01f52348",
   "metadata": {},
   "outputs": [],
   "source": []
  },
  {
   "cell_type": "code",
   "execution_count": null,
   "id": "4f324d61-14fa-42a3-8526-622890513979",
   "metadata": {},
   "outputs": [],
   "source": []
  }
 ],
 "metadata": {
  "kernelspec": {
   "display_name": "Python 3 (ipykernel)",
   "language": "python",
   "name": "python3"
  },
  "language_info": {
   "codemirror_mode": {
    "name": "ipython",
    "version": 3
   },
   "file_extension": ".py",
   "mimetype": "text/x-python",
   "name": "python",
   "nbconvert_exporter": "python",
   "pygments_lexer": "ipython3",
   "version": "3.13.1"
  }
 },
 "nbformat": 4,
 "nbformat_minor": 5
}
